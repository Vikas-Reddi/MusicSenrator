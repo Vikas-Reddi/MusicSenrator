{
  "nbformat": 4,
  "nbformat_minor": 0,
  "metadata": {
    "colab": {
      "provenance": []
    },
    "kernelspec": {
      "name": "python3",
      "display_name": "Python 3"
    },
    "language_info": {
      "name": "python"
    }
  },
  "cells": [
    {
      "cell_type": "code",
      "source": [
        "!pip install pretty_midi"
      ],
      "metadata": {
        "colab": {
          "base_uri": "https://localhost:8080/"
        },
        "id": "tdTjgL7vOLGT",
        "outputId": "350bfa95-4dc1-4726-ee63-4ee31d0d6025"
      },
      "execution_count": null,
      "outputs": [
        {
          "output_type": "stream",
          "name": "stdout",
          "text": [
            "Collecting pretty_midi\n",
            "  Downloading pretty_midi-0.2.10.tar.gz (5.6 MB)\n",
            "\u001b[2K     \u001b[90m━━━━━━━━━━━━━━━━━━━━━━━━━━━━━━━━━━━━━━━━\u001b[0m \u001b[32m5.6/5.6 MB\u001b[0m \u001b[31m34.0 MB/s\u001b[0m eta \u001b[36m0:00:00\u001b[0m\n",
            "\u001b[?25h  Preparing metadata (setup.py) ... \u001b[?25l\u001b[?25hdone\n",
            "Requirement already satisfied: numpy>=1.7.0 in /usr/local/lib/python3.10/dist-packages (from pretty_midi) (1.26.4)\n",
            "Collecting mido>=1.1.16 (from pretty_midi)\n",
            "  Downloading mido-1.3.3-py3-none-any.whl.metadata (6.4 kB)\n",
            "Requirement already satisfied: six in /usr/local/lib/python3.10/dist-packages (from pretty_midi) (1.16.0)\n",
            "Requirement already satisfied: packaging in /usr/local/lib/python3.10/dist-packages (from mido>=1.1.16->pretty_midi) (24.2)\n",
            "Downloading mido-1.3.3-py3-none-any.whl (54 kB)\n",
            "\u001b[2K   \u001b[90m━━━━━━━━━━━━━━━━━━━━━━━━━━━━━━━━━━━━━━━━\u001b[0m \u001b[32m54.6/54.6 kB\u001b[0m \u001b[31m3.0 MB/s\u001b[0m eta \u001b[36m0:00:00\u001b[0m\n",
            "\u001b[?25hBuilding wheels for collected packages: pretty_midi\n",
            "  Building wheel for pretty_midi (setup.py) ... \u001b[?25l\u001b[?25hdone\n",
            "  Created wheel for pretty_midi: filename=pretty_midi-0.2.10-py3-none-any.whl size=5592287 sha256=402493036fec21c2a66fae0229f7a9d2739b1fe54431fccf3206794472ea0bfb\n",
            "  Stored in directory: /root/.cache/pip/wheels/cd/a5/30/7b8b7f58709f5150f67f98fde4b891ebf0be9ef07a8af49f25\n",
            "Successfully built pretty_midi\n",
            "Installing collected packages: mido, pretty_midi\n",
            "Successfully installed mido-1.3.3 pretty_midi-0.2.10\n"
          ]
        }
      ]
    },
    {
      "cell_type": "code",
      "source": [
        "seed = 42\n",
        "\n",
        "\n",
        "# Sampling rate for audio playback\n",
        "_SAMPLING_RATE = 16000"
      ],
      "metadata": {
        "id": "YtzNVQwhOokW"
      },
      "execution_count": null,
      "outputs": []
    },
    {
      "cell_type": "code",
      "source": [
        "!pip install pyfluidsynth"
      ],
      "metadata": {
        "colab": {
          "base_uri": "https://localhost:8080/"
        },
        "id": "6sSydEV-g_CS",
        "outputId": "cac3f39a-e88f-435a-c577-d957a25597e2"
      },
      "execution_count": null,
      "outputs": [
        {
          "output_type": "stream",
          "name": "stdout",
          "text": [
            "Collecting pyfluidsynth\n",
            "  Downloading pyfluidsynth-1.3.4-py3-none-any.whl.metadata (7.5 kB)\n",
            "Requirement already satisfied: numpy in /usr/local/lib/python3.10/dist-packages (from pyfluidsynth) (1.26.4)\n",
            "Downloading pyfluidsynth-1.3.4-py3-none-any.whl (22 kB)\n",
            "Installing collected packages: pyfluidsynth\n",
            "Successfully installed pyfluidsynth-1.3.4\n"
          ]
        }
      ]
    },
    {
      "cell_type": "code",
      "source": [
        "!pip install --upgrade pyfluidsynth"
      ],
      "metadata": {
        "colab": {
          "base_uri": "https://localhost:8080/"
        },
        "id": "av_8gVX-hft3",
        "outputId": "051f15b1-bec1-4ba3-8511-65210ef57b15"
      },
      "execution_count": null,
      "outputs": [
        {
          "output_type": "stream",
          "name": "stdout",
          "text": [
            "Requirement already satisfied: pyfluidsynth in /usr/local/lib/python3.10/dist-packages (1.3.4)\n",
            "Requirement already satisfied: numpy in /usr/local/lib/python3.10/dist-packages (from pyfluidsynth) (1.26.4)\n"
          ]
        }
      ]
    },
    {
      "source": [
        "import pretty_midi\n",
        "from IPython import display\n",
        "\n",
        "\n",
        "pm = pretty_midi.PrettyMIDI(\"/content/DataSet/Rock/6th_avenue_heartache.mid\")\n",
        "\n"
      ],
      "cell_type": "code",
      "metadata": {
        "id": "9_0zusYqhN16"
      },
      "execution_count": null,
      "outputs": []
    },
    {
      "cell_type": "code",
      "source": [
        "print('Number of instruments:', len(pm.instruments))\n",
        "instrument = pm.instruments\n",
        "\n",
        "instrument_name =[pretty_midi.program_to_instrument_name(i.program) for i in instrument]\n",
        "print('Instrument name:', instrument_name)"
      ],
      "metadata": {
        "colab": {
          "base_uri": "https://localhost:8080/"
        },
        "id": "11KPdhcbOuzf",
        "outputId": "c8c9a3af-0423-466f-c75a-87cfb6793dd2"
      },
      "execution_count": null,
      "outputs": [
        {
          "output_type": "stream",
          "name": "stdout",
          "text": [
            "Number of instruments: 10\n",
            "Instrument name: ['Acoustic Guitar (steel)', 'Electric Guitar (jazz)', 'Acoustic Guitar (steel)', 'Acoustic Guitar (steel)', 'Acoustic Bass', 'Overdriven Guitar', 'Electric Guitar (muted)', 'Drawbar Organ', 'Trombone', 'Acoustic Grand Piano']\n"
          ]
        }
      ]
    },
    {
      "cell_type": "code",
      "source": [
        "for i, note in enumerate(instrument.notes[:10]):\n",
        "  note_name = pretty_midi.note_number_to_name(note.pitch)\n",
        "  duration = note.end - note.start\n",
        "  print(f'{i}: pitch={note.pitch}, note_name={note_name},'\n",
        "        f' duration={duration:.4f}')"
      ],
      "metadata": {
        "colab": {
          "base_uri": "https://localhost:8080/"
        },
        "id": "XgjdNWBzgI8d",
        "outputId": "ddb0a671-76ac-4004-936c-55faa17b12cb"
      },
      "execution_count": null,
      "outputs": [
        {
          "output_type": "stream",
          "name": "stdout",
          "text": [
            "0: pitch=81, note_name=A5, duration=0.1607\n",
            "1: pitch=71, note_name=B4, duration=0.0804\n",
            "2: pitch=72, note_name=C5, duration=0.0804\n",
            "3: pitch=71, note_name=B4, duration=0.0804\n",
            "4: pitch=72, note_name=C5, duration=0.0804\n",
            "5: pitch=71, note_name=B4, duration=0.0804\n",
            "6: pitch=72, note_name=C5, duration=0.0804\n",
            "7: pitch=71, note_name=B4, duration=0.0804\n",
            "8: pitch=72, note_name=C5, duration=0.0804\n",
            "9: pitch=69, note_name=A4, duration=0.0804\n"
          ]
        }
      ]
    },
    {
      "cell_type": "code",
      "source": [
        "!pip install pandas"
      ],
      "metadata": {
        "colab": {
          "base_uri": "https://localhost:8080/"
        },
        "id": "-pwRepikiTwp",
        "outputId": "50c41345-0ed9-40fb-d3fe-fe95dd340ef4"
      },
      "execution_count": null,
      "outputs": [
        {
          "output_type": "stream",
          "name": "stdout",
          "text": [
            "Requirement already satisfied: pandas in /usr/local/lib/python3.10/dist-packages (2.2.2)\n",
            "Requirement already satisfied: numpy>=1.22.4 in /usr/local/lib/python3.10/dist-packages (from pandas) (1.26.4)\n",
            "Requirement already satisfied: python-dateutil>=2.8.2 in /usr/local/lib/python3.10/dist-packages (from pandas) (2.8.2)\n",
            "Requirement already satisfied: pytz>=2020.1 in /usr/local/lib/python3.10/dist-packages (from pandas) (2024.2)\n",
            "Requirement already satisfied: tzdata>=2022.7 in /usr/local/lib/python3.10/dist-packages (from pandas) (2024.2)\n",
            "Requirement already satisfied: six>=1.5 in /usr/local/lib/python3.10/dist-packages (from python-dateutil>=2.8.2->pandas) (1.16.0)\n"
          ]
        }
      ]
    },
    {
      "cell_type": "code",
      "source": [
        "import collections\n",
        "import numpy as np\n",
        "import pandas as pd\n",
        "def midi_to_notes(midi_file: str) -> pd.DataFrame:\n",
        "  pm = pretty_midi.PrettyMIDI(midi_file)\n",
        "  instrument = pm.instruments[0]\n",
        "  notes = collections.defaultdict(list)\n",
        "\n",
        "  # Sort the notes by start time\n",
        "  sorted_notes = sorted(instrument.notes, key=lambda note: note.start)\n",
        "  prev_start = sorted_notes[0].start\n",
        "\n",
        "  for note in sorted_notes:\n",
        "    start = note.start\n",
        "    end = note.end\n",
        "    notes['pitch'].append(note.pitch)\n",
        "    notes['start'].append(start)\n",
        "    notes['end'].append(end)\n",
        "    notes['step'].append(start - prev_start)\n",
        "    notes['duration'].append(end - start)\n",
        "    prev_start = start\n",
        "\n",
        "  return pd.DataFrame({name: np.array(value) for name, value in notes.items()})"
      ],
      "metadata": {
        "id": "iavrAcX7gfpY"
      },
      "execution_count": null,
      "outputs": []
    },
    {
      "source": [
        "def midi_to_notes(midi_file: str) -> pd.DataFrame:\n",
        "    \"\"\"Convert MIDI file to a Pandas DataFrame of notes.\"\"\"\n",
        "    try:\n",
        "        pm = pretty_midi.PrettyMIDI(midi_file)\n",
        "        instrument = pm.instruments[0]\n",
        "        notes = collections.defaultdict(list)\n",
        "\n",
        "        sorted_notes = sorted(instrument.notes, key=lambda note: note.start)\n",
        "        prev_start = sorted_notes[0].start\n",
        "\n",
        "        for note in sorted_notes:\n",
        "            start = note.start\n",
        "            end = note.end\n",
        "            notes['pitch'].append(note.pitch)\n",
        "            notes['start'].append(start)\n",
        "            notes['end'].append(end)\n",
        "            notes['step'].append(start - prev_start)\n",
        "            notes['duration'].append(end - start)\n",
        "            prev_start = start\n",
        "\n",
        "        return pd.DataFrame({name: np.array(value) for name, value in notes.items()})\n",
        "\n",
        "\n",
        "\n",
        "    except OSError as e:\n",
        "        if \"data byte must be in range 0..127\" in str(e):\n",
        "            print(f\"Skipping file {midi_file} due to invalid data byte.\")\n",
        "            return None  # Return None to indicate skipping\n",
        "        else:\n",
        "            raise  # Re-raise other exceptions\n",
        "    except EOFError:\n",
        "        print(f\"Skipping file {midi_file} due to EOFError (likely corrupted).\")\n",
        "        return None # Return None to indicate skipping"
      ],
      "cell_type": "code",
      "metadata": {
        "id": "yY6kEmrgR6NE"
      },
      "execution_count": null,
      "outputs": []
    },
    {
      "cell_type": "code",
      "source": [
        "raw_notes = midi_to_notes(\"/content/DataSet/Rock/17.mid\")\n",
        "print(raw_notes)"
      ],
      "metadata": {
        "colab": {
          "base_uri": "https://localhost:8080/"
        },
        "id": "0IPq4oCIiODT",
        "outputId": "88470f44-e14d-4d97-ffe6-3eb2d1d6c8de"
      },
      "execution_count": null,
      "outputs": [
        {
          "output_type": "stream",
          "name": "stdout",
          "text": [
            "    pitch    start      end    step  duration\n",
            "0      50   0.0000   3.9375  0.0000    3.9375\n",
            "1      57   0.0000   3.9375  0.0000    3.9375\n",
            "2      62   0.0000   3.9375  0.0000    3.9375\n",
            "3      66   0.0000   3.9375  0.0000    3.9375\n",
            "4      69   2.0625   2.4375  2.0625    0.3750\n",
            "5      69   2.4375   6.5625  0.3750    4.1250\n",
            "6      67   3.1875   3.9375  0.7500    0.7500\n",
            "7      57   3.9375   4.6875  0.7500    0.7500\n",
            "8      50   3.9375   5.0625  0.0000    1.1250\n",
            "9      62   3.9375   5.4375  0.0000    1.5000\n",
            "10     66   3.9375   5.8125  0.0000    1.8750\n",
            "11     57   4.6875   8.4375  0.7500    3.7500\n",
            "12     50   5.0625   8.4375  0.3750    3.3750\n",
            "13     62   5.4375   8.4375  0.3750    3.0000\n",
            "14     66   5.8125   8.4375  0.3750    2.6250\n",
            "15     69   6.5625   6.9375  0.7500    0.3750\n",
            "16     69   6.9375   7.6875  0.3750    0.7500\n",
            "17     71   7.6875   8.6250  0.7500    0.9375\n",
            "18     57   8.4375   9.9375  0.7500    1.5000\n",
            "19     62   8.4375  10.3125  0.0000    1.8750\n",
            "20     66   8.4375  10.6875  0.0000    2.2500\n",
            "21     50   8.4375  10.8750  0.0000    2.4375\n",
            "22     57   9.9375  10.8750  1.5000    0.9375\n",
            "23     62  10.3125  11.2500  0.3750    0.9375\n",
            "24     66  10.6875  14.0625  0.3750    3.3750\n",
            "25     62  11.2500  11.8125  0.5625    0.5625\n",
            "26     62  11.8125  14.8125  0.5625    3.0000\n",
            "27     69  12.1875  13.1250  0.3750    0.9375\n",
            "28     71  12.7500  14.2500  0.5625    1.5000\n",
            "29     69  13.1250  14.2500  0.3750    1.1250\n",
            "30     67  13.6875  14.2500  0.5625    0.5625\n",
            "31     66  14.0625  14.8125  0.3750    0.7500\n",
            "32     50  14.8125  15.5625  0.7500    0.7500\n",
            "33     62  14.8125  15.5625  0.0000    0.7500\n",
            "34     69  14.8125  15.5625  0.0000    0.7500\n",
            "35     66  14.8125  15.5625  0.0000    0.7500\n",
            "36     57  14.8125  15.5625  0.0000    0.7500\n",
            "37     50  15.5625  16.3125  0.7500    0.7500\n",
            "38     62  15.5625  16.3125  0.0000    0.7500\n",
            "39     69  15.5625  16.3125  0.0000    0.7500\n",
            "40     57  15.5625  16.3125  0.0000    0.7500\n",
            "41     66  15.5625  16.3125  0.0000    0.7500\n",
            "42     55  16.3125  17.0625  0.7500    0.7500\n",
            "43     71  16.3125  17.0625  0.0000    0.7500\n",
            "44     67  16.3125  17.0625  0.0000    0.7500\n",
            "45     62  16.3125  17.0625  0.0000    0.7500\n"
          ]
        }
      ]
    },
    {
      "cell_type": "code",
      "source": [
        "get_note_names = np.vectorize(pretty_midi.note_number_to_name)\n",
        "sample_note_names = get_note_names(raw_notes['pitch'])\n",
        "sample_note_names[:10]"
      ],
      "metadata": {
        "colab": {
          "base_uri": "https://localhost:8080/"
        },
        "id": "k9lk_9Nsi-Qv",
        "outputId": "a1d8f046-3646-4085-87e2-61e3b0593009"
      },
      "execution_count": null,
      "outputs": [
        {
          "output_type": "execute_result",
          "data": {
            "text/plain": [
              "array(['A2', 'A2', 'A2', 'A2', 'A2', 'G2', 'G2', 'G2', 'G2', 'G2'],\n",
              "      dtype='<U3')"
            ]
          },
          "metadata": {},
          "execution_count": 54
        }
      ]
    },
    {
      "cell_type": "code",
      "source": [
        "import matplotlib.pyplot as plt\n",
        "from typing import Optional"
      ],
      "metadata": {
        "id": "JbL45fSXjJKB"
      },
      "execution_count": null,
      "outputs": []
    },
    {
      "cell_type": "code",
      "source": [
        "def plot_piano_roll(notes: pd.DataFrame, count: Optional[int] = None):\n",
        "  if count:\n",
        "    title = f'First {count} notes'\n",
        "  else:\n",
        "    title = f'Whole track'\n",
        "    count = len(notes['pitch'])\n",
        "  plt.figure(figsize=(20, 4))\n",
        "  plot_pitch = np.stack([notes['pitch'], notes['pitch']], axis=0)\n",
        "  plot_start_stop = np.stack([notes['start'], notes['end']], axis=0)\n",
        "  plt.plot(\n",
        "      plot_start_stop[:, :count], plot_pitch[:, :count], color=\"b\", marker=\".\")\n",
        "  plt.xlabel('Time [s]')\n",
        "  plt.ylabel('Pitch')\n",
        "  _ = plt.title(title)"
      ],
      "metadata": {
        "id": "rWSseGT1jE-W"
      },
      "execution_count": null,
      "outputs": []
    },
    {
      "cell_type": "code",
      "source": [
        "plot_piano_roll(raw_notes)"
      ],
      "metadata": {
        "colab": {
          "base_uri": "https://localhost:8080/",
          "height": 272
        },
        "id": "eRNSrPOWjOj0",
        "outputId": "6db7a1a2-9d50-472e-a34b-4d676166eebb"
      },
      "execution_count": null,
      "outputs": [
        {
          "output_type": "display_data",
          "data": {
            "text/plain": [
              "<Figure size 2000x400 with 1 Axes>"
            ],
            "image/png": "[encoded data removed]"
          },
          "metadata": {}
        }
      ]
    },
    {
      "cell_type": "code",
      "source": [
        "import seaborn as sns"
      ],
      "metadata": {
        "id": "hvW3ZRcZjyQo"
      },
      "execution_count": null,
      "outputs": []
    },
    {
      "cell_type": "code",
      "source": [
        "def plot_distributions(notes: pd.DataFrame, drop_percentile=2.5):\n",
        "  plt.figure(figsize=[15, 5])\n",
        "  plt.subplot(1, 3, 1)\n",
        "  sns.histplot(notes, x=\"pitch\", bins=20)\n",
        "\n",
        "  plt.subplot(1, 3, 2)\n",
        "  max_step = np.percentile(notes['step'], 100 - drop_percentile)\n",
        "  sns.histplot(notes, x=\"step\", bins=np.linspace(0, max_step, 21))\n",
        "\n",
        "  plt.subplot(1, 3, 3)\n",
        "  max_duration = np.percentile(notes['duration'], 100 - drop_percentile)\n",
        "  sns.histplot(notes, x=\"duration\", bins=np.linspace(0, max_duration, 21))"
      ],
      "metadata": {
        "id": "upZxPnyujpFZ"
      },
      "execution_count": null,
      "outputs": []
    },
    {
      "cell_type": "code",
      "source": [
        "plot_distributions(raw_notes)"
      ],
      "metadata": {
        "colab": {
          "base_uri": "https://localhost:8080/",
          "height": 395
        },
        "id": "3YyZuagGj0I9",
        "outputId": "994bd7a6-ae82-47a7-f2c4-829e0a93c5c9"
      },
      "execution_count": null,
      "outputs": [
        {
          "output_type": "display_data",
          "data": {
            "text/plain": [
              "<Figure size 1500x500 with 3 Axes>"
            ],
            "image/png": "[encoded data removed]"
          },
          "metadata": {}
        }
      ]
    },
    {
      "cell_type": "code",
      "source": [
        "def notes_to_midi(\n",
        "  notes: pd.DataFrame,\n",
        "  out_file: str,\n",
        "  instrument_name: str,\n",
        "  velocity: int = 100,  # note loudness\n",
        ") -> pretty_midi.PrettyMIDI:\n",
        "\n",
        "  pm = pretty_midi.PrettyMIDI()\n",
        "  instrument = pretty_midi.Instrument(\n",
        "      program=pretty_midi.instrument_name_to_program(\n",
        "          instrument_name))\n",
        "\n",
        "  prev_start = 0\n",
        "  for i, note in notes.iterrows():\n",
        "    start = float(prev_start + note['step'])\n",
        "    end = float(start + note['duration'])\n",
        "    note = pretty_midi.Note(\n",
        "        velocity=velocity,\n",
        "        pitch=int(note['pitch']),\n",
        "        start=start,\n",
        "        end=end,\n",
        "    )\n",
        "    instrument.notes.append(note)\n",
        "    prev_start = start\n",
        "\n",
        "  pm.instruments.append(instrument)\n",
        "  pm.write(out_file)\n",
        "  return pm"
      ],
      "metadata": {
        "id": "dCHQ7YM5j6uo"
      },
      "execution_count": null,
      "outputs": []
    },
    {
      "cell_type": "code",
      "source": [
        "def notes_to_midi(\n",
        "  notes: pd.DataFrame,\n",
        "  out_file: str,\n",
        "  instrument_name: str,\n",
        "  velocity: int = 100,  # note loudness\n",
        ") -> pretty_midi.PrettyMIDI:\n",
        "\n",
        "  pm = pretty_midi.PrettyMIDI()\n",
        "  instrument = pretty_midi.Instrument(\n",
        "      program=pretty_midi.instrument_name_to_program(\n",
        "          instrument_name))\n",
        "\n",
        "  prev_start = 0\n",
        "  for i, note in notes.iterrows():\n",
        "    start = float(prev_start + note['step'])\n",
        "    end = float(start + note['duration'])\n",
        "    note = pretty_midi.Note(\n",
        "        velocity=velocity,\n",
        "        pitch=int(note['pitch']),\n",
        "        start=start,\n",
        "        end=end,\n",
        "    )\n",
        "    instrument.notes.append(note)\n",
        "    prev_start = start\n",
        "\n",
        "  pm.instruments.append(instrument)\n",
        "  pm.write(out_file)\n",
        "  return pm"
      ],
      "metadata": {
        "id": "Fom9pBCQqaJY"
      },
      "execution_count": null,
      "outputs": []
    },
    {
      "cell_type": "code",
      "source": [
        "example_file = 'example.midi'\n",
        "example_pm = notes_to_midi(\n",
        "    raw_notes, out_file=example_file, instrument_name=instrument_name)"
      ],
      "metadata": {
        "id": "YKgtjzRQkA0c"
      },
      "execution_count": null,
      "outputs": []
    },
    {
      "cell_type": "code",
      "source": [
        "!pip install pypianoroll\n",
        "!pip install fluidsynth"
      ],
      "metadata": {
        "colab": {
          "base_uri": "https://localhost:8080/"
        },
        "id": "pl38YUPjN_u3",
        "outputId": "09949a8f-3627-49fc-bb80-d74a6f78cd20"
      },
      "execution_count": null,
      "outputs": [
        {
          "output_type": "stream",
          "name": "stdout",
          "text": [
            "Collecting pypianoroll\n",
            "  Downloading pypianoroll-1.0.4-py3-none-any.whl.metadata (3.8 kB)\n",
            "Requirement already satisfied: numpy>=1.12.0 in /usr/local/lib/python3.10/dist-packages (from pypianoroll) (1.26.4)\n",
            "Requirement already satisfied: scipy>=1.0.0 in /usr/local/lib/python3.10/dist-packages (from pypianoroll) (1.13.1)\n",
            "Requirement already satisfied: pretty-midi>=0.2.8 in /usr/local/lib/python3.10/dist-packages (from pypianoroll) (0.2.10)\n",
            "Requirement already satisfied: matplotlib>=1.5 in /usr/local/lib/python3.10/dist-packages (from pypianoroll) (3.8.0)\n",
            "Requirement already satisfied: contourpy>=1.0.1 in /usr/local/lib/python3.10/dist-packages (from matplotlib>=1.5->pypianoroll) (1.3.1)\n",
            "Requirement already satisfied: cycler>=0.10 in /usr/local/lib/python3.10/dist-packages (from matplotlib>=1.5->pypianoroll) (0.12.1)\n",
            "Requirement already satisfied: fonttools>=4.22.0 in /usr/local/lib/python3.10/dist-packages (from matplotlib>=1.5->pypianoroll) (4.54.1)\n",
            "Requirement already satisfied: kiwisolver>=1.0.1 in /usr/local/lib/python3.10/dist-packages (from matplotlib>=1.5->pypianoroll) (1.4.7)\n",
            "Requirement already satisfied: packaging>=20.0 in /usr/local/lib/python3.10/dist-packages (from matplotlib>=1.5->pypianoroll) (24.2)\n",
            "Requirement already satisfied: pillow>=6.2.0 in /usr/local/lib/python3.10/dist-packages (from matplotlib>=1.5->pypianoroll) (11.0.0)\n",
            "Requirement already satisfied: pyparsing>=2.3.1 in /usr/local/lib/python3.10/dist-packages (from matplotlib>=1.5->pypianoroll) (3.2.0)\n",
            "Requirement already satisfied: python-dateutil>=2.7 in /usr/local/lib/python3.10/dist-packages (from matplotlib>=1.5->pypianoroll) (2.8.2)\n",
            "Requirement already satisfied: mido>=1.1.16 in /usr/local/lib/python3.10/dist-packages (from pretty-midi>=0.2.8->pypianoroll) (1.3.3)\n",
            "Requirement already satisfied: six in /usr/local/lib/python3.10/dist-packages (from pretty-midi>=0.2.8->pypianoroll) (1.16.0)\n",
            "Downloading pypianoroll-1.0.4-py3-none-any.whl (26 kB)\n",
            "Installing collected packages: pypianoroll\n",
            "Successfully installed pypianoroll-1.0.4\n",
            "Collecting fluidsynth\n",
            "  Downloading fluidsynth-0.2.tar.gz (3.7 kB)\n",
            "  Preparing metadata (setup.py) ... \u001b[?25l\u001b[?25hdone\n",
            "Building wheels for collected packages: fluidsynth\n",
            "  Building wheel for fluidsynth (setup.py) ... \u001b[?25l\u001b[?25hdone\n",
            "  Created wheel for fluidsynth: filename=fluidsynth-0.2-py3-none-any.whl size=4487 sha256=85ac9ede17d2bd39252b3a2209f7efc53ebd9178c42f77bdfea854e0934a2015\n",
            "  Stored in directory: /root/.cache/pip/wheels/72/5a/bf/347b142f199fb1bea87f16f8970916226951bc359c947ba19b\n",
            "Successfully built fluidsynth\n",
            "Installing collected packages: fluidsynth\n",
            "Successfully installed fluidsynth-0.2\n"
          ]
        }
      ]
    },
    {
      "cell_type": "code",
      "source": [
        "import collections\n",
        "import datetime\n",
        "import fluidsynth\n",
        "import glob\n",
        "import numpy as np\n",
        "import pathlib\n",
        "import pandas as pd\n",
        "import pretty_midi\n",
        "import seaborn as sns\n",
        "import tensorflow as tf\n",
        "\n",
        "from IPython import display\n",
        "from matplotlib import pyplot as plt\n",
        "from typing import Optional"
      ],
      "metadata": {
        "id": "KsBDGgcIkEUc"
      },
      "execution_count": null,
      "outputs": []
    },
    {
      "cell_type": "code",
      "source": [
        "import os\n",
        "fil = os.listdir(\"/content/DataSet/Rock\")\n",
        "print(len(fil))\n",
        "print(fil)"
      ],
      "metadata": {
        "colab": {
          "base_uri": "https://localhost:8080/"
        },
        "id": "BV_Z6sKVOksT",
        "outputId": "55dabc73-50ad-4ce9-9683-28a048f3b6ae"
      },
      "execution_count": null,
      "outputs": [
        {
          "output_type": "stream",
          "name": "stdout",
          "text": [
            "1810\n",
            "['inside_out.mid', 'Its_a_Hard_Life.2.mid', 'jamie.mid', 'fountain_of_salamcis.mid', 'word_of_mouth.mid', 'just_what_i_needed.mid', 'subdivisions.mid', 'Uptown_Girl.1.mid', \"i_don't_want_to_know.mid\", 'bat_out_of_hell.mid', 'Big_Shot.mid', 'all_around_the_world.mid', 'the_clap.mid', 'Starman.mid', 'high_and_dry.mid', 'Mad_Man_Moon.1.mid', 'get_back.mid', 'angry_young_man.mid', 'Blue_Suede_Shoes.4.mid', 'Back_to_You_MTV_Unplugged_version_.mid', 'super_vixen.mid', 'Father_to_Son.mid', 'Wont_Get_Fooled_Again.mid', 'breakthrough.mid', 'drown.mid', 'jealous_guy.mid', 'walla_walla.mid', 'Substitute.mid', \"sweet_child_o'_mine.mid\", 'Thought_Id_Died_and_Gone_to_Heaven.mid', 'another_brick_in_the_wall.mid', 'Lights.mid', 'Summer_of_69.3.mid', 'Big_Shot.1.mid', 'Tea_for_One.mid', 'Piano_Man.4.mid', 'Living_on_My_Own.mid', 'Let_Me_Be_Your_Teddy_Bear.1.mid', 'the_miracle.mid', 'Blowin_in_the_Wind.mid', 'What_Is_and_What_Should_Never_Be.mid', 'estranged.mid', 'life_in_the_fast_lane.mid', 'Everything_I_Do_I_Do_It_For_You.2.mid', 'hey_you.mid', 'Father_to_Son.1.mid', 'whatever.mid', \"don't_look_back_in_anger.mid\", 'faithfully.mid', 'the_mexican_connection.mid', 'Hush.mid', \"wynona's_big_brown_beaver.mid\", 'the_trial.mid', 'nikita.mid', 'Spread_Your_Wings.mid', 'Moby_Dick.mid', 'from_me_to_you.mid', 'sex_type_thing.mid', 'A_Trick_of_the_Tail.1.mid', 'only_you.mid', \"i'm_running.mid\", 'Return_to_Sender.1.mid', 'Under_Pressure.6.mid', 'fun_fun_fun.mid', 'Many_Too_Many.1.mid', 'night_swimming.mid', 'Thank_You.mid', 'daniel.mid', 'I_Just_Cant_Help_Believing.3.mid', 'Killer_Queen.4.mid', 'roadhouse_blues.mid', 'just_a_girl.mid', 'Piano_Man.5.mid', 'Fool_in_the_Rain.mid', 'What_It_Takes.mid', 'Just_the_Way_You_Are.8.mid', 'Be_Good_to_Yourself.mid', 'Cryin.1.mid', 'blood_on_the_rooftops.mid', 'The_Return_of_the_Giant_Hogweed.mid', 'The_Brazilian.mid', 'Crazy_Little_Thing_Called_Love.4.mid', 'love_walks_in.mid', 'Jesus_He_Knows_Me.4.mid', 'Save_Me.2.mid', 'invisible_man.mid', 'Crazy_Little_Thing_Called_Love.1.mid', 'Turn_It_On_Again.2.mid', 'Falling_in_Love_Is_Hard_on_the_Knees_.mid', \"don't_go_away.mid\", 'white_car.mid', 'Communication_Breakdown.mid', 'Highway_Star.mid', 'gold_dust_woman.mid', 'Mr._Bad_Guy.mid', 'Separate_Ways_Words_Apart_.mid', 'firth_of_fifth.mid', 'Death_on_Two_Legs_Dedicated_To..._.mid', 'Piano_Man.8.mid', 'Invisible_Touch.6.mid', \"can't_be_seen.mid\", 'doll_parts.mid', 'standing_in_the_light.mid', 'Ziggy_Stardust.1.mid', 'pride_in_the_name_of_love.mid', 'orange_crush.mid', 'Livin_Lovin_Maid.1.mid', 'leningrad.mid', 'Cant_Help_Falling_in_Love.3.mid', 'invisible_touch.mid', 'innuendo.mid', 'Positively_4th_Street.mid', \"rock'n_me.mid\", 'planet_telex.mid', 'come_as_you_are.mid', 'makin_whoopee.mid', 'Open_Arms.1.mid', 'take_the_money_and_run.mid', 'Somebody_to_Love.6.mid', 'Turn_It_On_Again.1.mid', 'Under_Pressure.5.mid', 'whats_the_frequency_kenneth.mid', 'matter_of_trust.mid', 'Heroes.mid', 'Burning_Love.mid', 'jesus_he_knows_me.mid', '39.mid', 'silent_running.mid', '86.mid', 'These_Are_the_Days_of_Our_Lives.mid', 'Radio_Ga_Ga.4.mid', 'Dont_Stop_Believin.1.mid', 'Blue_Suede_Shoes.1.mid', 'Woman_From_Tokyo.mid', 'morning_glory.mid', 'The_Invisible_Man.1.mid', '316.mid', 'she.mid', 'spirit_of_radio.mid', 'when_love_and_hate_collide.mid', 'breathe.mid', 'knife.mid', 'roll_the_bones.mid', 'Bron-Y-Aur_Stomp.2.mid', '17.mid', \"i'll_wait.mid\", 'Whos_Crying_Now.2.mid', 'Heaven.1.mid', 'coma (1).mid', 'gun.mid', 'Immigrant_Song.4.mid', 'Are_You_Lonesome_Tonight.7.mid', 'Stairway_to_Heaven.6.mid', 'Stairway_To_Heaven.3.mid', 'Stairway_To_Heaven.11.mid', 'The_Lamb_Lies_Down_on_Broadway.mid', 'Hammer_to_Fall.mid', 'Soldier_of_Fortune.mid', 'Hots_On_for_Nowhere.mid', 'Suffragette_City.mid', 'Lullabye_Goodnight,_My_Angel_.1.mid', 'Thunderstruck.1.mid', 'Ashes_To_Ashes.mid', 'Send_Her_My_Love.2.mid', 'climbatized.mid', 'Hallelujah.mid', 'get_here.mid', 'hang_in_long_enough.mid', 'Tonight_Tonight_Tonight.3.mid', 'big_man_on_mulberry_street.mid', 'sweet_dreams.mid', 'Thought_Id_Died_and_Gone_to_Heaven.2.mid', 'When_the_Levee_Breaks.2.mid', 'Blind_Man.mid', 'Bonzos_Montreaux.mid', 'Love_Me.mid', 'Ramble_On.mid', 'requiem.mid', 'Hard_Headed_Woman.1.mid', 'with_or_without_you.mid', 'if_i_fall.mid', 'Too_Much_Love_Will_Kill_You.2.mid', 'days_of_our_lives.mid', 'not_enough.mid', 'Land_of_Confusion.3.mid', 'e_bow_the_letter.mid', 'Turn_It_On_Again.3.mid', 'aqua_lung.mid', 'Jailhouse_Rock.mid', 'When_the_Levee_Breaks.1.mid', 'No_Quarter.2.mid', \"i'm_waiting_for_an_answer.mid\", 'Jailhouse_Rock.3.mid', 'Invisible_Touch.3.mid', 'worry_rock.mid', '19th_nervous_breakdown.mid', 'My_Way.mid', 'Another_One_Bites_The_Dust.1.mid', 'release.mid', 'Highway_To_Hell.mid', 'Lullabye_Goodnight,_My_Angel_.mid', \"she's_got_issues.mid\", 'seether.mid', 'Wheel_in_the_Sky.mid', 'man_of_the_world.mid', 'Blue_Christmas.1.mid', 'Who_Made_Who.mid', 'new_kid_in_town.mid', 'Back_to_You.1.mid', 'The_Rain_Song.1.mid', 'Blue_Jean.mid', 'The_River_of_Dreams.3.mid', 'We_Will_Rock_You.1.mid', 'and_i_love_her.mid', 'Too_Much_Love_Will_Kill_You.1.mid', 'fire.mid', 'The_Invisible_Man.2.mid', 'Lazy.mid', 'Miami_2017_Seen_the_Lights_Go_Out_on_Broadway_.mid', 'Dont_Ask_Me_Why.mid', 'bliss.mid', 'Crazy.1.mid', 'the_fly.mid', 'Love_Me_Tender.2.mid', 'In_the_Cage.mid', 'popular.mid', 'separate_ways_worlds_apart.mid', 'session.mid', 'cupid_de_locke.mid', 'Friends.mid', 'New_York_State_of_Mind.2.mid', 'no_son_of_mine.mid', 'Smoke_On_The_Water.2.mid', 'I_Want_You.mid', 'Behind_Blue_Eyes.mid', 'who_wants_to_live_forever.mid', 'walking_contradiction.mid', 'piano_man_classical_version.mid', 'taste.mid', '1983.mid', 'Stairway_to_Heaven.8.mid', 'Crazy_Little_Thing_Called_Love.mid', 'Changes.1.mid', 'Dont_Try_So_Hard.mid', 'peaceful_easy_feeling.mid', 'black_hole_sun.mid', 'TNT.mid', 'piece_of_pie.mid', 'groovy_kind_of_love.mid', 'zombie.mid', 'please.mid', 'Good_Times_Bad_Times.2.mid', 'we_are_the_champions.mid', 'Back_In_Black.1.mid', 'Cant_Stop_This_Thing_We_Started.3.mid', 'rockin_in_the_free_world.mid', 'Blue_Suede_Shoes.mid', 'Bring_It_on_Home.mid', 'cry_to_me.mid', 'crystal_ship.mid', 'alright.mid', 'Sick_Again.mid', 'A_Big_Hunk_O_Love.mid', 'How_Many_More_Times.mid', 'In_the_Ghetto.3.mid', 'Misunderstanding.3.mid', 'a_day_in_the_life.mid', 'big_me.mid', 'The_Show_Must_Go_On.1.mid', 'blaze_of_glory.mid', 'We_Are_The_Champions.9.mid', 'never_say_goodbye.mid', 'bag_of_hammers.mid', 'i_will_remember.mid', 'I_Cant_Live_With_You.1.mid', 'Blue_Suede_Shoes.7.mid', 'time_table.mid', 'hold_my_hand.mid', 'Back_In_Black.mid', 'Movin_Out_Anthonys_Song_.mid', 'Suspicious_Minds.4.mid', 'shakermaker.mid', 'Who_Wants_to_Live_Forever.2.mid', 'i_choose.mid', 'Whos_Crying_Now.1.mid', 'slide.mid', 'Uptown_Girl.2.mid', 'rainbow_blues.mid', 'The_Musical_Box.2.mid', 'Have_Ever_You_Really_Loved_a_Woman.1.mid', 'Your_Time_Is_Gonna_Come.4.mid', 'Candy_Store_Rock.mid', 'The_Knife.mid', 'happiness_is_a_warm_gun.mid', 'Allentown.1.mid', 'art_bell_theme.mid', 'Royal_Orleans.mid', 'deep_kick.mid', 'only_of_you.mid', 'riders_on_the_storm.mid', 'Kiss_Me_Quick.mid', 'Stairway_To_Heaven.1.mid', 'bohemian_rhapsody.mid', 'Cant_Stop_This_Thing_We_Started.mid', 'Cant_Stop_This_Thing_We_Started.4.mid', 'these_eyes.mid', 'one_vision.mid', 'Another_One_Bites_The_Dust.5.mid', 'Killer_Queen.2.mid', 'man_on_the_corner.mid', 'Its_Still_Rock_and_Roll_to_Me.2.mid', 'man_on_the_moon.mid', 'a_taste_of_honey.mid', 'missionary_man.mid', 'goodbye_blue_sky.mid', 'cherub_rock.mid', 'Jesus_He_Knows_Me.2.mid', 'dreams.mid', 'No_Son_of_Mine.4.mid', 'For_Your_Life.mid', 'georgy_porgy.mid', 'land_of_confusion.mid', 'Hard_Headed_Woman.2.mid', 'Good_Luck_Charm.2.mid', 'The_Grand_Parade_of_Lifeless_Packaging.mid', 'rocket.mid', '2000_light_years_away.mid', 'Crazy.2.mid', 'Shes_Got_a_Way.mid', 'still_got_the_blues.mid', \"when_it's_love.mid\", 'Quadrophenia.mid', 'undone_the_sweater_song.mid', 'Faithfully.1.mid', 'love_is_all_around.mid', 'jesus_dont_wantƒr_a_sunbeam.mid', 'Over_the_Hills_and_Far_Away.mid', 'all_apologies.mid', 'Rat_Bat_Blue.mid', 'Babe_Im_Gonna_Leave_You.mid', 'unglued.mid', 'domino.mid', 'Another_One_Bites_The_Dust.3.mid', 'surfer_girl.mid', 'hold_on_my_heart.mid', 'Cat_People.1.mid', 'wonder_wall.mid', 'anything_goes.mid', 'boys_are_back.mid', 'Are_You_Lonesome_Tonight.6.mid', 'brain_damage.mid', 'streets_of_philidelphia.mid', 'spiderwebs.mid', 'can_you_feel_thƒove_tonight.mid', 'my_hero.mid', 'animal.mid', \"that's_all.mid\", 'everyday.mid', 'rhiannon.mid', 'right_now.mid', 'message_in_a_bottle.mid', 'return_of_the_giant_hogweed.mid', 'No_Son_of_Mine.1.mid', 'up_in_arms.mid', 'Dont_Stop_Believin.mid', 'coma.mid', 'radio_free_europe.mid', 'one.mid', 'Carpet_Crawlers.mid', 'thirty_three.mid', 'everlong.mid', 'hot_hot_hot.mid', 'Summertime_Blues.1.mid', 'i_get_around.mid', 'Crying_In_The_Chapel.mid', 'Ozone_Baby.mid', 'movin_out.mid', 'joker.mid', 'Jesus_He_Knows_Me.3.mid', 'across_the_universe.mid', 'in_bloom.mid', 'Piano_Man.3.mid', 'honey_pie.mid', 'Summer_of_69.1.mid', 'I_Dont_Want_to_Miss_a_Thing.mid', 'loud_love.mid', 'babyface.mid', 'downer.mid', 'Dancing_in_the_Street.1.mid', 'aftershock.mid', 'dust_in_the_wind.mid', 'down_in_the_park.mid', 'Mississippi_version_3_.mid', 'All_Along_the_Watchtower.mid', 'A_Kind_of_Magic.2.mid', 'go.mid', 'motgoose.mid', 'lessons_in_love.mid', 'violet.mid', 'cast_no_shadow.mid', \"let's_go_to_bed.mid\", 'pamela.mid', 'emenius_sleepus.mid', 'Youre_The_Devil_in_Disguise.mid', 'My_Generation.1.mid', 'The_Cinema_Show.mid', 'volcano.mid', 'Dance_on_a_Volcano.mid', 'cowboys_from_hell.mid', 'Good_Luck_Charm.mid', 'I_Finally_Found_Someone.2.mid', 'Mama.1.mid', 'I_Cant_Quit_You_Baby.mid', 'intermission.mid', 'The_Rain_Song.2.mid', 'Spread_Your_Wings.1.mid', 'Root_Beer_Rag.1.mid', 'sunday_bloody_sunday.mid', 'abacab.mid', 'Ramble_On.1.mid', 'Who_Wants_to_Live_Forever.3.mid', 'hazy_shade_of_winter.mid', 'Always_on_My_Mind.2.mid', 'Who_Wants_to_Live_Forever.4.mid', 'throwing_it_all_away.mid', 'el_scorcho.mid', 'Entangled.1.mid', 'Its_Still_Rock_n_Roll_to_Me.mid', 'Lily_of_the_Valley.mid', 'The_Song_Remains_The_Same.3.mid', 'In_Only_Seven_Days.mid', 'dance_on_the_volcano.mid', 'Love_Me_Tender.4.mid', 'drive_my_car.mid', 'touch_me.mid', 'Jailhouse_Rock.6.mid', 'American_Trilogy.mid', \"she's_so_cold.mid\", 'leave_it_behind.mid', 'Who_Wants_to_Live_Forever.8.mid', 'If_I_Only_Had_the_Words_To_Tell_You_.mid', 'black.mid', 'Christmas_Time.mid', 'The_Entertainer.mid', 'Cat_People.3.mid', 'Dont_Try_So_Hard.1.mid', 'Smoke_On_The_Water.1.mid', 'brown_sugar.mid', '20th_century_fox.mid', \"i_can't_dance.mid\", 'running_on_ice.mid', 'horse.mid', 'the_end.mid', 'Everything_I_Do_I_Do_It_For_You.mid', 'Kashmir.mid', 'Dude_Looks_Like_A_Lady_.mid', 'Rock_and_Roll.mid', 'Are_You_Lonesome_Tonight.mid', 'For_Those_About_To_Rock_We_Salute_You_.mid', 'All_for_Love.2.mid', 'You_Shook_Me_All_Night_Long.1.mid', 'In_Too_Deep.1.mid', 'The_River_of_Dreams.mid', 'baby_grand.mid', 'enough.mid', \"don't_pick_it_up.mid\", 'half_the_man.mid', 'here_comes_the_sun.mid', 'lilywhite_lilith.mid', 'madman.mid', 'garden.mid', 'On_a_Day_Like_Today.mid', 'Uptown_Girl.4.mid', 'Tell_Her_About_It.2.mid', 'Everything_I_Do_I_Do_It_For_You.1.mid', 'and_the_cradle_will_rock.mid', 'Your_Time_Is_Gonna_Come.mid', 'I_Cant_Dance.4.mid', 'What_It_Takes.1.mid', 'vital_signs.mid', 'all_i_want_is_everything.mid', 'These_Are_the_Days_of_Our_Lives.3.mid', 'Youre_My_Best_Friend.2.mid', 'Open_Arms.4.mid', 'Cant_Help_Falling_in_Love.5.mid', 'genocide.mid', 'roundabout.mid', 'Before_the_Night_Is_Over.mid', 'Black_Country_Woman.mid', 'the_great_gig_in_the_sky.mid', 'interstate_love_song.mid', 'The_Wonder_of_You.mid', \"we_didn't_start_the_fire.mid\", 'zooropa.mid', 'The_Battle_Of_Evermore.1.mid', \"israel's_son.mid\", 'Im_Gonna_Crawl.mid', 'sorry_seems_to_be.mid', 'Its_a_Hard_Life.1.mid', 'alive_and_kicking.mid', '1984.mid', 'Son_and_Daughter.1.mid', 'Carouselambra.mid', 'locomotive_breath.mid', 'The_Miracle.2.mid', 'living_in_the_usa.mid', 'Separate_Ways_Worlds_Apart_.1.mid', 'come_out_and_play.mid', 'jar.mid', 'six_different_ways.mid', 'tom_sawyer.mid', 'even_flow.mid', 'Now_Im_Here.1.mid', 'Living_Loving_Maid_Shes_Just_a_Woman_.mid', 'gotta_get_away.mid', 'intolerance.mid', 'jeremy.mid', 'sweetest_thing.mid', 'Pressure.2.mid', 'for_no_one.mid', 'higher_ground.mid', 'i_know_what_i_like.mid', 'two_step.mid', 'buddy_holly.mid', 'abracadabra.mid', 'flying.mid', 'close_to_me.mid', 'knock_me_down.mid', 'Poor_Tom.mid', 'Another_One_Bites_The_Dust.6.mid', 'owner_of_a_lonely_heart.mid', 'fading_lights.mid', 'quiet.mid', 'you_could_be_mine.mid', 'here_comes_the_rain_again.mid', 'Have_Ever_You_Really_Loved_a_Woman.5.mid', 'pretty_woman.mid', 'You_Dont_Fool_Me.1.mid', 'Open_Arms.2.mid', 'We_Will_Rock_You.5.mid', 'Summertime_Blues.mid', 'My_Life.2.mid', 'bass_jam.mid', \"new_year's_day.mid\", 'mankind.mid', 'Girls_Girls_Girls.mid', 'Can-Utility_and_the_Coastliners.mid', 'this_is_the_time.mid', 'the_chain.mid', 'Honesty.5.mid', \"don't_lose_my_number.mid\", 'yyz.mid', 'I_Cant_Live_With_You.mid', 'in_too_deep.mid', 'love_is_a_stranger (1).mid', 'kyoto_song.mid', 'All_Gods_People.2.mid', 'my_friend.mid', 'Good_Old_Fashioned_Lover_Boy.1.mid', 'easy_lover.mid', 'brazilian.mid', 'Johnny_B._Goode.mid', 'Uncertain_Weather.mid', 'Stairway_To_Heaven.7.mid', 'smack_my_bitch_up.mid', 'The_Rain_Song.mid', 'How_Many_More_Times.1.mid', 'Princes_of_the_Universe.1.mid', 'Bohemian_Rhapsody.6.mid', 'Hound_Dog.2.mid', 'Dazed_And_Confused.mid', 'Livin_Lovin_Maid.2.mid', 'crocodile_rock.mid', 'A_Matter_of_Trust.mid', 'Now_Im_Here.2.mid', 'Prelude_Angry_Young_Man.mid', 'Radio_Ga_Ga.mid', 'Hats_Off_to_Roy_Harper.mid', 'Jailhouse_Rock.4.mid', 'Seasons_of_Wither.mid', 'You_May_Be_Right.1.mid', 'Land_of_Confusion.4.mid', 'free_as_a_bird.mid', 'stand_by_me.mid', 'Kashmir.3.mid', 'Bron-Y-Aur_Stomp.1.mid', '52nd_street.mid', 'Black_Night.1.mid', 'Blue_Christmas.mid', \"i'm_going_slightly_mad.mid\", 'The_Show_Must_Go_On.3.mid', 'all_over_now.mid', 'House_Arrest.mid', 'Whole_Lotta_Love.mid', 'turn_it_on_again.mid', 'shameless.mid', 'Jailhouse_Rock.7.mid', 'Have_Ever_You_Really_Loved_a_Woman.3.mid', 'get_off_my_cloud.mid', 'snowbound.mid', 'Lets_Make_a_Night_to_Remember.mid', \"i_won't_hold_back.mid\", 'love_will_find_a_way.mid', 'cool_to_hate.mid', 'Hole_in_My_Soul.mid', 'Dont_Stop_Me_Now.1.mid', 'closer_to_the_heart.mid', 'The_Song_Remains_The_Same.1.mid', 'an_innocent_man.mid', 'bullet_proof.mid', 'oh_george.mid', 'low_rider.mid', 'Run_To_You.mid', 'I_Cant_Dance.3.mid', 'Burn.mid', 'Heaven_for_Everyone.mid', 'in_the_air_tonight.mid', 'wrapped_around_your_finger.mid', 'Return_to_Sender.3.mid', 'We_Didnt_Start_the_Fire.mid', 'Dream_On.mid', 'I_Just_Cant_Help_Believing.mid', \"it's_all_right.mid\", 'Jailhouse_Rock.5.mid', 'Janies_Got_a_Gun.4.mid', 'You_Shook_Me.mid', 'all_i_want.mid', 'A_Trick_of_the_Tail.mid', 'Viva_Las_Vegas.1.mid', 'Crazy_Little_Thing_Called_Love.3.mid', 'charmless_man.mid', 'Summer_of_69.7.mid', 'ripcord.mid', 'Prelude_Angry_Young_Man.2.mid', 'misery.mid', 'drive.mid', 'We_Are_The_Champions.8.mid', 'gone.mid', 'your_blue_room.mid', 'Janies_Got_a_Gun.3.mid', 'killer_queen.mid', 'The_Invisible_Man.mid', 'honesty.mid', 'My_Life.4.mid', 'my_wave.mid', 'where_the_stree%25c9ave_no_name.mid', 'Just_the_Way_You_Are.7.mid', 'little_lies.mid', 'aeroplane.mid', 'Let_Me_Be_Your_Teddy_Bear.5.mid', 'Suspicious_Minds.3.mid', 'angel.mid', 'angel_harlem.mid', 'when_you_gonna_learn.mid', 'Pinball_Wizard.1.mid', 'Dancing_in_the_Street.2.mid', 'nitro.mid', 'Love_Me_Tender.1.mid', 'We_Didnt_Start_the_Fire.1.mid', 'a_thousand_years.mid', 'watershed.mid', \"say_it_ain't_so.mid\", 'daisy.mid', 'yellow_leadbetter.mid', 'help_things_we_said_today.mid', 'temptation.mid', 'finish_what_ya_started.mid', 'Jesus_He_Knows_Me.5.mid', 'blow_your_mind.mid', 'Save_Me.1.mid', 'Return_to_Sender.2.mid', 'just_like_heaven.mid', 'Thats_All.2.mid', 'the_girl_from_yesterday.mid', 'Horizons.1.mid', 'tired_of_sex.mid', 'I_Can_See_for_Miles.mid', 'Stiletto.1.mid', 'plump.mid', 'I_Want_You_I_Need_You_I_Love_You.mid', 'Firth_of_Fifth.3.mid', 'victim_of_love.mid', 'I_Go_to_Extremes.mid', 'Are_You_Lonesome_Tonight.2.mid', 'Smoke_On_The_Water.4.mid', 'talk_tonight.mid', 'gimme_shelter.mid', 'Dont_Be_Cruel.1.mid', 'piano_man.mid', 'Suppers_Ready.mid', 'benny_and_the_jets.mid', 'Invisible_Touch.8.mid', 'Bohemian_Rhapsody.5.mid', 'soothe.mid', 'tearin_up_my_heart.mid', 'Jesus_He_Knows_Me.6.mid', 'driver_8.mid', 'Pink.mid', 'famous_last_words.mid', 'fopp.mid', 'big_bang_baby.mid', 'manic_depression.mid', 'Let_Me_Be_Your_Teddy_Bear.2.mid', 'One_Night_Love_Affair.1.mid', 'My_Melancholy_Blues.mid', 'Immigrant_Song.1.mid', 'Too_Much.1.mid', 'Let_Me_Be_Your_Teddy_Bear.mid', 'Blue_Suede_Shoes.2.mid', 'Shes_Not_You.mid', 'Are_You_Lonesome_Tonight.1.mid', 'Blowing_in_the_Wind.1.mid', 'All_Gods_People.mid', 'I_Just_Cant_Help_Believing.1.mid', 'one_minute_of_silence.mid', 'when_i_come_around.mid', 'Child_in_Time.mid', 'Speed_King.mid', 'silent_spring.mid', 'bang_and_blame.mid', 'strange_currencies.mid', 'virtual_insanity.mid', 'Who_Are_You.mid', 'Youre_My_Best_Friend.1.mid', 'Dazed_And_Confused.2.mid', 'tell_me_why.mid', 'We_Are_The_Champions.7.mid', 'disarm.mid', 'Dazed_And_Confused.4.mid', 'delta_force.mid', 'starship_trooper.mid', 'Bron-Y-Aur_Stomp.mid', 'Cant_Stop_This_Thing_We_Started.1.mid', 'forgive.mid', \"don't_cry.mid\", 'brilliant_disguise.mid', 'Seperate_Ways.1.mid', 'Dude_Looks_Like_A_Lady_.1.mid', 'Good_Times_Bad_Times.3.mid', 'do_you_remember.mid', 'Please_Forgive_Me.1.mid', 'Just_the_Way_You_Are.5.mid', 'Honesty.6.mid', 'lullabye.mid', 'gone_away.mid', 'endless_nameless.mid', \"honey_don't.mid\", 'Thank_You.1.mid', 'i_want_to_hold_your_hand.mid', 'Another_One_Bites_The_Dust.7.mid', 'friday.mid', 'Down_by_the_Seaside.mid', 'Dont_Stop_Me_Now.mid', 'Be_Bop_A_Lula.mid', 'hands_all_over.mid', 'we_will_rock_you.mid', 'Blowing_in_the_Wind.mid', 'Lets_Dance.1.mid', 'ill_be_alright_without_you.mid', 'pinball_wizard.mid', 'The_Wonder_of_You.2.mid', 'Seven_Seas_of_Rhye.1.mid', \"ain't_talkin_bout_love.mid\", 'Shes_Always_a_Woman_to_Me.mid', 'Lay_Lady_Lay.1.mid', 'live_and_let_die.mid', 'bring_on_the_night.mid', 'Have_Ever_You_Really_Loved_a_Woman.6.mid', 'The_Who_Triple_Tracker,_Part_1.mid', 'undertow.mid', 'Firth_of_Fifth.2.mid', 'Killer_Queen.6.mid', 'a_kind_of_magic.mid', 'circle_of_life.mid', 'good_riddance.mid', 'Dont_Be_Cruel.5.mid', 'Smoke_On_The_Water.3.mid', 'goodbye_yellow_brick_road.mid', 'roxanne.mid', 'seven_stones.mid', \"i_can't_tell_you_why.mid\", 'Ripples.1.mid', 'Any_Way_You_Want_It.mid', 'Uptown_Girl.3.mid', 'love_and_affection.mid', 'You_Dont_Fool_Me.2.mid', 'geek_stink_breath.mid', 'patience.mid', 'My_Life.1.mid', 'the_lamia.mid', 'lake_fire.mid', 'many_too_many.mid', 'whos_cryin_now.mid', 'darkness_in_the%25c9dge_of_town.mid', 'Rebel_Rebel.1.mid', 'tomorrow.mid', 'Root_Beer_Rag.2.mid', 'jet_airliner.mid', 'too_much.mid', 'bootcamp.mid', 'Send_Her_My_Love.1.mid', 'bijou.mid', 'the_wake_up_bomb.mid', '6th_avenue_heartache.mid', 'oh_sherrie.mid', 'In_Too_Deep.3.mid', 'torn.mid', 'alive.mid', 'Lets_Make_a_Night_to_Remember.1.mid', 'beyond_the_wheel.mid', 'Tell_Me_Why.2.mid', 'Good_Old_Fashioned_Lover_Boy.mid', 'fake_plastic_trees.mid', 'Open_Arms.3.mid', 'Son_and_Daughter.mid', 'Friends_Will_Be_Friends.5.mid', 'Highway_Star.1.mid', 'cherry.mid', 'another_one_bites_the_dust.mid', 'no_memory.mid', 'i_wish_it_would_rain_now.mid', 'Have_Ever_You_Really_Loved_a_Woman.mid', 'Princes_of_the_Universe.mid', 'Achilles_Last_Stand.mid', 'ava_adore.mid', 'You_Dont_Fool_Me.mid', 'Death_on_Two_Legs_Dedicated_to_..._.mid', 'These_Are_the_Days_of_Our_Lives.1.mid', 'The_Song_Remains_The_Same.mid', 'Dont_Be_Cruel.3.mid', 'new_york_state_of_mind.mid', 'every_little_thing.mid', \"guess_that's_whƒt_the_blues.mid\", 'Dancing_Days.mid', 'Immigrant_Song.2.mid', 'heart_of_stone.mid', 'Woman_From_Tokyo.1.mid', 'My_Boy.mid', 'Somebody_to_Love.2.mid', 'Mistreated.mid', 'captain_jack.mid', 'voodoo_chile.mid', 'Hound_Dog.1.mid', 'Cat_People.2.mid', 'Mama.2.mid', 'Somebody.mid', 'monkey_wrench.mid', 'heart_shaped_box.mid', 'broadway_melody_of_1974.mid', 'stupid_girl.mid', 'the_masterplan.mid', 'I_Finally_Found_Someone.1.mid', 'spanish_caravan.mid', 'silverfuck.mid', 'Killer_Queen.3.mid', 'philadelphia_freedom.mid', 'november_rain.mid', 'Honesty.3.mid', 'ecco_song.mid', 'inside.mid', 'Fools_Fall_In_Love.mid', 'Cuts_Like_a_Knife.1.mid', 'Good_Times_Bad_Times.1.mid', 'Going_to_California.mid', 'theme_from_the_bottom.mid', 'Suspicious_Minds.mid', 'i_will_follow.mid', 'mysterious_ways.mid', 'time_and_motion.mid', 'today.mid', 'Space_Oddity.1.mid', 'christmastime_is_here.mid', 'Killer_Queen.1.mid', 'Misunderstanding.1.mid', 'my_poor_brain.mid', 'Summer_of_69.5.mid', 'send_her_my_love.mid', 'third_stone_from_the_sun.mid', 'Run_To_You.4.mid', 'Never_More.mid', 'i_follow_the_sun.mid', 'Kids_Wanna_Rock.1.mid', 'best_of_my_love.mid', 'Houses_of_the_Holy.mid', 'Always_on_My_Mind.1.mid', 'Another_One_Bites_The_Dust.4.mid', 'I_Want_It_All.1.mid', 'One_Year_of_Love.mid', 'No_Son_of_Mine.2.mid', 'rear_view_mirror.mid', 'When_the_Levee_Breaks.mid', 'Everything_I_Do_I_Do_It_For_You.6.mid', 'Misty_Mountain_Hop.1.mid', 'The_Song_Remains_The_Same.2.mid', 'Living_Loving_Maid_Shes_Just_a_Woman_.1.mid', 'Im_Going_Slightly_Mad.mid', 'hold_the_line.mid', 'Living_on_My_Own.1.mid', 'all_i_need_is_a_miracle.mid', 'Uptown_Girl.5.mid', 'the_one_i_love.mid', 'This_Time.mid', 'Bohemian_Rhapsody.4.mid', 'paperlate.mid', 'Black_Mountain_Side.1.mid', 'We_Didnt_Start_the_Fire.2.mid', 'apart.mid', 'song_2.mid', 'My_Life_Has_Been_Saved.mid', 'The_Miracle.1.mid', 'the_swing.mid', 'Man_on_the_Corner.1.mid', 'Going_to_California.1.mid', 'floyd_the_barber.mid', 'Rock_and_Roll.1.mid', 'Kashmir.2.mid', 'Heaven.mid', 'Bicycle_Race.mid', 'ode_to_my_family.mid', 'Just_the_Way_You_Are.4.mid', 'Crazy.mid', 'thats_why_they_ƒt_the_blues.mid', 'Straight_From_The_Heart.mid', 'one_headlight.mid', 'bodies.mid', 'pretty_maids_all_in_a_row.mid', 'Smoke_On_The_Water.mid', 'Cat_People.mid', 'The_River_of_Dreams.2.mid', 'The_Longest_Time.1.mid', 'in_the_garage.mid', 'Seperate_Ways.mid', 'plush.mid', 'stink_fist.mid', 'my_friends.mid', 'Love_of_My_Life.2.mid', 'Headlong.2.mid', 'No_Quarter.1.mid', 'Now_Im_Here.4.mid', 'little_wing.mid', 'Run_To_You.3.mid', 'name.mid', 'wish_you_were_here.mid', 'pure_massacre.mid', 'Boogie_With_Stu.mid', 'Please_Forgive_Me.mid', 'Move_Your_Body.mid', 'Its_Now_or_Never.1.mid', 'against_all_odds.mid', 'We_Are_The_Champions.4.mid', 'jealousy.mid', 'Afterglow.3.mid', 'Kashmir.1.mid', 'Surrender.mid', 'TNT.1.mid', 'rocket_man.mid', 'pressure.mid', 'three_sides_live_medley.mid', 'Bohemian_Rhapsody.2.mid', 'White_Man.mid', 'bouree.mid', 'Fireball.1.mid', 'i_saw_her_standing_there.mid', 'Always_on_My_Mind.mid', 'Im_Going_Slightly_Mad.1.mid', 'eruption.mid', 'aenima.mid', 'In_Too_Deep.2.mid', 'Kings_and_Queens.mid', 'Celebration_Day.mid', 'Hot_Dog.mid', 'Doing_All_Right.1.mid', 'Honesty.1.mid', 'Rain_Must_Fall.mid', 'Everything_I_Do_I_Do_It_For_You.5.mid', 'flood.mid', 'I_Was_Born_to_Love_You.mid', 'dive.mid', 'Radio_Ga_Ga.2.mid', 'Black_Night.2.mid', 'Under_Pressure.1.mid', 'brain_stew.mid', 'Friends_Will_Be_Friends.3.mid', 'always.mid', 'We_Will_Rock_You.3.mid', 'mama.mid', 'Heartbreak.mid', 'this_is_a_call.mid', 'Thats_All.1.mid', 'fall_on_me.mid', 'The_Longest_Time.mid', 'there_must_be_an_angel.mid', 'born_in_the_usa.mid', 'chains.mid', 'kitchenware_and_candybars.mid', 'Down_in_the_Alley.mid', 'pleasure_dome.mid', 'Blood_on_the_Rooftops.1.mid', 'Cant_Help_Falling_in_Love.6.mid', 'Too_Much_Love_Will_Kill_You.3.mid', 'Abacab.3.mid', 'All_for_Love.3.mid', 'A_Kind_of_Magic.1.mid', 'kokomo.mid', 'Just_the_Way_You_Are.6.mid', 'Tell_Her_About_It.1.mid', 'Doing_All_Right.mid', 'Let_Me_Be_Your_Teddy_Bear.4.mid', 'blew.mid', 'birthday.mid', 'zero.mid', 'Invisible_Touch.7.mid', 'Frankie_and_Johnny.mid', 'One_Year_of_Love.1.mid', 'citadel.mid', 'hold_me_thrill_me_kiss_me.mid', 'Love_of_My_Life.mid', 'Many_Too_Many.2.mid', 'precipitation.mid', 'eleanor_rigby.mid', 'Play_the_Game.1.mid', \"baby_you're_a_rich_man.mid\", 'almost_like_love.mid', 'The_Lamb_Lies_Down_on_Broadway.2.mid', 'Scandal.mid', 'anyway.mid', 'people_are_strange.mid', 'Youre_My_Best_Friend.5.mid', 'never_tear_us_apart.mid', 'The_Stranger.3.mid', 'a_secret_love.mid', 'Just_Tell_Her_Jim_Said_Hello.mid', 'Love_of_My_Life.3.mid', 'Go_to_the_Mirror_Boy.mid', 'We_Will_Rock_You.6.mid', 'Its_Only_Love.mid', 'Crazy_Little_Thing_Called_Love.5.mid', 'I_Cant_Dance.1.mid', 'Return_to_Sender.mid', 'roll_with_it.mid', 'bambi_slaughter.mid', 'Blowin_in_the_Wind.2.mid', 'hunted_down.mid', 'Back_to_You.mid', 'Wooden_Heart_Muss_I_Denn_.mid', 'Please_Forgive_Me.4.mid', 'Fireball.mid', 'rosanna.mid', 'The_Wanton_Song.mid', 'Fame.mid', 'Friends_Will_Be_Friends.2.mid', 'Shes_Got_a_Way.1.mid', 'All_Shook_Up.1.mid', 'Im_Going_Slightly_Mad.3.mid', 'seven_bridges_road.mid', 'stiletto.mid', 'Let_Me_Be_There.mid', 'self_esteem.mid', 'Leningrad.1.mid', 'clones.mid', 'I_Cant_Dance.5.mid', 'Crazy_Little_Thing_Called_Love.6.mid', 'satisfaction.mid', 'Piano_Man.9.mid', 'carry_that_weight.mid', 'The_Rover.mid', 'somewhere_tonight.mid', 'In_the_Ghetto.1.mid', 'Boogie_With_Stu.1.mid', 'Ramble_On.2.mid', 'Pink.1.mid', 'the_last_resort.mid', 'amazed.mid', 'money.mid', 'Have_Ever_You_Really_Loved_a_Woman.4.mid', 'Fly_Away_From_Here.mid', 'do_you_wanna_know_a_secret.mid', 'aneurysm.mid', 'Shipwrecked.mid', 'love_her_madly.mid', 'linger.mid', 'iris.mid', 'lady_picture_show.mid', 'tequila_sunrise.mid', 'pulling_teeth.mid', 'airbag.mid', 'walking_in_your_footsteps.mid', 'Now_Im_Here.mid', 'These_Are_the_Days_of_Our_Lives.4.mid', 'Faithfully.2.mid', 'the_show_must_go_on.mid', 'The_Battle_Of_Evermore.mid', 'Livin_on_the_Edge.mid', 'Are_You_Lonesome_Tonight.3.mid', 'human_being.mid', 'try_and_love_again.mid', 'Who_Wants_to_Live_Forever.7.mid', 'Mad_Man_Moon.3.mid', 'Rainy_Day_Women_12_35.mid', 'good_vibrations.mid', 'Shipwrecked.2.mid', 'machine_messiah.mid', 'Friends_Will_Be_Friends.6.mid', 'Here_I_Am_End_Title_.mid', 'Squonk.mid', 'Who_Wants_to_Live_Forever.1.mid', 'The_Great_Pretender.1.mid', 'i_awake.mid', 'Black_Night.mid', 'paint_it_black.mid', 'Burning_Love.1.mid', 'no_hero.mid', 'hold.mid', 'and_your_bird_can_sing.mid', 'Just_the_Way_You_Are.2.mid', 'longest_time.mid', 'god_only_knows.mid', 'All_for_Love.1.mid', 'reject.mid', 'you_look_so_fine.mid', 'santeria.mid', 'never_a_time.mid', 'jerry_was_a_racecar_driver.mid', 'our_song.mid', 'foxy_lady.mid', \"it's_a_hard_life.mid\", 'Dont_Try_So_Hard.2.mid', 'Who_Wants_to_Live_Forever.6.mid', 'Innuendo.1.mid', 'in_his_hands.mid', 'Eat_the_Rich.mid', 'cross_eyed_mary.mid', 'Livin_on_the_Edge.1.mid', 'no_alarm_no_suprises.mid', 'africa.mid', 'Space_Oddity.2.mid', 'Stairway_To_Heaven.9.mid', 'The_Stranger.1.mid', 'keep_the_faith.mid', 'Hound_Dog.mid', 'purple_haze.mid', 'badfish.mid', 'dodo_lurker.mid', 'Ziggy_Stardust.mid', 'The_Musical_Box.1.mid', 'the_sun_goes_down.mid', 'hotel_california.mid', 'We_Are_The_Champions.10.mid', 'Black_Dog.1.mid', 'The_Miracle.5.mid', 'All_Shook_Up.2.mid', 'eulogy.mid', 'mayonaise.mid', 'bungle_in_the_jungle.mid', 'me_wise_magic.mid', 'Baba_ORiley.mid', 'Love_Me_Tender.3.mid', 'Trampled_Under_Foot.mid', 'just_the_way_you_are.mid', 'red_barchetta.mid', 'losing_my_religion.mid', 'Your_Time_Is_Gonna_Come.2.mid', 'next_to_you.mid', 'love_is_strong.mid', 'heat_of_the_moment.mid', 'abbey_road_medley.mid', 'Like_A_Rolling_Stone.mid', 'Highway_To_Hell.2.mid', 'all_by_myself.mid', 'Since_Ive_Been_Loving_You.1.mid', 'you_make_loving_fun.mid', 'dont_you_forget_about_me.mid', 'Blue_Suede_Shoes.3.mid', 'easy_lover (2).mid', 'Livin_Lovin_Maid.mid', 'Radio_Ga_Ga.8.mid', 'All_My_Love.mid', 'in_these_arms.mid', 'under_the_bridge.mid', 'hard_days_night.mid', 'every_breath_you_take.mid', 'welcome_to_the_jungle.mid', 'Under_Pressure.7.mid', 'mixed_emotions.mid', 'Return_to_Sender.5.mid', 'No_Quarter.mid', 'longview.mid', 'Love_Me_Tender.mid', 'cinema_show.mid', 'The_River_of_Dreams.4.mid', 'as_tears_go_by.mid', 'lament.mid', '1979.mid', 'come_together.mid', 'Im_Ready.mid', 'Have_Ever_You_Really_Loved_a_Woman.7.mid', 'Cant_Help_Falling_in_Love.4.mid', 'Hold_On_My_Heart.1.mid', 'These_Are_the_Days_of_Our_Lives.2.mid', 'scarborough_fair.mid', 'Heaven_for_Everyone.1.mid', 'The_Lemon_Song.mid', 'All_for_One,_All_for_Love.mid', 'Have_Ever_You_Really_Loved_a_Woman.2.mid', 'The_Best_of_Me.mid', 'Suspicious_Minds.2.mid', 'A_Kind_of_Magic.4.mid', 'Piano_Man.1.mid', 'How_Many_More_Times.3.mid', 'Lets_Dance.mid', 'shiny_happy_people.mid', 'Radio_Ga_Ga.6.mid', 'smile.mid', 'Summer_of_69.2.mid', 'Goodnight_Saigon.mid', 'I_Know_What_I_Like_In_Your_Wardrobe_.mid', 'Hurricane.mid', 'Heaven.3.mid', 'only_happy_when_it_rains.mid', 'Bohemian_Rhapsody.1.mid', 'Under_Pressure.2.mid', 'Thats_All.mid', 'a_thousand_hours.mid', 'I_Want_to_Break_Free.2.mid', 'rocket_queen.mid', 'Tonight_Tonight_Tonight.1.mid', \"can't_stand_losing_you.mid\", 'bad_medicine.mid', 'Walk_This_Way.mid', 'Invisible_Touch.1.mid', 'A_Kind_of_Magic.3.mid', 'The_Wonder_of_You.1.mid', 'afterglow.mid', 'You_May_Be_Right.mid', 'subterranean_homesick_alien.mid', 'Burning_Love.2.mid', 'ripples.mid', 'The_Best_of_Me.1.mid', 'Honesty.4.mid', 'shoot_high_aim_low.mid', 'got_to_get_you_into_my_life.mid', \"lyin'_eyes.mid\", 'Night_Flight.mid', 'All_in_a_Mouses_Night.mid', 'break_on_through.mid', 'Taking_It_All_Too_Hard.1.mid', 'golden_slumbers.mid', 'basket_case.mid', 'Faithfully.3.mid', 'Only_the_Good_Die_Young.mid', \"you're_my_best_friend.mid\", 'Invisible_Touch.2.mid', 'find_the_river.mid', 'bittersweet_me.mid', 'Land_of_Confusion.1.mid', 'stuck_with_me.mid', 'Rock_and_Roll.2.mid', 'Heartbreak_Hotel.2.mid', 'Baby,_What_You_Want_Me_to_Do_Thats_All_Right_Blue_Christmas_One_Night_Tiger_Man_Trying_to_Get_to_You.mid', 'bed_of_roses.mid', 'Dont_Be_Cruel.mid', 'Domino.1.mid', 'taking_it_all_too_hard.mid', 'just_a_gigalo.mid', 'Dream_On.1.mid', 'you_really_got_me.mid', 'Kiss_Me_Quick.1.mid', 'G.I._Blues.mid', 'Substitute.1.mid', 'tonight_tonight.mid', 'imagine.mid', 'no_good.mid', 'Bring_It_on_Home.1.mid', 'if_you_must.mid', \"knockin'_on_heaven's_door.mid\", 'play_the_game.mid', 'free_to_decide.mid', 'Fat_Bottomed_Girls.mid', 'Crazy_Little_Thing_Called_Love.2.mid', 'porch.mid', 'Please_Forgive_Me.2.mid', 'Misty_Mountain_Hop.mid', 'Mad_Man_Moon.2.mid', 'comfortably_numb.mid', 'do_da_da.mid', 'Now_Im_Here.3.mid', 'The_Longest_Time.2.mid', 'miss_you.mid', 'what_i_got.mid', 'boys.mid', 'all_together_now.mid', 'Strange_Kind_of_Woman.mid', 'kc_medley.mid', 'dumb.mid', 'somebody_to_shove.mid', 'The_Ocean.mid', 'In_Too_Deep.4.mid', 'high.mid', 'Turn_It_On_Again.4.mid', 'you_might_think.mid', 'Friends_Will_Be_Friends.1.mid', 'living_on_a_prayer.mid', 'time.mid', 'king_of_pain.mid', 'funeral_for_a_fƒes_bleeding.mid', 'Pressure.1.mid', 'photograph.mid', 'Tonight_Tonight_Tonight.mid', 'Dont_Stop_Believin.2.mid', 'fool_on_the_hill.mid', 'Pink.2.mid', 'China_Girl.mid', 'You_Shook_Me_All_Night_Long.mid', 'Stairway_To_Heaven.10.mid', 'Changes.mid', 'ruby_tuesday.mid', 'My_Life_Has_Been_Saved.1.mid', 'my_generation.mid', 'My_Life.3.mid', 'In_the_Cage_medley_The_Cinema_Show_Slipperman.mid', 'Black_Mountain_Side.mid', 'Good_Luck_Charm.1.mid', 'Killer_Queen.5.mid', 'We_Are_The_Champions.3.mid', 'bullet_with_butterfly_wings.mid', 'We_Are_The_Champions.5.mid', 'Just_the_Way_You_Are.3.mid', 'I_Dont_Want_to_Miss_a_Thing.2.mid', 'hairless_heart.mid', 'Seven_Seas_of_Rhye.mid', 'would_i_lie_to_you.mid', 'Heaven.6.mid', 'I_Want_to_Break_Free.mid', 'mykel_and_carli.mid', \"get_'em_out_by_friday.mid\", 'Squeeze_Box.mid', 'Calling_All_Stations.mid', 'Its_Now_or_Never.mid', 'aero_zepplin.mid', 'Bicycle_Race.1.mid', 'One_for_the_Vine.1.mid', 'You_Dont_Fool_Me.3.mid', \"supper's_ready.mid\", 'miss_you_in_a_heartbeat.mid', 'the_weapon.mid', 'When_Youre_Gone.1.mid', 'Illegal_Alien.mid', 'jumping_jack_flash.mid', 'I_Finally_Found_Someone.mid', 'heaven_is.mid', 'Im_Going_Slightly_Mad.2.mid', 'wind_it_up.mid', 'Cuts_Like_a_Knife.mid', 'Too_Much_Love_Will_Kill_You.mid', 'Walk_This_Way.1.mid', 'Hound_Dog.4.mid', 'We_Will_Rock_You.2.mid', 'keep_talking.mid', 'When_Youre_Gone.mid', 'I_Want_to_Break_Free.3.mid', '667.mid', 'Suspicious_Minds.1.mid', 'Burning_Love.3.mid', 'How_Many_More_Times.2.mid', 'Follow_You_Follow_Me.1.mid', 'We_Will_Rock_You.4.mid', 'country_house.mid', 'Four_Sticks.mid', 'driving_the_last_spike.mid', 'Lets_Make_a_Night_to_Remember.2.mid', 'desire.mid', 'Going_Back_To_My_Roots.mid', 'Your_Time_Is_Gonna_Come.1.mid', 'surfs_up.mid', 'pretty_noose.mid', 'We_Are_The_Champions.1.mid', 'thru_the_eyes_of_ruby.mid', 'rock_it.mid', 'the_living_years.mid', 'and_you_and_i.mid', 'crackerman.mid', 'creep.mid', 'The_Downeaster_Alexa.mid', 'Immigrant_Song.mid', 'soma.mid', 'follow_you_follow_me.mid', 'carpet_crawl.mid', 'Cuts_Like_a_Knife.2.mid', 'I_Cant_Dance.2.mid', 'Stairway_To_Heaven.4.mid', 'His_Latest_Flame.mid', 'Whole_Lotta_Love.3.mid', 'Whole_Lotta_Rosie.mid', 'All_Shook_Up.mid', 'hail_hail.mid', 'Puppet_on_a_String.mid', 'cosmic_girl.mid', 'Wearing_and_Tearing.mid', 'Run_To_You.6.mid', 'Kissin_Cousins.mid', 'Its_Still_Rock_and_Roll_to_Me.3.mid', 'Since_Ive_Been_Loving_You.mid', 'mission.mid', 'root_beer_rag.mid', 'The_Miracle.3.mid', 'in_the_end.mid', 'Tell_Me_Why.1.mid', 'de_do_do_do_de_da_da_da.mid', 'Are_You_Lonesome_Tonight.5.mid', \"i_can't_live_with_you.mid\", 'Radio_Ga_Ga.3.mid', 'Just_the_Way_You_Are.1.mid', 'Faithfully.5.mid', 'Its_Still_Rock_and_Roll_to_Me.1.mid', 'what_you_need.mid', 'Gallows_Pole.mid', 'Subterranean_Homesick_Blues.mid', 'oh_la_la_la.mid', \"since_i_don't_have_you.mid\", 'Janies_Got_a_Gun.1.mid', 'The_Miracle.4.mid', 'light_my_fire.mid', 'Kashmir.4.mid', 'Save_Me.3.mid', 'The_River_of_Dreams.1.mid', 'Knockin_on_Heavens_Door.mid', 'The_Fountain_of_Salmacis.mid', 'made_in_heaven.mid', 'Jailhouse_Rock.1.mid', 'Summer_of_69.8.mid', 'Summer_of_69.4.mid', 'Dancing_in_the_Street.mid', 'street_spirit.mid', \"let's_go.mid\", 'Dukes_End.mid', 'Cant_Stop_This_Thing_We_Started.2.mid', \"it's_still_rock%25c9_roll_to_me.mid\", 'h.mid', 'Everything_I_Do_I_Do_It_For_You.3.mid', 'deeper_underground.mid', 'temp2.wav', 'The_Battle_Of_Evermore.2.mid', 'Wooden_Heart.mid', 'China_Girl.1.mid', 'Living_on_My_Own.3.mid', 'karma_police.mid', 'Misunderstanding.2.mid', 'All_for_Love.mid', 'civil_war.mid', \"don't_cry (1).mid\", 'Summer_of_69.6.mid', 'Piano_Man.2.mid', 'Heaven.5.mid', 'Please_Forgive_Me.3.mid', 'angie.mid', 'Stairway_To_Heaven.5.mid', 'The_Other_Side.mid', 'Dazed_And_Confused.1.mid', 'Lay_Lady_Lay.mid', 'Rock_Steady.mid', 'Any_Way_You_Want_Me.mid', 'Kids_Wanna_Rock.mid', 'too_young_to_die.mid', 'high_hopes.mid', 'Headlong.1.mid', 'Abacab.1.mid', 'Land_of_Confusion.5.mid', 'good_time.mid', \"i'm_alive.mid\", 'Falling_in_Love_Is_Hard_on_the_Knees_.1.mid', 'One_Night_Love_Affair.mid', 'sisters_are_doiƒ_themselves.mid', 'coming_clean.mid', 'Tell_Her_About_It.mid', 'New_York_State_of_Mind.1.mid', 'Dirty_Deeds_Done_Dirt_Cheap.mid', 'dust_n_bones.mid', 'All_for_Love.4.mid', 'marathon.mid', 'two_princes.mid', 'Follow_You_Follow_Me.2.mid', 'Jesus_He_Knows_Me.1.mid', 'my_life.mid', 'Viva_Las_Vegas.mid', 'trick_of_the_tail.mid', 'more_than_words.mid', 'dont_stop_believin_3.mid', 'Youre_My_Best_Friend.3.mid', 'Black_Dog.mid', 'get_in_the_ring.mid', 'The_Stranger.2.mid', 'Living_on_My_Own.2.mid', 'In_My_Time_of_Dying.mid', 'girl_cant_help_it.mid', 'Abacab.2.mid', 'because.mid', 'limelight.mid', \"all_god's_people.mid\", 'Radio_Ga_Ga.5.mid', 'Bohemian_Rhapsody.7.mid', 'Love_of_My_Life.1.mid', 'love_is_a_stranger.mid', 'Dude_Looks_Like_A_Lady_.2.mid', \"broon's_bane.mid\", 'drain_down.mid', 'as_the_tears_go_by.mid', 'Let_Me_Be_Your_Teddy_Bear.3.mid', 'Dont_Be_Cruel.6.mid', 'Everything_I_Do_I_Do_It_For_You.7.mid', 'the_dreaming_tree.mid', 'brat.mid', 'Thunderstruck.mid', 'lamb_lies_down_on_broadway.mid', 'In_the_Ghetto.2.mid', 'your_song.mid', 'forty_six_and_two.mid', 'All_Shook_Up.3.mid', 'Highway_To_Hell.1.mid', 'Thought_Id_Died_and_Gone_to_Heaven.3.mid', 'one_for_the_vine.mid', 'Amazing.1.mid', 'jump.mid', \"what's_this_life_for.mid\", 'Heaven.2.mid', 'down.mid', 'Faithfully.4.mid', 'Thats_All_Right_Mama_.mid', 'How_Many_More_Times.4.mid', 'Under_Pressure.3.mid', 'Darlene.mid', 'artschool_girlfriend.mid', 'Lawdy_Miss_Clawdy.mid', 'Like_A_Rolling_Stone.1.mid', 'Tonight_Tonight_Tonight.2.mid', 'way_down_the_line.mid', 'lounge_act.mid', 'star_69.mid', 'We_Are_The_Champions.2.mid', 'Custard_Pie.mid', 'radio_gaga.mid', 'Invisible_Touch.5.mid', 'The_Show_Must_Go_On.2.mid', 'All_Gods_People.1.mid', 'the_grouch.mid', 'another_cup_of_coffee.mid', 'Heartbreak_Hotel.mid', \"i_still_haven't%25c9_lookin_for.mid\", 'mrs._robinson.mid', 'a_word_in_spanish.mid', 'mad_man_moon.mid', 'watcher_of_the_skies.mid', 'Suspicious_Minds.5.mid', 'headlong.mid', 'Youre_My_Best_Friend.mid', 'hysteria.mid', 'keep_it_dark.mid', 'runaway_train.mid', 'Mother_Love.mid', 'start_me_up.mid', 'only_in_dreams.mid', 'bright_eyes.mid', 'Bijou.1.mid', 'Modern_Love.1.mid', 'Were_Gonna_Groove.mid', 'Janies_Got_a_Gun.mid', 'Cryin.mid', \"can't_stop_loving_you.mid\", 'girls_and_boys.mid', 'Dont_Be_Cruel.4.mid', 'state_of_love_and_trust.mid', 'open_arms.mid', 'Paperlate.1.mid', 'Jailhouse_Rock.2.mid', 'I_Just_Cant_Help_Believing.2.mid', 'Since_Ive_Been_Loving_You.2.mid', 'Good_Old_Fashioned_Lover_Boy.2.mid', 'Return_to_Sender.4.mid', 'Who_Wants_to_Live_Forever.5.mid', 'Every_Thing_I_Do_It_for_You_Robin_Hood_.mid', 'Radio_Ga_Ga.7.mid', 'Hard_Headed_Woman.mid', 'Helter_Skelter.mid', 'Allentown.mid', 'love_bites.mid', \"don't_try_so_hard.mid\", 'getchoo.mid', 'black_is_black.mid', 'Thats_the_Way.mid', 'Entangled.mid', 'Somebody_to_Love.4.mid', 'Jailhouse_Rock.8.mid', 'close_to_the_borderline.mid', 'your_move.mid', 'Run_To_You.2.mid', 'Somebody_to_Love.mid', 'walking_on_the_moon.mid', 'Keep_Yourself_Alive.mid', 'Somebody_to_Love.3.mid', 'The_Brazilian.1.mid', 'Heartbreak_Hotel.1.mid', 'fool_to_cry.mid', 'dont_speak_clueless_remix.mid', 'message_to_harry_manback.mid', 'locomotive.mid', 'Honesty.2.mid', 'In_the_Ghetto.mid', 'you_give_love_a_bad_name.mid', 'two_steps_behind.mid', 'about_a_girl.mid', 'heart_of_sunrise.mid', 'mr_brownstone.mid', 'Heaven.4.mid', 'Its_a_Hard_Life.mid', 'Procession.mid', 'one_love.mid', 'twenty_one.mid', 'the_musical_box.mid', 'Boogie_Man.mid', 'I_Want_to_Break_Free.1.mid', 'Land_of_Confusion.2.mid', 'everlasting_love.mid', 'Run_To_You.5.mid', 'Leningrad.2.mid', 'misunderstanding.mid', 'Youre_My_Best_Friend.4.mid', 'Your_Time_Is_Gonna_Come.3.mid', 'Cant_Help_Falling_in_Love.2.mid', 'Open_Arms.5.mid', 'Afterglow.1.mid', \"i'll_stick_around.mid\", 'softer_softest.mid', 'Out_on_the_Tiles.mid', \"don't_ask_me_why.mid\", 'fixing_a_hole.mid', 'Pink.3.mid', 'bound_to_the_floor.mid', 'affairs.mid', 'roller_coaster_of_love.mid', 'Modern_Love.mid', 'Second_Home_by_the_Sea.mid', 'The_Kids_Are_Alright.mid', 'Cant_Help_Falling_in_Love.mid', 'Modern_Love.2.mid', 'heathaze.mid', 'long_distance_runaround.mid', 'river_of_dreams.mid', 'Its_Now_or_Never.2.mid', 'In_The_Evening.mid', 'Tell_Her_About_It.3.mid', 'Scandal.1.mid', 'only_wanna_be_with_you.mid', 'follow_you_down.mid', 'daughter.mid', 'Friends_Will_Be_Friends.4.mid', 'blonde_over_blue.mid', 'Whole_Lotta_Love.2.mid', '.ipynb_checkpoints', 'Blue_Suede_Shoes.6.mid', 'love.mid', 'blood_runs_cold.mid', 'Ten_Years_Gone.1.mid', 'Scenes_From_an_Italian_Restaurant.mid', 'Run_To_You.1.mid', 'Firth_of_Fifth.1.mid', 'Stuck_On_You.mid', 'Walters_Walk.mid', 'the_figurehead.mid', 'A_Little_Less_Conversation.mid', 'the_stranger.mid', 'Whole_Lotta_Love.1.mid', 'Under_Pressure.4.mid', 'Follow_That_Dream.mid', 'dead_%26_bloated.mid', 'Firth_of_Fifth.5.mid', 'same_in_the_end.mid', 'Stairway_To_Heaven.mid', 'Tangerine.mid', 'your_love.mid', 'Invisible_Touch.4.mid', 'eight_days_a_week.mid', 'manhattan_project.mid', 'do_you_know_what_i_mean.mid', 'We_Are_The_Champions.6.mid', 'armageddon_it.mid', 'hairspray_queen.mid', \"duke's_end.mid\", 'Whos_Crying_Now.mid', 'Are_You_Lonesome_Tonight.4.mid', 'A_Matter_of_Trust.1.mid', 'texarkana.mid', 'why_go.mid', 'abuse_me.mid', 'The_Crunge.mid', 'fly_like_an_eagle.mid', 'Fever.mid', 'push_it.mid', 'Get_Em_Out_by_Friday.mid', 'Piano_Man.6.mid', 'Dont_Give_It_Up.mid', 'Stairway_To_Heaven.2.mid', 'once.mid', 'Paperlate.2.mid', 'Separate_Ways_Worlds_Apart_.mid', 'Dazed_And_Confused.3.mid', 'friends_will_be_friends.mid', 'back_off_bitch.mid', 'rhythm_of_love.mid', 'Sweet_Emotion.mid', 'Janies_Got_a_Gun.2.mid', 'Hound_Dog.3.mid', 'spanish_fly.mid', 'music_of_the_mind.mid', \"she's_got_a_way.mid\", 'I_Cant_Dance.mid', 'Summer_of_69.mid', 'horizons.mid', 'the_battle_of_epping_forest.mid', 'I_Dont_Want_to_Miss_a_Thing.1.mid', 'The_Great_Pretender.mid', 'No_Son_of_Mine.3.mid', 'only_the_young.mid', 'back_in_the_day.mid', 'Rock_and_Roll.3.mid', 'Somebody_to_Love.5.mid', 'sussudio.mid', 'christie_road.mid', 'living_in_the_past.mid', 'Cant_Help_Falling_in_Love.1.mid', 'Lets_Dance.2.mid', 'six_wives_of_henry_8.mid', 'the_good_life.mid', 'codding_town.mid', 'Blowin_in_the_Wind.1.mid', 'in_the_country.mid', 'all_my_lovin.mid', 'all_cats_are_grey.mid', 'Nobodys_Fault_but_Mine.mid', 'good_times_roll.mid', 'sleep.mid', 'uptown_girl.mid', 'Jail_House_Rock.mid', 'I_Want_It_All.mid', 'wrong_way.mid', 'Bohemian_Rhapsody.3.mid', '60_years_old.mid', 'landslide.mid', 'Dont_Think_Twice,_Its_Alright.mid', 'i_am_the_walrus.mid', 'Billy_4.mid', 'Piano_Man.7.mid', 'The_Show_Must_Go_On.4.mid', 'Prelude_Angry_Young_Man.1.mid', 'Over_the_Hills_and_Far_Away.1.mid', 'under_pressure.mid', 'when_you_love_a_woman.mid', 'behind_the_lines.mid', 'Shipwrecked.1.mid', 'Zanzibar.mid', 'salvation.mid', 'lithium.mid', 'Amazing.mid', 'The_Show_Must_Go_On.5.mid', 'Boogie_With_Stu.2.mid', 'Lovin_Touchin_Squeezin.mid', \"can't_buy_me_love.mid\", 'stay.mid', 'Somebody_to_Love.1.mid', 'paradise_city.mid', 'ice_cream_man.mid', 'Thought_Id_Died_and_Gone_to_Heaven.1.mid', 'Another_One_Bites_The_Dust.2.mid', 'mean_street.mid', 'In_the_Light.mid', 'Good_Times_Bad_Times.mid', 'let_her_cry.mid', 'fascination_street.mid', 'Ten_Years_Gone.mid', 'The_Lamb_Lies_Down_on_Broadway.1.mid', 'Radio_Ga_Ga.1.mid', 'Rebel_Rebel.mid', 'R.I.P._Rock_in_Peace_.mid', 'Its_Still_Rock_and_Roll_to_Me.mid', 'Everything_I_Do_I_Do_It_For_You.4.mid', 'lukin.mid', 'save_me.mid', 'Firth_of_Fifth.4.mid', 'beautiful_girls.mid', 'cum_on_feel_the_noise.mid', 'Innuendo.2.mid', 'Immigrant_Song.3.mid', 'Dont_Be_Cruel.2.mid', 'Dont_Cry_Daddy.mid', 'Afterglow.2.mid', 'ana_godda_da_vida.mid', 'Blue_Suede_Shoes.5.mid', 'dancing_in_the_dark.mid', 'country_feedback.mid', 'candle_in_the_wind.mid', 'Open_Arms.6.mid', 'shine_on_you_crazy_diamond.mid', 'panama.mid', 'i_will.mid', 'lake_of_fire.mid', 'women.mid', \"all_in_a_mouse's_night.mid\", 'Space_Oddity.mid', 'Fun_It.mid', 'nocturne.mid', 'meatplow.mid', 'Youre_Only_Human_Second_Wind_.mid']\n"
          ]
        }
      ]
    },
    {
      "cell_type": "code",
      "source": [
        "num_files = len(fil)\n",
        "all_notes = []\n",
        "for f in fil:\n",
        "  print(f)\n",
        "  notes = midi_to_notes(\"/content/DataSet/Rock/\"+f)\n",
        "  all_notes.append(notes)\n",
        "\n",
        "all_notes = pd.concat(all_notes)"
      ],
      "metadata": {
        "colab": {
          "base_uri": "https://localhost:8080/",
          "height": 1000
        },
        "id": "QmaQzsQFORLH",
        "outputId": "a05c37ce-bb09-40cc-9116-0aa6e3dfff8f"
      },
      "execution_count": null,
      "outputs": [
        {
          "output_type": "stream",
          "name": "stdout",
          "text": [
            "inside_out.mid\n",
            "Its_a_Hard_Life.2.mid\n",
            "jamie.mid\n",
            "fountain_of_salamcis.mid\n",
            "word_of_mouth.mid\n",
            "just_what_i_needed.mid\n",
            "subdivisions.mid\n",
            "Uptown_Girl.1.mid\n"
          ]
        },
        {
          "output_type": "stream",
          "name": "stderr",
          "text": [
            "/usr/local/lib/python3.10/dist-packages/pretty_midi/pretty_midi.py:100: RuntimeWarning: Tempo, Key or Time signature change events found on non-zero tracks.  This is not a valid type 0 or type 1 MIDI file.  Tempo, Key or Time Signature may be wrong.\n",
            "  warnings.warn(\n"
          ]
        },
        {
          "output_type": "stream",
          "name": "stdout",
          "text": [
            "i_don't_want_to_know.mid\n",
            "bat_out_of_hell.mid\n",
            "Big_Shot.mid\n",
            "all_around_the_world.mid\n",
            "the_clap.mid\n",
            "Starman.mid\n",
            "high_and_dry.mid\n",
            "Mad_Man_Moon.1.mid\n",
            "get_back.mid\n",
            "angry_young_man.mid\n",
            "Blue_Suede_Shoes.4.mid\n",
            "Back_to_You_MTV_Unplugged_version_.mid\n",
            "super_vixen.mid\n",
            "Father_to_Son.mid\n",
            "Wont_Get_Fooled_Again.mid\n",
            "breakthrough.mid\n",
            "drown.mid\n",
            "jealous_guy.mid\n",
            "walla_walla.mid\n",
            "Substitute.mid\n",
            "sweet_child_o'_mine.mid\n",
            "Thought_Id_Died_and_Gone_to_Heaven.mid\n",
            "another_brick_in_the_wall.mid\n",
            "Lights.mid\n",
            "Skipping file /content/DataSet/Rock/Lights.mid due to invalid data byte.\n",
            "Summer_of_69.3.mid\n",
            "Big_Shot.1.mid\n",
            "Tea_for_One.mid\n",
            "Piano_Man.4.mid\n",
            "Living_on_My_Own.mid\n",
            "Let_Me_Be_Your_Teddy_Bear.1.mid\n",
            "the_miracle.mid\n",
            "Blowin_in_the_Wind.mid\n",
            "What_Is_and_What_Should_Never_Be.mid\n",
            "estranged.mid\n",
            "life_in_the_fast_lane.mid\n",
            "Everything_I_Do_I_Do_It_For_You.2.mid\n",
            "hey_you.mid\n",
            "Father_to_Son.1.mid\n",
            "whatever.mid\n",
            "don't_look_back_in_anger.mid\n",
            "faithfully.mid\n",
            "the_mexican_connection.mid\n",
            "Hush.mid\n",
            "wynona's_big_brown_beaver.mid\n",
            "the_trial.mid\n",
            "Skipping file /content/DataSet/Rock/the_trial.mid due to EOFError (likely corrupted).\n",
            "nikita.mid\n",
            "Skipping file /content/DataSet/Rock/nikita.mid due to EOFError (likely corrupted).\n",
            "Spread_Your_Wings.mid\n",
            "Moby_Dick.mid\n",
            "from_me_to_you.mid\n",
            "sex_type_thing.mid\n",
            "A_Trick_of_the_Tail.1.mid\n",
            "only_you.mid\n",
            "i'm_running.mid\n",
            "Return_to_Sender.1.mid\n",
            "Under_Pressure.6.mid\n",
            "fun_fun_fun.mid\n",
            "Many_Too_Many.1.mid\n",
            "night_swimming.mid\n",
            "Thank_You.mid\n",
            "daniel.mid\n",
            "I_Just_Cant_Help_Believing.3.mid\n",
            "Killer_Queen.4.mid\n",
            "roadhouse_blues.mid\n",
            "just_a_girl.mid\n",
            "Piano_Man.5.mid\n",
            "Fool_in_the_Rain.mid\n",
            "What_It_Takes.mid\n",
            "Just_the_Way_You_Are.8.mid\n",
            "Be_Good_to_Yourself.mid\n",
            "Cryin.1.mid\n",
            "blood_on_the_rooftops.mid\n",
            "The_Return_of_the_Giant_Hogweed.mid\n",
            "The_Brazilian.mid\n",
            "Crazy_Little_Thing_Called_Love.4.mid\n",
            "love_walks_in.mid\n",
            "Jesus_He_Knows_Me.4.mid\n",
            "Save_Me.2.mid\n",
            "invisible_man.mid\n",
            "Crazy_Little_Thing_Called_Love.1.mid\n",
            "Turn_It_On_Again.2.mid\n",
            "Falling_in_Love_Is_Hard_on_the_Knees_.mid\n",
            "don't_go_away.mid\n",
            "white_car.mid\n",
            "Communication_Breakdown.mid\n",
            "Highway_Star.mid\n",
            "gold_dust_woman.mid\n",
            "Mr._Bad_Guy.mid\n",
            "Separate_Ways_Words_Apart_.mid\n",
            "firth_of_fifth.mid\n",
            "Death_on_Two_Legs_Dedicated_To..._.mid\n",
            "Piano_Man.8.mid\n",
            "Invisible_Touch.6.mid\n",
            "can't_be_seen.mid\n",
            "doll_parts.mid\n",
            "standing_in_the_light.mid\n",
            "Ziggy_Stardust.1.mid\n",
            "pride_in_the_name_of_love.mid\n",
            "orange_crush.mid\n",
            "Livin_Lovin_Maid.1.mid\n",
            "leningrad.mid\n",
            "Cant_Help_Falling_in_Love.3.mid\n",
            "invisible_touch.mid\n",
            "innuendo.mid\n",
            "Positively_4th_Street.mid\n",
            "rock'n_me.mid\n",
            "planet_telex.mid\n",
            "come_as_you_are.mid\n",
            "makin_whoopee.mid\n",
            "Open_Arms.1.mid\n",
            "take_the_money_and_run.mid\n",
            "Somebody_to_Love.6.mid\n",
            "Turn_It_On_Again.1.mid\n",
            "Under_Pressure.5.mid\n",
            "whats_the_frequency_kenneth.mid\n",
            "matter_of_trust.mid\n",
            "Heroes.mid\n",
            "Burning_Love.mid\n",
            "jesus_he_knows_me.mid\n",
            "39.mid\n",
            "silent_running.mid\n",
            "86.mid\n",
            "These_Are_the_Days_of_Our_Lives.mid\n",
            "Radio_Ga_Ga.4.mid\n",
            "Dont_Stop_Believin.1.mid\n",
            "Blue_Suede_Shoes.1.mid\n",
            "Woman_From_Tokyo.mid\n",
            "morning_glory.mid\n",
            "The_Invisible_Man.1.mid\n",
            "316.mid\n",
            "she.mid\n",
            "spirit_of_radio.mid\n",
            "Skipping file /content/DataSet/Rock/spirit_of_radio.mid due to EOFError (likely corrupted).\n",
            "when_love_and_hate_collide.mid\n",
            "breathe.mid\n",
            "knife.mid\n",
            "roll_the_bones.mid\n",
            "Bron-Y-Aur_Stomp.2.mid\n",
            "17.mid\n",
            "i'll_wait.mid\n",
            "Whos_Crying_Now.2.mid\n",
            "Heaven.1.mid\n",
            "coma (1).mid\n",
            "gun.mid\n",
            "Immigrant_Song.4.mid\n",
            "Are_You_Lonesome_Tonight.7.mid\n",
            "Stairway_to_Heaven.6.mid\n",
            "Stairway_To_Heaven.3.mid\n",
            "Stairway_To_Heaven.11.mid\n",
            "The_Lamb_Lies_Down_on_Broadway.mid\n",
            "Hammer_to_Fall.mid\n",
            "Soldier_of_Fortune.mid\n",
            "Hots_On_for_Nowhere.mid\n",
            "Suffragette_City.mid\n",
            "Lullabye_Goodnight,_My_Angel_.1.mid\n",
            "Thunderstruck.1.mid\n",
            "Ashes_To_Ashes.mid\n",
            "Send_Her_My_Love.2.mid\n",
            "climbatized.mid\n",
            "Skipping file /content/DataSet/Rock/climbatized.mid due to invalid data byte.\n",
            "Hallelujah.mid\n",
            "get_here.mid\n",
            "hang_in_long_enough.mid\n",
            "Tonight_Tonight_Tonight.3.mid\n",
            "big_man_on_mulberry_street.mid\n",
            "sweet_dreams.mid\n",
            "Thought_Id_Died_and_Gone_to_Heaven.2.mid\n",
            "When_the_Levee_Breaks.2.mid\n",
            "Blind_Man.mid\n",
            "Bonzos_Montreaux.mid\n",
            "Love_Me.mid\n",
            "Ramble_On.mid\n",
            "requiem.mid\n",
            "Hard_Headed_Woman.1.mid\n",
            "with_or_without_you.mid\n",
            "if_i_fall.mid\n",
            "Too_Much_Love_Will_Kill_You.2.mid\n",
            "days_of_our_lives.mid\n",
            "not_enough.mid\n",
            "Land_of_Confusion.3.mid\n",
            "e_bow_the_letter.mid\n",
            "Turn_It_On_Again.3.mid\n",
            "aqua_lung.mid\n",
            "Jailhouse_Rock.mid\n",
            "When_the_Levee_Breaks.1.mid\n",
            "No_Quarter.2.mid\n",
            "i'm_waiting_for_an_answer.mid\n",
            "Jailhouse_Rock.3.mid\n",
            "Invisible_Touch.3.mid\n",
            "worry_rock.mid\n",
            "19th_nervous_breakdown.mid\n",
            "My_Way.mid\n",
            "Another_One_Bites_The_Dust.1.mid\n",
            "release.mid\n",
            "Highway_To_Hell.mid\n",
            "Lullabye_Goodnight,_My_Angel_.mid\n",
            "she's_got_issues.mid\n",
            "seether.mid\n",
            "Wheel_in_the_Sky.mid\n",
            "man_of_the_world.mid\n",
            "Blue_Christmas.1.mid\n",
            "Who_Made_Who.mid\n",
            "new_kid_in_town.mid\n",
            "Back_to_You.1.mid\n",
            "The_Rain_Song.1.mid\n",
            "Blue_Jean.mid\n",
            "The_River_of_Dreams.3.mid\n",
            "We_Will_Rock_You.1.mid\n",
            "and_i_love_her.mid\n",
            "Too_Much_Love_Will_Kill_You.1.mid\n",
            "fire.mid\n",
            "The_Invisible_Man.2.mid\n",
            "Lazy.mid\n",
            "Miami_2017_Seen_the_Lights_Go_Out_on_Broadway_.mid\n",
            "Dont_Ask_Me_Why.mid\n",
            "bliss.mid\n",
            "Crazy.1.mid\n",
            "the_fly.mid\n",
            "Love_Me_Tender.2.mid\n",
            "In_the_Cage.mid\n",
            "popular.mid\n",
            "separate_ways_worlds_apart.mid\n",
            "session.mid\n",
            "cupid_de_locke.mid\n",
            "Friends.mid\n",
            "New_York_State_of_Mind.2.mid\n",
            "no_son_of_mine.mid\n",
            "Smoke_On_The_Water.2.mid\n",
            "I_Want_You.mid\n",
            "Behind_Blue_Eyes.mid\n",
            "who_wants_to_live_forever.mid\n",
            "walking_contradiction.mid\n",
            "piano_man_classical_version.mid\n",
            "taste.mid\n"
          ]
        },
        {
          "output_type": "error",
          "ename": "OSError",
          "evalue": "MThd not found. Probably not a MIDI file",
          "traceback": [
            "\u001b[0;31m---------------------------------------------------------------------------\u001b[0m",
            "\u001b[0;31mOSError\u001b[0m                                   Traceback (most recent call last)",
            "\u001b[0;32m<ipython-input-26-ee2047f5eb58>\u001b[0m in \u001b[0;36m<cell line: 3>\u001b[0;34m()\u001b[0m\n\u001b[1;32m      3\u001b[0m \u001b[0;32mfor\u001b[0m \u001b[0mf\u001b[0m \u001b[0;32min\u001b[0m \u001b[0mfil\u001b[0m\u001b[0;34m:\u001b[0m\u001b[0;34m\u001b[0m\u001b[0;34m\u001b[0m\u001b[0m\n\u001b[1;32m      4\u001b[0m   \u001b[0mprint\u001b[0m\u001b[0;34m(\u001b[0m\u001b[0mf\u001b[0m\u001b[0;34m)\u001b[0m\u001b[0;34m\u001b[0m\u001b[0;34m\u001b[0m\u001b[0m\n\u001b[0;32m----> 5\u001b[0;31m   \u001b[0mnotes\u001b[0m \u001b[0;34m=\u001b[0m \u001b[0mmidi_to_notes\u001b[0m\u001b[0;34m(\u001b[0m\u001b[0;34m\"/content/DataSet/Rock/\"\u001b[0m\u001b[0;34m+\u001b[0m\u001b[0mf\u001b[0m\u001b[0;34m)\u001b[0m\u001b[0;34m\u001b[0m\u001b[0;34m\u001b[0m\u001b[0m\n\u001b[0m\u001b[1;32m      6\u001b[0m   \u001b[0mall_notes\u001b[0m\u001b[0;34m.\u001b[0m\u001b[0mappend\u001b[0m\u001b[0;34m(\u001b[0m\u001b[0mnotes\u001b[0m\u001b[0;34m)\u001b[0m\u001b[0;34m\u001b[0m\u001b[0;34m\u001b[0m\u001b[0m\n\u001b[1;32m      7\u001b[0m \u001b[0;34m\u001b[0m\u001b[0m\n",
            "\u001b[0;32m<ipython-input-25-328661924353>\u001b[0m in \u001b[0;36mmidi_to_notes\u001b[0;34m(midi_file)\u001b[0m\n\u001b[1;32m      2\u001b[0m     \u001b[0;34m\"\"\"Convert MIDI file to a Pandas DataFrame of notes.\"\"\"\u001b[0m\u001b[0;34m\u001b[0m\u001b[0;34m\u001b[0m\u001b[0m\n\u001b[1;32m      3\u001b[0m     \u001b[0;32mtry\u001b[0m\u001b[0;34m:\u001b[0m\u001b[0;34m\u001b[0m\u001b[0;34m\u001b[0m\u001b[0m\n\u001b[0;32m----> 4\u001b[0;31m         \u001b[0mpm\u001b[0m \u001b[0;34m=\u001b[0m \u001b[0mpretty_midi\u001b[0m\u001b[0;34m.\u001b[0m\u001b[0mPrettyMIDI\u001b[0m\u001b[0;34m(\u001b[0m\u001b[0mmidi_file\u001b[0m\u001b[0;34m)\u001b[0m\u001b[0;34m\u001b[0m\u001b[0;34m\u001b[0m\u001b[0m\n\u001b[0m\u001b[1;32m      5\u001b[0m         \u001b[0minstrument\u001b[0m \u001b[0;34m=\u001b[0m \u001b[0mpm\u001b[0m\u001b[0;34m.\u001b[0m\u001b[0minstruments\u001b[0m\u001b[0;34m[\u001b[0m\u001b[0;36m0\u001b[0m\u001b[0;34m]\u001b[0m\u001b[0;34m\u001b[0m\u001b[0;34m\u001b[0m\u001b[0m\n\u001b[1;32m      6\u001b[0m         \u001b[0mnotes\u001b[0m \u001b[0;34m=\u001b[0m \u001b[0mcollections\u001b[0m\u001b[0;34m.\u001b[0m\u001b[0mdefaultdict\u001b[0m\u001b[0;34m(\u001b[0m\u001b[0mlist\u001b[0m\u001b[0;34m)\u001b[0m\u001b[0;34m\u001b[0m\u001b[0;34m\u001b[0m\u001b[0m\n",
            "\u001b[0;32m/usr/local/lib/python3.10/dist-packages/pretty_midi/pretty_midi.py\u001b[0m in \u001b[0;36m__init__\u001b[0;34m(self, midi_file, resolution, initial_tempo)\u001b[0m\n\u001b[1;32m     61\u001b[0m             \u001b[0;32mif\u001b[0m \u001b[0misinstance\u001b[0m\u001b[0;34m(\u001b[0m\u001b[0mmidi_file\u001b[0m\u001b[0;34m,\u001b[0m \u001b[0msix\u001b[0m\u001b[0;34m.\u001b[0m\u001b[0mstring_types\u001b[0m\u001b[0;34m)\u001b[0m\u001b[0;34m:\u001b[0m\u001b[0;34m\u001b[0m\u001b[0;34m\u001b[0m\u001b[0m\n\u001b[1;32m     62\u001b[0m                 \u001b[0;31m# If a string was given, pass it as the string filename\u001b[0m\u001b[0;34m\u001b[0m\u001b[0;34m\u001b[0m\u001b[0m\n\u001b[0;32m---> 63\u001b[0;31m                 \u001b[0mmidi_data\u001b[0m \u001b[0;34m=\u001b[0m \u001b[0mmido\u001b[0m\u001b[0;34m.\u001b[0m\u001b[0mMidiFile\u001b[0m\u001b[0;34m(\u001b[0m\u001b[0mfilename\u001b[0m\u001b[0;34m=\u001b[0m\u001b[0mmidi_file\u001b[0m\u001b[0;34m)\u001b[0m\u001b[0;34m\u001b[0m\u001b[0;34m\u001b[0m\u001b[0m\n\u001b[0m\u001b[1;32m     64\u001b[0m             \u001b[0;32melse\u001b[0m\u001b[0;34m:\u001b[0m\u001b[0;34m\u001b[0m\u001b[0;34m\u001b[0m\u001b[0m\n\u001b[1;32m     65\u001b[0m                 \u001b[0;31m# Otherwise, try passing it in as a file pointer\u001b[0m\u001b[0;34m\u001b[0m\u001b[0;34m\u001b[0m\u001b[0m\n",
            "\u001b[0;32m/usr/local/lib/python3.10/dist-packages/mido/midifiles/midifiles.py\u001b[0m in \u001b[0;36m__init__\u001b[0;34m(self, filename, file, type, ticks_per_beat, charset, debug, clip, tracks)\u001b[0m\n\u001b[1;32m    318\u001b[0m         \u001b[0;32melif\u001b[0m \u001b[0mself\u001b[0m\u001b[0;34m.\u001b[0m\u001b[0mfilename\u001b[0m \u001b[0;32mis\u001b[0m \u001b[0;32mnot\u001b[0m \u001b[0;32mNone\u001b[0m\u001b[0;34m:\u001b[0m\u001b[0;34m\u001b[0m\u001b[0;34m\u001b[0m\u001b[0m\n\u001b[1;32m    319\u001b[0m             \u001b[0;32mwith\u001b[0m \u001b[0mopen\u001b[0m\u001b[0;34m(\u001b[0m\u001b[0mfilename\u001b[0m\u001b[0;34m,\u001b[0m \u001b[0;34m'rb'\u001b[0m\u001b[0;34m)\u001b[0m \u001b[0;32mas\u001b[0m \u001b[0mfile\u001b[0m\u001b[0;34m:\u001b[0m\u001b[0;34m\u001b[0m\u001b[0;34m\u001b[0m\u001b[0m\n\u001b[0;32m--> 320\u001b[0;31m                 \u001b[0mself\u001b[0m\u001b[0;34m.\u001b[0m\u001b[0m_load\u001b[0m\u001b[0;34m(\u001b[0m\u001b[0mfile\u001b[0m\u001b[0;34m)\u001b[0m\u001b[0;34m\u001b[0m\u001b[0;34m\u001b[0m\u001b[0m\n\u001b[0m\u001b[1;32m    321\u001b[0m \u001b[0;34m\u001b[0m\u001b[0m\n\u001b[1;32m    322\u001b[0m     \u001b[0;34m@\u001b[0m\u001b[0mproperty\u001b[0m\u001b[0;34m\u001b[0m\u001b[0;34m\u001b[0m\u001b[0m\n",
            "\u001b[0;32m/usr/local/lib/python3.10/dist-packages/mido/midifiles/midifiles.py\u001b[0m in \u001b[0;36m_load\u001b[0;34m(self, infile)\u001b[0m\n\u001b[1;32m    358\u001b[0m             (self.type,\n\u001b[1;32m    359\u001b[0m              \u001b[0mnum_tracks\u001b[0m\u001b[0;34m,\u001b[0m\u001b[0;34m\u001b[0m\u001b[0;34m\u001b[0m\u001b[0m\n\u001b[0;32m--> 360\u001b[0;31m              self.ticks_per_beat) = read_file_header(infile)\n\u001b[0m\u001b[1;32m    361\u001b[0m \u001b[0;34m\u001b[0m\u001b[0m\n\u001b[1;32m    362\u001b[0m             \u001b[0;32mif\u001b[0m \u001b[0mself\u001b[0m\u001b[0;34m.\u001b[0m\u001b[0mdebug\u001b[0m\u001b[0;34m:\u001b[0m\u001b[0;34m\u001b[0m\u001b[0;34m\u001b[0m\u001b[0m\n",
            "\u001b[0;32m/usr/local/lib/python3.10/dist-packages/mido/midifiles/midifiles.py\u001b[0m in \u001b[0;36mread_file_header\u001b[0;34m(infile)\u001b[0m\n\u001b[1;32m    104\u001b[0m \u001b[0;34m\u001b[0m\u001b[0m\n\u001b[1;32m    105\u001b[0m     \u001b[0;32mif\u001b[0m \u001b[0mname\u001b[0m \u001b[0;34m!=\u001b[0m \u001b[0;34mb'MThd'\u001b[0m\u001b[0;34m:\u001b[0m\u001b[0;34m\u001b[0m\u001b[0;34m\u001b[0m\u001b[0m\n\u001b[0;32m--> 106\u001b[0;31m         \u001b[0;32mraise\u001b[0m \u001b[0mOSError\u001b[0m\u001b[0;34m(\u001b[0m\u001b[0;34m'MThd not found. Probably not a MIDI file'\u001b[0m\u001b[0;34m)\u001b[0m\u001b[0;34m\u001b[0m\u001b[0;34m\u001b[0m\u001b[0m\n\u001b[0m\u001b[1;32m    107\u001b[0m     \u001b[0;32melse\u001b[0m\u001b[0;34m:\u001b[0m\u001b[0;34m\u001b[0m\u001b[0;34m\u001b[0m\u001b[0m\n\u001b[1;32m    108\u001b[0m         \u001b[0mdata\u001b[0m \u001b[0;34m=\u001b[0m \u001b[0minfile\u001b[0m\u001b[0;34m.\u001b[0m\u001b[0mread\u001b[0m\u001b[0;34m(\u001b[0m\u001b[0msize\u001b[0m\u001b[0;34m)\u001b[0m\u001b[0;34m\u001b[0m\u001b[0;34m\u001b[0m\u001b[0m\n",
            "\u001b[0;31mOSError\u001b[0m: MThd not found. Probably not a MIDI file"
          ]
        }
      ]
    },
    {
      "cell_type": "code",
      "source": [
        "all_notes = pd.concat(all_notes)"
      ],
      "metadata": {
        "id": "WZayO0tiTd4F"
      },
      "execution_count": null,
      "outputs": []
    },
    {
      "cell_type": "code",
      "source": [
        "n_notes = len(all_notes)\n",
        "print('Number of notes parsed:', n_notes)"
      ],
      "metadata": {
        "colab": {
          "base_uri": "https://localhost:8080/"
        },
        "id": "zJ4suz1SQkW5",
        "outputId": "24396081-a098-4427-c3ef-1ef4c7291bca"
      },
      "execution_count": null,
      "outputs": [
        {
          "output_type": "stream",
          "name": "stdout",
          "text": [
            "Number of notes parsed: 224117\n"
          ]
        }
      ]
    },
    {
      "cell_type": "code",
      "source": [
        "key_order = ['pitch', 'step', 'duration']\n",
        "train_notes = np.stack([all_notes[key] for key in key_order], axis=1)"
      ],
      "metadata": {
        "id": "THVrbFnBT6Xw"
      },
      "execution_count": null,
      "outputs": []
    },
    {
      "cell_type": "code",
      "source": [
        "notes_ds = tf.data.Dataset.from_tensor_slices(train_notes)\n",
        "notes_ds.element_spec"
      ],
      "metadata": {
        "colab": {
          "base_uri": "https://localhost:8080/"
        },
        "id": "ZSLF33PtTKig",
        "outputId": "0775e8f0-032b-4b60-cbdc-10a766b38852"
      },
      "execution_count": null,
      "outputs": [
        {
          "output_type": "execute_result",
          "data": {
            "text/plain": [
              "TensorSpec(shape=(3,), dtype=tf.float64, name=None)"
            ]
          },
          "metadata": {},
          "execution_count": 45
        }
      ]
    },
    {
      "cell_type": "code",
      "source": [
        "def create_sequences(\n",
        "    dataset: tf.data.Dataset,\n",
        "    seq_length: int,\n",
        "    vocab_size = 128,\n",
        ") -> tf.data.Dataset:\n",
        "  \"\"\"Returns TF Dataset of sequence and label examples.\"\"\"\n",
        "  seq_length = seq_length+1\n",
        "\n",
        "  # Take 1 extra for the labels\n",
        "  windows = dataset.window(seq_length, shift=1, stride=1,\n",
        "                              drop_remainder=True)\n",
        "\n",
        "  # `flat_map` flattens the\" dataset of datasets\" into a dataset of tensors\n",
        "  flatten = lambda x: x.batch(seq_length, drop_remainder=True)\n",
        "  sequences = windows.flat_map(flatten)\n",
        "\n",
        "  # Normalize note pitch\n",
        "  def scale_pitch(x):\n",
        "    x = x/[vocab_size,1.0,1.0]\n",
        "    return x\n",
        "\n",
        "  # Split the labels\n",
        "  def split_labels(sequences):\n",
        "    inputs = sequences[:-1]\n",
        "    labels_dense = sequences[-1]\n",
        "    labels = {key:labels_dense[i] for i,key in enumerate(key_order)}\n",
        "\n",
        "    return scale_pitch(inputs), labels\n",
        "\n",
        "  return sequences.map(split_labels, num_parallel_calls=tf.data.AUTOTUNE)"
      ],
      "metadata": {
        "id": "Koo-BBuMWtjH"
      },
      "execution_count": null,
      "outputs": []
    },
    {
      "cell_type": "code",
      "source": [
        "seq_length = 25\n",
        "vocab_size = 128\n",
        "seq_ds = create_sequences(notes_ds, seq_length, vocab_size)\n",
        "seq_ds.element_spec"
      ],
      "metadata": {
        "colab": {
          "base_uri": "https://localhost:8080/"
        },
        "id": "TlY2Jl5vWTtH",
        "outputId": "6a59545d-b9b9-402b-8c73-dba518682c8a"
      },
      "execution_count": null,
      "outputs": [
        {
          "output_type": "execute_result",
          "data": {
            "text/plain": [
              "(TensorSpec(shape=(25, 3), dtype=tf.float64, name=None),\n",
              " {'pitch': TensorSpec(shape=(), dtype=tf.float64, name=None),\n",
              "  'step': TensorSpec(shape=(), dtype=tf.float64, name=None),\n",
              "  'duration': TensorSpec(shape=(), dtype=tf.float64, name=None)})"
            ]
          },
          "metadata": {},
          "execution_count": 48
        }
      ]
    },
    {
      "cell_type": "code",
      "source": [
        "for seq, target in seq_ds.take(1):\n",
        "  print('sequence shape:', seq.shape)\n",
        "  print('sequence elements (first 10):', seq[0: 10])\n",
        "  print()\n",
        "  print('target:', target)"
      ],
      "metadata": {
        "colab": {
          "base_uri": "https://localhost:8080/"
        },
        "id": "AeouYySsW4sG",
        "outputId": "be38889a-a943-4375-b51e-49c632b709a7"
      },
      "execution_count": null,
      "outputs": [
        {
          "output_type": "stream",
          "name": "stdout",
          "text": [
            "sequence shape: (25, 3)\n",
            "sequence elements (first 10): tf.Tensor(\n",
            "[[0.421875   0.         0.08571425]\n",
            " [0.3671875  0.         0.08571425]\n",
            " [0.4609375  0.         0.08571425]\n",
            " [0.421875   0.1714285  0.04285712]\n",
            " [0.3671875  0.         0.04285712]\n",
            " [0.4609375  0.         0.04285712]\n",
            " [0.3515625  0.1714285  1.371428  ]\n",
            " [0.4453125  0.         1.371428  ]\n",
            " [0.40625    0.         1.371428  ]\n",
            " [0.3671875  1.371428   1.371428  ]], shape=(10, 3), dtype=float64)\n",
            "\n",
            "target: {'pitch': <tf.Tensor: shape=(), dtype=float64, numpy=40.0>, 'step': <tf.Tensor: shape=(), dtype=float64, numpy=0.0>, 'duration': <tf.Tensor: shape=(), dtype=float64, numpy=1.3714279999999999>}\n"
          ]
        }
      ]
    },
    {
      "cell_type": "code",
      "source": [
        "batch_size = 64\n",
        "buffer_size = n_notes - seq_length  # the number of items in the dataset\n",
        "train_ds = (seq_ds\n",
        "            .shuffle(buffer_size)\n",
        "            .batch(batch_size, drop_remainder=True)\n",
        "            .cache()\n",
        "            .prefetch(tf.data.experimental.AUTOTUNE))"
      ],
      "metadata": {
        "id": "tZ-4E9xxXWoJ"
      },
      "execution_count": null,
      "outputs": []
    },
    {
      "cell_type": "code",
      "source": [
        "train_ds.element_spec"
      ],
      "metadata": {
        "colab": {
          "base_uri": "https://localhost:8080/"
        },
        "id": "yLfmwMrqXX2j",
        "outputId": "9c3816fe-dcbc-4f68-85e4-1596a8474343"
      },
      "execution_count": null,
      "outputs": [
        {
          "output_type": "execute_result",
          "data": {
            "text/plain": [
              "(TensorSpec(shape=(64, 25, 3), dtype=tf.float64, name=None),\n",
              " {'pitch': TensorSpec(shape=(64,), dtype=tf.float64, name=None),\n",
              "  'step': TensorSpec(shape=(64,), dtype=tf.float64, name=None),\n",
              "  'duration': TensorSpec(shape=(64,), dtype=tf.float64, name=None)})"
            ]
          },
          "metadata": {},
          "execution_count": 51
        }
      ]
    },
    {
      "cell_type": "code",
      "source": [
        "def mse_with_positive_pressure(y_true: tf.Tensor, y_pred: tf.Tensor):\n",
        "  mse = (y_true - y_pred) ** 2\n",
        "  positive_pressure = 10 * tf.maximum(-y_pred, 0.0)\n",
        "  return tf.reduce_mean(mse + positive_pressure)"
      ],
      "metadata": {
        "id": "9MDY0E3dXj-y"
      },
      "execution_count": null,
      "outputs": []
    },
    {
      "cell_type": "code",
      "source": [
        "input_shape = (seq_length, 3)\n",
        "learning_rate = 0.005\n",
        "\n",
        "inputs = tf.keras.Input(input_shape)\n",
        "x = tf.keras.layers.LSTM(128)(inputs)\n",
        "\n",
        "outputs = {\n",
        "  'pitch': tf.keras.layers.Dense(128, name='pitch')(x),\n",
        "  'step': tf.keras.layers.Dense(1, name='step')(x),\n",
        "  'duration': tf.keras.layers.Dense(1, name='duration')(x),\n",
        "}\n",
        "\n",
        "model = tf.keras.Model(inputs, outputs)\n",
        "\n",
        "loss = {\n",
        "      'pitch': tf.keras.losses.SparseCategoricalCrossentropy(\n",
        "          from_logits=True),\n",
        "      'step': mse_with_positive_pressure,\n",
        "      'duration': mse_with_positive_pressure,\n",
        "}\n",
        "\n",
        "optimizer = tf.keras.optimizers.Adam(learning_rate=learning_rate)\n",
        "\n",
        "model.compile(loss=loss, optimizer=optimizer)\n",
        "\n",
        "model.summary()"
      ],
      "metadata": {
        "colab": {
          "base_uri": "https://localhost:8080/",
          "height": 300
        },
        "id": "PF_MMpMiXvz9",
        "outputId": "74a23b1d-64e1-4aac-aaa3-babc9b7ca049"
      },
      "execution_count": null,
      "outputs": [
        {
          "output_type": "display_data",
          "data": {
            "text/plain": [
              "\u001b[1mModel: \"functional\"\u001b[0m\n"
            ],
            "text/html": [
              "<pre style=\"white-space:pre;overflow-x:auto;line-height:normal;font-family:Menlo,'DejaVu Sans Mono',consolas,'Courier New',monospace\"><span style=\"font-weight: bold\">Model: \"functional\"</span>\n",
              "</pre>\n"
            ]
          },
          "metadata": {}
        },
        {
          "output_type": "display_data",
          "data": {
            "text/plain": [
              "┏━━━━━━━━━━━━━━━━━━━━━━━━━━━┳━━━━━━━━━━━━━━━━━━━━━━━━┳━━━━━━━━━━━━━━━━┳━━━━━━━━━━━━━━━━━━━━━━━━┓\n",
              "┃\u001b[1m \u001b[0m\u001b[1mLayer (type)             \u001b[0m\u001b[1m \u001b[0m┃\u001b[1m \u001b[0m\u001b[1mOutput Shape          \u001b[0m\u001b[1m \u001b[0m┃\u001b[1m \u001b[0m\u001b[1m       Param #\u001b[0m\u001b[1m \u001b[0m┃\u001b[1m \u001b[0m\u001b[1mConnected to          \u001b[0m\u001b[1m \u001b[0m┃\n",
              "┡━━━━━━━━━━━━━━━━━━━━━━━━━━━╇━━━━━━━━━━━━━━━━━━━━━━━━╇━━━━━━━━━━━━━━━━╇━━━━━━━━━━━━━━━━━━━━━━━━┩\n",
              "│ input_layer (\u001b[38;5;33mInputLayer\u001b[0m)  │ (\u001b[38;5;45mNone\u001b[0m, \u001b[38;5;34m25\u001b[0m, \u001b[38;5;34m3\u001b[0m)          │              \u001b[38;5;34m0\u001b[0m │ -                      │\n",
              "├───────────────────────────┼────────────────────────┼────────────────┼────────────────────────┤\n",
              "│ lstm (\u001b[38;5;33mLSTM\u001b[0m)               │ (\u001b[38;5;45mNone\u001b[0m, \u001b[38;5;34m128\u001b[0m)            │         \u001b[38;5;34m67,584\u001b[0m │ input_layer[\u001b[38;5;34m0\u001b[0m][\u001b[38;5;34m0\u001b[0m]      │\n",
              "├───────────────────────────┼────────────────────────┼────────────────┼────────────────────────┤\n",
              "│ duration (\u001b[38;5;33mDense\u001b[0m)          │ (\u001b[38;5;45mNone\u001b[0m, \u001b[38;5;34m1\u001b[0m)              │            \u001b[38;5;34m129\u001b[0m │ lstm[\u001b[38;5;34m0\u001b[0m][\u001b[38;5;34m0\u001b[0m]             │\n",
              "├───────────────────────────┼────────────────────────┼────────────────┼────────────────────────┤\n",
              "│ pitch (\u001b[38;5;33mDense\u001b[0m)             │ (\u001b[38;5;45mNone\u001b[0m, \u001b[38;5;34m128\u001b[0m)            │         \u001b[38;5;34m16,512\u001b[0m │ lstm[\u001b[38;5;34m0\u001b[0m][\u001b[38;5;34m0\u001b[0m]             │\n",
              "├───────────────────────────┼────────────────────────┼────────────────┼────────────────────────┤\n",
              "│ step (\u001b[38;5;33mDense\u001b[0m)              │ (\u001b[38;5;45mNone\u001b[0m, \u001b[38;5;34m1\u001b[0m)              │            \u001b[38;5;34m129\u001b[0m │ lstm[\u001b[38;5;34m0\u001b[0m][\u001b[38;5;34m0\u001b[0m]             │\n",
              "└───────────────────────────┴────────────────────────┴────────────────┴────────────────────────┘\n"
            ],
            "text/html": [
              "<pre style=\"white-space:pre;overflow-x:auto;line-height:normal;font-family:Menlo,'DejaVu Sans Mono',consolas,'Courier New',monospace\">┏━━━━━━━━━━━━━━━━━━━━━━━━━━━┳━━━━━━━━━━━━━━━━━━━━━━━━┳━━━━━━━━━━━━━━━━┳━━━━━━━━━━━━━━━━━━━━━━━━┓\n",
              "┃<span style=\"font-weight: bold\"> Layer (type)              </span>┃<span style=\"font-weight: bold\"> Output Shape           </span>┃<span style=\"font-weight: bold\">        Param # </span>┃<span style=\"font-weight: bold\"> Connected to           </span>┃\n",
              "┡━━━━━━━━━━━━━━━━━━━━━━━━━━━╇━━━━━━━━━━━━━━━━━━━━━━━━╇━━━━━━━━━━━━━━━━╇━━━━━━━━━━━━━━━━━━━━━━━━┩\n",
              "│ input_layer (<span style=\"color: #0087ff; text-decoration-color: #0087ff\">InputLayer</span>)  │ (<span style=\"color: #00d7ff; text-decoration-color: #00d7ff\">None</span>, <span style=\"color: #00af00; text-decoration-color: #00af00\">25</span>, <span style=\"color: #00af00; text-decoration-color: #00af00\">3</span>)          │              <span style=\"color: #00af00; text-decoration-color: #00af00\">0</span> │ -                      │\n",
              "├───────────────────────────┼────────────────────────┼────────────────┼────────────────────────┤\n",
              "│ lstm (<span style=\"color: #0087ff; text-decoration-color: #0087ff\">LSTM</span>)               │ (<span style=\"color: #00d7ff; text-decoration-color: #00d7ff\">None</span>, <span style=\"color: #00af00; text-decoration-color: #00af00\">128</span>)            │         <span style=\"color: #00af00; text-decoration-color: #00af00\">67,584</span> │ input_layer[<span style=\"color: #00af00; text-decoration-color: #00af00\">0</span>][<span style=\"color: #00af00; text-decoration-color: #00af00\">0</span>]      │\n",
              "├───────────────────────────┼────────────────────────┼────────────────┼────────────────────────┤\n",
              "│ duration (<span style=\"color: #0087ff; text-decoration-color: #0087ff\">Dense</span>)          │ (<span style=\"color: #00d7ff; text-decoration-color: #00d7ff\">None</span>, <span style=\"color: #00af00; text-decoration-color: #00af00\">1</span>)              │            <span style=\"color: #00af00; text-decoration-color: #00af00\">129</span> │ lstm[<span style=\"color: #00af00; text-decoration-color: #00af00\">0</span>][<span style=\"color: #00af00; text-decoration-color: #00af00\">0</span>]             │\n",
              "├───────────────────────────┼────────────────────────┼────────────────┼────────────────────────┤\n",
              "│ pitch (<span style=\"color: #0087ff; text-decoration-color: #0087ff\">Dense</span>)             │ (<span style=\"color: #00d7ff; text-decoration-color: #00d7ff\">None</span>, <span style=\"color: #00af00; text-decoration-color: #00af00\">128</span>)            │         <span style=\"color: #00af00; text-decoration-color: #00af00\">16,512</span> │ lstm[<span style=\"color: #00af00; text-decoration-color: #00af00\">0</span>][<span style=\"color: #00af00; text-decoration-color: #00af00\">0</span>]             │\n",
              "├───────────────────────────┼────────────────────────┼────────────────┼────────────────────────┤\n",
              "│ step (<span style=\"color: #0087ff; text-decoration-color: #0087ff\">Dense</span>)              │ (<span style=\"color: #00d7ff; text-decoration-color: #00d7ff\">None</span>, <span style=\"color: #00af00; text-decoration-color: #00af00\">1</span>)              │            <span style=\"color: #00af00; text-decoration-color: #00af00\">129</span> │ lstm[<span style=\"color: #00af00; text-decoration-color: #00af00\">0</span>][<span style=\"color: #00af00; text-decoration-color: #00af00\">0</span>]             │\n",
              "└───────────────────────────┴────────────────────────┴────────────────┴────────────────────────┘\n",
              "</pre>\n"
            ]
          },
          "metadata": {}
        },
        {
          "output_type": "display_data",
          "data": {
            "text/plain": [
              "\u001b[1m Total params: \u001b[0m\u001b[38;5;34m84,354\u001b[0m (329.51 KB)\n"
            ],
            "text/html": [
              "<pre style=\"white-space:pre;overflow-x:auto;line-height:normal;font-family:Menlo,'DejaVu Sans Mono',consolas,'Courier New',monospace\"><span style=\"font-weight: bold\"> Total params: </span><span style=\"color: #00af00; text-decoration-color: #00af00\">84,354</span> (329.51 KB)\n",
              "</pre>\n"
            ]
          },
          "metadata": {}
        },
        {
          "output_type": "display_data",
          "data": {
            "text/plain": [
              "\u001b[1m Trainable params: \u001b[0m\u001b[38;5;34m84,354\u001b[0m (329.51 KB)\n"
            ],
            "text/html": [
              "<pre style=\"white-space:pre;overflow-x:auto;line-height:normal;font-family:Menlo,'DejaVu Sans Mono',consolas,'Courier New',monospace\"><span style=\"font-weight: bold\"> Trainable params: </span><span style=\"color: #00af00; text-decoration-color: #00af00\">84,354</span> (329.51 KB)\n",
              "</pre>\n"
            ]
          },
          "metadata": {}
        },
        {
          "output_type": "display_data",
          "data": {
            "text/plain": [
              "\u001b[1m Non-trainable params: \u001b[0m\u001b[38;5;34m0\u001b[0m (0.00 B)\n"
            ],
            "text/html": [
              "<pre style=\"white-space:pre;overflow-x:auto;line-height:normal;font-family:Menlo,'DejaVu Sans Mono',consolas,'Courier New',monospace\"><span style=\"font-weight: bold\"> Non-trainable params: </span><span style=\"color: #00af00; text-decoration-color: #00af00\">0</span> (0.00 B)\n",
              "</pre>\n"
            ]
          },
          "metadata": {}
        }
      ]
    },
    {
      "cell_type": "code",
      "source": [
        "losses = model.evaluate(train_ds, return_dict=True)\n",
        "losses"
      ],
      "metadata": {
        "colab": {
          "base_uri": "https://localhost:8080/"
        },
        "id": "NAZaIwuBYTDe",
        "outputId": "a3a2004e-b8a0-41cd-ee82-2ace6a26c140"
      },
      "execution_count": null,
      "outputs": [
        {
          "output_type": "stream",
          "name": "stdout",
          "text": [
            "\u001b[1m3501/3501\u001b[0m \u001b[32m━━━━━━━━━━━━━━━━━━━━\u001b[0m\u001b[37m\u001b[0m \u001b[1m112s\u001b[0m 20ms/step - duration_loss: 0.3221 - loss: 8.4322 - pitch_loss: 4.8583 - step_loss: 3.2517\n"
          ]
        },
        {
          "output_type": "stream",
          "name": "stderr",
          "text": [
            "/usr/lib/python3.10/contextlib.py:153: UserWarning: Your input ran out of data; interrupting training. Make sure that your dataset or generator can generate at least `steps_per_epoch * epochs` batches. You may need to use the `.repeat()` function when building your dataset.\n",
            "  self.gen.throw(typ, value, traceback)\n"
          ]
        },
        {
          "output_type": "execute_result",
          "data": {
            "text/plain": [
              "{'duration_loss': 0.3275566101074219,\n",
              " 'loss': 12.259191513061523,\n",
              " 'pitch_loss': 4.856985569000244,\n",
              " 'step_loss': 7.074638366699219}"
            ]
          },
          "metadata": {},
          "execution_count": 54
        }
      ]
    },
    {
      "cell_type": "code",
      "source": [
        "model.compile(\n",
        "    loss=loss,\n",
        "    loss_weights={\n",
        "        'pitch': 0.05,\n",
        "        'step': 1.0,\n",
        "        'duration':1.0,\n",
        "    },\n",
        "    optimizer=optimizer,\n",
        ")"
      ],
      "metadata": {
        "id": "9jkruGBbY36h"
      },
      "execution_count": null,
      "outputs": []
    },
    {
      "cell_type": "code",
      "source": [
        "model.evaluate(train_ds, return_dict=True)"
      ],
      "metadata": {
        "colab": {
          "base_uri": "https://localhost:8080/"
        },
        "id": "F9Gg0rVVY8mJ",
        "outputId": "498edf0f-d7a2-4ff8-d14e-1ef83b2ef894"
      },
      "execution_count": null,
      "outputs": [
        {
          "output_type": "stream",
          "name": "stdout",
          "text": [
            "\u001b[1m3501/3501\u001b[0m \u001b[32m━━━━━━━━━━━━━━━━━━━━\u001b[0m\u001b[37m\u001b[0m \u001b[1m73s\u001b[0m 21ms/step - duration_loss: 0.3221 - loss: 3.8168 - pitch_loss: 0.2429 - step_loss: 3.2517\n"
          ]
        },
        {
          "output_type": "execute_result",
          "data": {
            "text/plain": [
              "{'duration_loss': 0.3275566101074219,\n",
              " 'loss': 7.645046234130859,\n",
              " 'pitch_loss': 0.24284929037094116,\n",
              " 'step_loss': 7.074638366699219}"
            ]
          },
          "metadata": {},
          "execution_count": 56
        }
      ]
    },
    {
      "cell_type": "code",
      "source": [
        "callbacks = [\n",
        "    tf.keras.callbacks.ModelCheckpoint(\n",
        "        # Added .weights.h5 to the filepath\n",
        "        filepath='./training_checkpoints/ckpt_{epoch}.weights.h5',\n",
        "        save_weights_only=True),\n",
        "    tf.keras.callbacks.EarlyStopping(\n",
        "        monitor='loss',\n",
        "        patience=5,\n",
        "        verbose=1,\n",
        "        restore_best_weights=True),\n",
        "]"
      ],
      "metadata": {
        "id": "4rORvdTBY_zy"
      },
      "execution_count": null,
      "outputs": []
    },
    {
      "cell_type": "code",
      "source": [
        "%%time\n",
        "epochs = 50\n",
        "\n",
        "history = model.fit(\n",
        "    train_ds,\n",
        "    epochs=epochs,\n",
        "    callbacks=callbacks,\n",
        ")"
      ],
      "metadata": {
        "colab": {
          "base_uri": "https://localhost:8080/"
        },
        "id": "GCeZAigwaAI_",
        "outputId": "5f7d8dd4-c191-4770-86a5-3a6c38c4fbd7"
      },
      "execution_count": null,
      "outputs": [
        {
          "output_type": "stream",
          "name": "stdout",
          "text": [
            "Epoch 1/50\n",
            "\u001b[1m3501/3501\u001b[0m \u001b[32m━━━━━━━━━━━━━━━━━━━━\u001b[0m\u001b[37m\u001b[0m \u001b[1m189s\u001b[0m 53ms/step - duration_loss: 0.1452 - loss: 2.9403 - pitch_loss: 0.1874 - step_loss: 2.6077\n",
            "Epoch 2/50\n",
            "\u001b[1m   1/3501\u001b[0m \u001b[37m━━━━━━━━━━━━━━━━━━━━\u001b[0m \u001b[1m2:40\u001b[0m 46ms/step - duration_loss: 0.0597 - loss: 0.2823 - pitch_loss: 0.1877 - step_loss: 0.0349"
          ]
        },
        {
          "output_type": "stream",
          "name": "stderr",
          "text": [
            "/usr/lib/python3.10/contextlib.py:153: UserWarning: Your input ran out of data; interrupting training. Make sure that your dataset or generator can generate at least `steps_per_epoch * epochs` batches. You may need to use the `.repeat()` function when building your dataset.\n",
            "  self.gen.throw(typ, value, traceback)\n"
          ]
        },
        {
          "output_type": "stream",
          "name": "stdout",
          "text": [
            "\u001b[1m3501/3501\u001b[0m \u001b[32m━━━━━━━━━━━━━━━━━━━━\u001b[0m\u001b[37m\u001b[0m \u001b[1m179s\u001b[0m 51ms/step - duration_loss: 0.1357 - loss: 2.8737 - pitch_loss: 0.1731 - step_loss: 2.5650\n",
            "Epoch 3/50\n",
            "\u001b[1m3501/3501\u001b[0m \u001b[32m━━━━━━━━━━━━━━━━━━━━\u001b[0m\u001b[37m\u001b[0m \u001b[1m201s\u001b[0m 51ms/step - duration_loss: 0.1337 - loss: 2.8585 - pitch_loss: 0.1683 - step_loss: 2.5565\n",
            "Epoch 4/50\n",
            "\u001b[1m3501/3501\u001b[0m \u001b[32m━━━━━━━━━━━━━━━━━━━━\u001b[0m\u001b[37m\u001b[0m \u001b[1m178s\u001b[0m 51ms/step - duration_loss: 0.1322 - loss: 2.8436 - pitch_loss: 0.1637 - step_loss: 2.5477\n",
            "Epoch 5/50\n",
            "\u001b[1m3501/3501\u001b[0m \u001b[32m━━━━━━━━━━━━━━━━━━━━\u001b[0m\u001b[37m\u001b[0m \u001b[1m178s\u001b[0m 51ms/step - duration_loss: 0.1308 - loss: 2.8311 - pitch_loss: 0.1639 - step_loss: 2.5364\n",
            "Epoch 6/50\n",
            "\u001b[1m3501/3501\u001b[0m \u001b[32m━━━━━━━━━━━━━━━━━━━━\u001b[0m\u001b[37m\u001b[0m \u001b[1m174s\u001b[0m 50ms/step - duration_loss: 0.1300 - loss: 2.8290 - pitch_loss: 0.1649 - step_loss: 2.5341\n",
            "Epoch 7/50\n",
            "\u001b[1m3501/3501\u001b[0m \u001b[32m━━━━━━━━━━━━━━━━━━━━\u001b[0m\u001b[37m\u001b[0m \u001b[1m173s\u001b[0m 49ms/step - duration_loss: 0.1308 - loss: 2.8540 - pitch_loss: 0.1645 - step_loss: 2.5586\n",
            "Epoch 8/50\n",
            "\u001b[1m3501/3501\u001b[0m \u001b[32m━━━━━━━━━━━━━━━━━━━━\u001b[0m\u001b[37m\u001b[0m \u001b[1m202s\u001b[0m 49ms/step - duration_loss: 0.1289 - loss: 2.8248 - pitch_loss: 0.1629 - step_loss: 2.5330\n",
            "Epoch 9/50\n",
            "\u001b[1m3501/3501\u001b[0m \u001b[32m━━━━━━━━━━━━━━━━━━━━\u001b[0m\u001b[37m\u001b[0m \u001b[1m172s\u001b[0m 49ms/step - duration_loss: 0.1290 - loss: 2.8031 - pitch_loss: 0.1614 - step_loss: 2.5127\n",
            "Epoch 10/50\n",
            "\u001b[1m3501/3501\u001b[0m \u001b[32m━━━━━━━━━━━━━━━━━━━━\u001b[0m\u001b[37m\u001b[0m \u001b[1m202s\u001b[0m 49ms/step - duration_loss: 0.1296 - loss: 2.8114 - pitch_loss: 0.1635 - step_loss: 2.5183\n",
            "Epoch 11/50\n",
            "\u001b[1m3501/3501\u001b[0m \u001b[32m━━━━━━━━━━━━━━━━━━━━\u001b[0m\u001b[37m\u001b[0m \u001b[1m175s\u001b[0m 50ms/step - duration_loss: 0.1282 - loss: 2.7948 - pitch_loss: 0.1604 - step_loss: 2.5062\n",
            "Epoch 12/50\n",
            "\u001b[1m3501/3501\u001b[0m \u001b[32m━━━━━━━━━━━━━━━━━━━━\u001b[0m\u001b[37m\u001b[0m \u001b[1m206s\u001b[0m 51ms/step - duration_loss: 0.1280 - loss: 2.7872 - pitch_loss: 0.1598 - step_loss: 2.4995\n",
            "Epoch 13/50\n",
            "\u001b[1m3501/3501\u001b[0m \u001b[32m━━━━━━━━━━━━━━━━━━━━\u001b[0m\u001b[37m\u001b[0m \u001b[1m175s\u001b[0m 50ms/step - duration_loss: 0.1285 - loss: 2.7648 - pitch_loss: 0.1599 - step_loss: 2.4764\n",
            "Epoch 14/50\n",
            "\u001b[1m3501/3501\u001b[0m \u001b[32m━━━━━━━━━━━━━━━━━━━━\u001b[0m\u001b[37m\u001b[0m \u001b[1m174s\u001b[0m 50ms/step - duration_loss: 0.1291 - loss: 2.7905 - pitch_loss: 0.1613 - step_loss: 2.5002\n",
            "Epoch 15/50\n",
            "\u001b[1m3501/3501\u001b[0m \u001b[32m━━━━━━━━━━━━━━━━━━━━\u001b[0m\u001b[37m\u001b[0m \u001b[1m173s\u001b[0m 50ms/step - duration_loss: 0.1296 - loss: 2.7837 - pitch_loss: 0.1607 - step_loss: 2.4934\n",
            "Epoch 16/50\n",
            "\u001b[1m3501/3501\u001b[0m \u001b[32m━━━━━━━━━━━━━━━━━━━━\u001b[0m\u001b[37m\u001b[0m \u001b[1m196s\u001b[0m 48ms/step - duration_loss: 0.1300 - loss: 2.7740 - pitch_loss: 0.1620 - step_loss: 2.4819\n",
            "Epoch 17/50\n",
            "\u001b[1m3501/3501\u001b[0m \u001b[32m━━━━━━━━━━━━━━━━━━━━\u001b[0m\u001b[37m\u001b[0m \u001b[1m169s\u001b[0m 48ms/step - duration_loss: 0.1400 - loss: 2.8804 - pitch_loss: 0.1676 - step_loss: 2.5727\n",
            "Epoch 18/50\n",
            "\u001b[1m3501/3501\u001b[0m \u001b[32m━━━━━━━━━━━━━━━━━━━━\u001b[0m\u001b[37m\u001b[0m \u001b[1m169s\u001b[0m 48ms/step - duration_loss: 0.1436 - loss: 2.9418 - pitch_loss: 0.1793 - step_loss: 2.6189\n",
            "Epoch 18: early stopping\n",
            "Restoring model weights from the end of the best epoch: 13.\n",
            "CPU times: user 1h 8min 11s, sys: 3min 54s, total: 1h 12min 5s\n",
            "Wall time: 55min 19s\n"
          ]
        }
      ]
    },
    {
      "cell_type": "code",
      "source": [
        "%%time\n",
        "epochs = 10\n",
        "\n",
        "history = model.fit(\n",
        "    train_ds,\n",
        "    epochs=epochs,\n",
        "    callbacks=callbacks,\n",
        ")"
      ],
      "metadata": {
        "colab": {
          "base_uri": "https://localhost:8080/"
        },
        "outputId": "196f3fab-b9b3-4f9d-d5c7-f5acd59520d5",
        "id": "bIvJzN7PuYRx"
      },
      "execution_count": null,
      "outputs": [
        {
          "output_type": "stream",
          "name": "stdout",
          "text": [
            "Epoch 1/10\n",
            "\u001b[1m3501/3501\u001b[0m \u001b[32m━━━━━━━━━━━━━━━━━━━━\u001b[0m\u001b[37m\u001b[0m \u001b[1m172s\u001b[0m 49ms/step - duration_loss: 0.1276 - loss: 2.6848 - pitch_loss: 0.1587 - step_loss: 2.3984\n",
            "Epoch 2/10\n",
            "\u001b[1m3501/3501\u001b[0m \u001b[32m━━━━━━━━━━━━━━━━━━━━\u001b[0m\u001b[37m\u001b[0m \u001b[1m168s\u001b[0m 48ms/step - duration_loss: 0.1299 - loss: 2.7766 - pitch_loss: 0.1652 - step_loss: 2.4815\n",
            "Epoch 3/10\n",
            "\u001b[1m3501/3501\u001b[0m \u001b[32m━━━━━━━━━━━━━━━━━━━━\u001b[0m\u001b[37m\u001b[0m \u001b[1m167s\u001b[0m 48ms/step - duration_loss: 0.1314 - loss: 2.7460 - pitch_loss: 0.1679 - step_loss: 2.4468\n",
            "Epoch 4/10\n",
            "\u001b[1m3501/3501\u001b[0m \u001b[32m━━━━━━━━━━━━━━━━━━━━\u001b[0m\u001b[37m\u001b[0m \u001b[1m202s\u001b[0m 48ms/step - duration_loss: 0.1326 - loss: 2.7460 - pitch_loss: 0.1692 - step_loss: 2.4443\n",
            "Epoch 5/10\n",
            "\u001b[1m3501/3501\u001b[0m \u001b[32m━━━━━━━━━━━━━━━━━━━━\u001b[0m\u001b[37m\u001b[0m \u001b[1m169s\u001b[0m 48ms/step - duration_loss: 0.1328 - loss: 2.7846 - pitch_loss: 0.1665 - step_loss: 2.4853\n",
            "Epoch 6/10\n",
            "\u001b[1m3501/3501\u001b[0m \u001b[32m━━━━━━━━━━━━━━━━━━━━\u001b[0m\u001b[37m\u001b[0m \u001b[1m201s\u001b[0m 48ms/step - duration_loss: 0.1346 - loss: 2.7932 - pitch_loss: 0.1676 - step_loss: 2.4911\n",
            "Epoch 7/10\n",
            "\u001b[1m3501/3501\u001b[0m \u001b[32m━━━━━━━━━━━━━━━━━━━━\u001b[0m\u001b[37m\u001b[0m \u001b[1m169s\u001b[0m 48ms/step - duration_loss: 0.1337 - loss: 2.8079 - pitch_loss: 0.1723 - step_loss: 2.5019\n",
            "Epoch 8/10\n",
            "\u001b[1m3501/3501\u001b[0m \u001b[32m━━━━━━━━━━━━━━━━━━━━\u001b[0m\u001b[37m\u001b[0m \u001b[1m168s\u001b[0m 48ms/step - duration_loss: 0.1352 - loss: 2.7905 - pitch_loss: 0.1637 - step_loss: 2.4916\n",
            "Epoch 9/10\n",
            "\u001b[1m3501/3501\u001b[0m \u001b[32m━━━━━━━━━━━━━━━━━━━━\u001b[0m\u001b[37m\u001b[0m \u001b[1m199s\u001b[0m 47ms/step - duration_loss: 0.1362 - loss: 2.7754 - pitch_loss: 0.1649 - step_loss: 2.4744\n",
            "Epoch 9: early stopping\n",
            "Restoring model weights from the end of the best epoch: 4.\n",
            "CPU times: user 33min 4s, sys: 1min 53s, total: 34min 58s\n",
            "Wall time: 26min 56s\n"
          ]
        }
      ]
    },
    {
      "cell_type": "code",
      "source": [
        "plt.plot(history.epoch, history.history['loss'], label='total loss')\n",
        "plt.show()"
      ],
      "metadata": {
        "colab": {
          "base_uri": "https://localhost:8080/",
          "height": 430
        },
        "id": "7praK2I83GES",
        "outputId": "a84b5519-5ae2-4d34-99c9-8acd5a1c1c8d"
      },
      "execution_count": null,
      "outputs": [
        {
          "output_type": "display_data",
          "data": {
            "text/plain": [
              "<Figure size 640x480 with 1 Axes>"
            ],
            "image/png": "[encoded data removed]"
          },
          "metadata": {}
        }
      ]
    },
    {
      "cell_type": "code",
      "source": [
        "def predict_next_note(\n",
        "    notes: np.ndarray,\n",
        "    model: tf.keras.Model,\n",
        "    temperature: float = 1.0) -> tuple[int, float, float]:\n",
        "  \"\"\"Generates a note as a tuple of (pitch, step, duration), using a trained sequence model.\"\"\"\n",
        "\n",
        "  assert temperature > 0\n",
        "\n",
        "  # Add batch dimension\n",
        "  inputs = tf.expand_dims(notes, 0)\n",
        "\n",
        "  predictions = model.predict(inputs)\n",
        "  pitch_logits = predictions['pitch']\n",
        "  step = predictions['step']\n",
        "  duration = predictions['duration']\n",
        "\n",
        "  pitch_logits /= temperature\n",
        "  pitch = tf.random.categorical(pitch_logits, num_samples=1)\n",
        "  pitch = tf.squeeze(pitch, axis=-1)\n",
        "  duration = tf.squeeze(duration, axis=-1)\n",
        "  step = tf.squeeze(step, axis=-1)\n",
        "\n",
        "  # `step` and `duration` values should be non-negative\n",
        "  step = tf.maximum(0, step)\n",
        "  duration = tf.maximum(0, duration)\n",
        "\n",
        "  return int(pitch), float(step), float(duration)"
      ],
      "metadata": {
        "id": "vZJOzcNQ3H7C"
      },
      "execution_count": null,
      "outputs": []
    },
    {
      "cell_type": "code",
      "source": [
        "temperature = 2.0\n",
        "num_predictions = 125\n",
        "\n",
        "sample_notes = np.stack([raw_notes[key] for key in key_order], axis=1)\n",
        "\n",
        "# The initial sequence of notes; pitch is normalized similar to training\n",
        "# sequences\n",
        "input_notes = (\n",
        "    sample_notes[:seq_length] / np.array([vocab_size, 1, 1]))\n",
        "\n",
        "generated_notes = []\n",
        "prev_start = 0\n",
        "for _ in range(num_predictions):\n",
        "  pitch, step, duration = predict_next_note(input_notes, model, temperature)\n",
        "  start = prev_start + step\n",
        "  end = start + duration\n",
        "  input_note = (pitch, step, duration)\n",
        "  generated_notes.append((*input_note, start, end))\n",
        "  input_notes = np.delete(input_notes, 0, axis=0)\n",
        "  input_notes = np.append(input_notes, np.expand_dims(input_note, 0), axis=0)\n",
        "  prev_start = start\n",
        "\n",
        "generated_notes = pd.DataFrame(\n",
        "    generated_notes, columns=(*key_order, 'start', 'end'))\n"
      ],
      "metadata": {
        "colab": {
          "base_uri": "https://localhost:8080/"
        },
        "id": "ochcwEqC3Lp4",
        "outputId": "ac18367e-a936-4432-9c4f-e9e084a4bf11"
      },
      "execution_count": null,
      "outputs": [
        {
          "output_type": "stream",
          "name": "stdout",
          "text": [
            "\u001b[1m1/1\u001b[0m \u001b[32m━━━━━━━━━━━━━━━━━━━━\u001b[0m\u001b[37m\u001b[0m \u001b[1m0s\u001b[0m 388ms/step\n",
            "\u001b[1m1/1\u001b[0m \u001b[32m━━━━━━━━━━━━━━━━━━━━\u001b[0m\u001b[37m\u001b[0m \u001b[1m0s\u001b[0m 30ms/step\n",
            "\u001b[1m1/1\u001b[0m \u001b[32m━━━━━━━━━━━━━━━━━━━━\u001b[0m\u001b[37m\u001b[0m \u001b[1m0s\u001b[0m 35ms/step\n",
            "\u001b[1m1/1\u001b[0m \u001b[32m━━━━━━━━━━━━━━━━━━━━\u001b[0m\u001b[37m\u001b[0m \u001b[1m0s\u001b[0m 31ms/step\n",
            "\u001b[1m1/1\u001b[0m \u001b[32m━━━━━━━━━━━━━━━━━━━━\u001b[0m\u001b[37m\u001b[0m \u001b[1m0s\u001b[0m 31ms/step\n",
            "\u001b[1m1/1\u001b[0m \u001b[32m━━━━━━━━━━━━━━━━━━━━\u001b[0m\u001b[37m\u001b[0m \u001b[1m0s\u001b[0m 31ms/step\n",
            "\u001b[1m1/1\u001b[0m \u001b[32m━━━━━━━━━━━━━━━━━━━━\u001b[0m\u001b[37m\u001b[0m \u001b[1m0s\u001b[0m 33ms/step\n",
            "\u001b[1m1/1\u001b[0m \u001b[32m━━━━━━━━━━━━━━━━━━━━\u001b[0m\u001b[37m\u001b[0m \u001b[1m0s\u001b[0m 32ms/step\n",
            "\u001b[1m1/1\u001b[0m \u001b[32m━━━━━━━━━━━━━━━━━━━━\u001b[0m\u001b[37m\u001b[0m \u001b[1m0s\u001b[0m 32ms/step\n",
            "\u001b[1m1/1\u001b[0m \u001b[32m━━━━━━━━━━━━━━━━━━━━\u001b[0m\u001b[37m\u001b[0m \u001b[1m0s\u001b[0m 34ms/step\n",
            "\u001b[1m1/1\u001b[0m \u001b[32m━━━━━━━━━━━━━━━━━━━━\u001b[0m\u001b[37m\u001b[0m \u001b[1m0s\u001b[0m 34ms/step\n",
            "\u001b[1m1/1\u001b[0m \u001b[32m━━━━━━━━━━━━━━━━━━━━\u001b[0m\u001b[37m\u001b[0m \u001b[1m0s\u001b[0m 32ms/step\n",
            "\u001b[1m1/1\u001b[0m \u001b[32m━━━━━━━━━━━━━━━━━━━━\u001b[0m\u001b[37m\u001b[0m \u001b[1m0s\u001b[0m 30ms/step\n",
            "\u001b[1m1/1\u001b[0m \u001b[32m━━━━━━━━━━━━━━━━━━━━\u001b[0m\u001b[37m\u001b[0m \u001b[1m0s\u001b[0m 30ms/step\n",
            "\u001b[1m1/1\u001b[0m \u001b[32m━━━━━━━━━━━━━━━━━━━━\u001b[0m\u001b[37m\u001b[0m \u001b[1m0s\u001b[0m 33ms/step\n",
            "\u001b[1m1/1\u001b[0m \u001b[32m━━━━━━━━━━━━━━━━━━━━\u001b[0m\u001b[37m\u001b[0m \u001b[1m0s\u001b[0m 36ms/step\n",
            "\u001b[1m1/1\u001b[0m \u001b[32m━━━━━━━━━━━━━━━━━━━━\u001b[0m\u001b[37m\u001b[0m \u001b[1m0s\u001b[0m 41ms/step\n",
            "\u001b[1m1/1\u001b[0m \u001b[32m━━━━━━━━━━━━━━━━━━━━\u001b[0m\u001b[37m\u001b[0m \u001b[1m0s\u001b[0m 32ms/step\n",
            "\u001b[1m1/1\u001b[0m \u001b[32m━━━━━━━━━━━━━━━━━━━━\u001b[0m\u001b[37m\u001b[0m \u001b[1m0s\u001b[0m 31ms/step\n",
            "\u001b[1m1/1\u001b[0m \u001b[32m━━━━━━━━━━━━━━━━━━━━\u001b[0m\u001b[37m\u001b[0m \u001b[1m0s\u001b[0m 32ms/step\n",
            "\u001b[1m1/1\u001b[0m \u001b[32m━━━━━━━━━━━━━━━━━━━━\u001b[0m\u001b[37m\u001b[0m \u001b[1m0s\u001b[0m 31ms/step\n",
            "\u001b[1m1/1\u001b[0m \u001b[32m━━━━━━━━━━━━━━━━━━━━\u001b[0m\u001b[37m\u001b[0m \u001b[1m0s\u001b[0m 33ms/step\n",
            "\u001b[1m1/1\u001b[0m \u001b[32m━━━━━━━━━━━━━━━━━━━━\u001b[0m\u001b[37m\u001b[0m \u001b[1m0s\u001b[0m 33ms/step\n",
            "\u001b[1m1/1\u001b[0m \u001b[32m━━━━━━━━━━━━━━━━━━━━\u001b[0m\u001b[37m\u001b[0m \u001b[1m0s\u001b[0m 31ms/step\n",
            "\u001b[1m1/1\u001b[0m \u001b[32m━━━━━━━━━━━━━━━━━━━━\u001b[0m\u001b[37m\u001b[0m \u001b[1m0s\u001b[0m 31ms/step\n",
            "\u001b[1m1/1\u001b[0m \u001b[32m━━━━━━━━━━━━━━━━━━━━\u001b[0m\u001b[37m\u001b[0m \u001b[1m0s\u001b[0m 30ms/step\n",
            "\u001b[1m1/1\u001b[0m \u001b[32m━━━━━━━━━━━━━━━━━━━━\u001b[0m\u001b[37m\u001b[0m \u001b[1m0s\u001b[0m 32ms/step\n",
            "\u001b[1m1/1\u001b[0m \u001b[32m━━━━━━━━━━━━━━━━━━━━\u001b[0m\u001b[37m\u001b[0m \u001b[1m0s\u001b[0m 31ms/step\n",
            "\u001b[1m1/1\u001b[0m \u001b[32m━━━━━━━━━━━━━━━━━━━━\u001b[0m\u001b[37m\u001b[0m \u001b[1m0s\u001b[0m 30ms/step\n",
            "\u001b[1m1/1\u001b[0m \u001b[32m━━━━━━━━━━━━━━━━━━━━\u001b[0m\u001b[37m\u001b[0m \u001b[1m0s\u001b[0m 34ms/step\n",
            "\u001b[1m1/1\u001b[0m \u001b[32m━━━━━━━━━━━━━━━━━━━━\u001b[0m\u001b[37m\u001b[0m \u001b[1m0s\u001b[0m 31ms/step\n",
            "\u001b[1m1/1\u001b[0m \u001b[32m━━━━━━━━━━━━━━━━━━━━\u001b[0m\u001b[37m\u001b[0m \u001b[1m0s\u001b[0m 32ms/step\n",
            "\u001b[1m1/1\u001b[0m \u001b[32m━━━━━━━━━━━━━━━━━━━━\u001b[0m\u001b[37m\u001b[0m \u001b[1m0s\u001b[0m 31ms/step\n",
            "\u001b[1m1/1\u001b[0m \u001b[32m━━━━━━━━━━━━━━━━━━━━\u001b[0m\u001b[37m\u001b[0m \u001b[1m0s\u001b[0m 33ms/step\n",
            "\u001b[1m1/1\u001b[0m \u001b[32m━━━━━━━━━━━━━━━━━━━━\u001b[0m\u001b[37m\u001b[0m \u001b[1m0s\u001b[0m 52ms/step\n",
            "\u001b[1m1/1\u001b[0m \u001b[32m━━━━━━━━━━━━━━━━━━━━\u001b[0m\u001b[37m\u001b[0m \u001b[1m0s\u001b[0m 47ms/step\n",
            "\u001b[1m1/1\u001b[0m \u001b[32m━━━━━━━━━━━━━━━━━━━━\u001b[0m\u001b[37m\u001b[0m \u001b[1m0s\u001b[0m 47ms/step\n",
            "\u001b[1m1/1\u001b[0m \u001b[32m━━━━━━━━━━━━━━━━━━━━\u001b[0m\u001b[37m\u001b[0m \u001b[1m0s\u001b[0m 43ms/step\n",
            "\u001b[1m1/1\u001b[0m \u001b[32m━━━━━━━━━━━━━━━━━━━━\u001b[0m\u001b[37m\u001b[0m \u001b[1m0s\u001b[0m 45ms/step\n",
            "\u001b[1m1/1\u001b[0m \u001b[32m━━━━━━━━━━━━━━━━━━━━\u001b[0m\u001b[37m\u001b[0m \u001b[1m0s\u001b[0m 48ms/step\n",
            "\u001b[1m1/1\u001b[0m \u001b[32m━━━━━━━━━━━━━━━━━━━━\u001b[0m\u001b[37m\u001b[0m \u001b[1m0s\u001b[0m 53ms/step\n",
            "\u001b[1m1/1\u001b[0m \u001b[32m━━━━━━━━━━━━━━━━━━━━\u001b[0m\u001b[37m\u001b[0m \u001b[1m0s\u001b[0m 51ms/step\n",
            "\u001b[1m1/1\u001b[0m \u001b[32m━━━━━━━━━━━━━━━━━━━━\u001b[0m\u001b[37m\u001b[0m \u001b[1m0s\u001b[0m 48ms/step\n",
            "\u001b[1m1/1\u001b[0m \u001b[32m━━━━━━━━━━━━━━━━━━━━\u001b[0m\u001b[37m\u001b[0m \u001b[1m0s\u001b[0m 49ms/step\n",
            "\u001b[1m1/1\u001b[0m \u001b[32m━━━━━━━━━━━━━━━━━━━━\u001b[0m\u001b[37m\u001b[0m \u001b[1m0s\u001b[0m 48ms/step\n",
            "\u001b[1m1/1\u001b[0m \u001b[32m━━━━━━━━━━━━━━━━━━━━\u001b[0m\u001b[37m\u001b[0m \u001b[1m0s\u001b[0m 81ms/step\n",
            "\u001b[1m1/1\u001b[0m \u001b[32m━━━━━━━━━━━━━━━━━━━━\u001b[0m\u001b[37m\u001b[0m \u001b[1m0s\u001b[0m 92ms/step\n",
            "\u001b[1m1/1\u001b[0m \u001b[32m━━━━━━━━━━━━━━━━━━━━\u001b[0m\u001b[37m\u001b[0m \u001b[1m0s\u001b[0m 62ms/step\n",
            "\u001b[1m1/1\u001b[0m \u001b[32m━━━━━━━━━━━━━━━━━━━━\u001b[0m\u001b[37m\u001b[0m \u001b[1m0s\u001b[0m 72ms/step\n",
            "\u001b[1m1/1\u001b[0m \u001b[32m━━━━━━━━━━━━━━━━━━━━\u001b[0m\u001b[37m\u001b[0m \u001b[1m0s\u001b[0m 80ms/step\n",
            "\u001b[1m1/1\u001b[0m \u001b[32m━━━━━━━━━━━━━━━━━━━━\u001b[0m\u001b[37m\u001b[0m \u001b[1m0s\u001b[0m 59ms/step\n",
            "\u001b[1m1/1\u001b[0m \u001b[32m━━━━━━━━━━━━━━━━━━━━\u001b[0m\u001b[37m\u001b[0m \u001b[1m0s\u001b[0m 74ms/step\n",
            "\u001b[1m1/1\u001b[0m \u001b[32m━━━━━━━━━━━━━━━━━━━━\u001b[0m\u001b[37m\u001b[0m \u001b[1m0s\u001b[0m 50ms/step\n",
            "\u001b[1m1/1\u001b[0m \u001b[32m━━━━━━━━━━━━━━━━━━━━\u001b[0m\u001b[37m\u001b[0m \u001b[1m0s\u001b[0m 46ms/step\n",
            "\u001b[1m1/1\u001b[0m \u001b[32m━━━━━━━━━━━━━━━━━━━━\u001b[0m\u001b[37m\u001b[0m \u001b[1m0s\u001b[0m 50ms/step\n",
            "\u001b[1m1/1\u001b[0m \u001b[32m━━━━━━━━━━━━━━━━━━━━\u001b[0m\u001b[37m\u001b[0m \u001b[1m0s\u001b[0m 46ms/step\n",
            "\u001b[1m1/1\u001b[0m \u001b[32m━━━━━━━━━━━━━━━━━━━━\u001b[0m\u001b[37m\u001b[0m \u001b[1m0s\u001b[0m 46ms/step\n",
            "\u001b[1m1/1\u001b[0m \u001b[32m━━━━━━━━━━━━━━━━━━━━\u001b[0m\u001b[37m\u001b[0m \u001b[1m0s\u001b[0m 47ms/step\n",
            "\u001b[1m1/1\u001b[0m \u001b[32m━━━━━━━━━━━━━━━━━━━━\u001b[0m\u001b[37m\u001b[0m \u001b[1m0s\u001b[0m 53ms/step\n",
            "\u001b[1m1/1\u001b[0m \u001b[32m━━━━━━━━━━━━━━━━━━━━\u001b[0m\u001b[37m\u001b[0m \u001b[1m0s\u001b[0m 54ms/step\n",
            "\u001b[1m1/1\u001b[0m \u001b[32m━━━━━━━━━━━━━━━━━━━━\u001b[0m\u001b[37m\u001b[0m \u001b[1m0s\u001b[0m 32ms/step\n",
            "\u001b[1m1/1\u001b[0m \u001b[32m━━━━━━━━━━━━━━━━━━━━\u001b[0m\u001b[37m\u001b[0m \u001b[1m0s\u001b[0m 33ms/step\n",
            "\u001b[1m1/1\u001b[0m \u001b[32m━━━━━━━━━━━━━━━━━━━━\u001b[0m\u001b[37m\u001b[0m \u001b[1m0s\u001b[0m 33ms/step\n",
            "\u001b[1m1/1\u001b[0m \u001b[32m━━━━━━━━━━━━━━━━━━━━\u001b[0m\u001b[37m\u001b[0m \u001b[1m0s\u001b[0m 31ms/step\n",
            "\u001b[1m1/1\u001b[0m \u001b[32m━━━━━━━━━━━━━━━━━━━━\u001b[0m\u001b[37m\u001b[0m \u001b[1m0s\u001b[0m 32ms/step\n",
            "\u001b[1m1/1\u001b[0m \u001b[32m━━━━━━━━━━━━━━━━━━━━\u001b[0m\u001b[37m\u001b[0m \u001b[1m0s\u001b[0m 33ms/step\n",
            "\u001b[1m1/1\u001b[0m \u001b[32m━━━━━━━━━━━━━━━━━━━━\u001b[0m\u001b[37m\u001b[0m \u001b[1m0s\u001b[0m 30ms/step\n",
            "\u001b[1m1/1\u001b[0m \u001b[32m━━━━━━━━━━━━━━━━━━━━\u001b[0m\u001b[37m\u001b[0m \u001b[1m0s\u001b[0m 31ms/step\n",
            "\u001b[1m1/1\u001b[0m \u001b[32m━━━━━━━━━━━━━━━━━━━━\u001b[0m\u001b[37m\u001b[0m \u001b[1m0s\u001b[0m 32ms/step\n",
            "\u001b[1m1/1\u001b[0m \u001b[32m━━━━━━━━━━━━━━━━━━━━\u001b[0m\u001b[37m\u001b[0m \u001b[1m0s\u001b[0m 33ms/step\n",
            "\u001b[1m1/1\u001b[0m \u001b[32m━━━━━━━━━━━━━━━━━━━━\u001b[0m\u001b[37m\u001b[0m \u001b[1m0s\u001b[0m 32ms/step\n",
            "\u001b[1m1/1\u001b[0m \u001b[32m━━━━━━━━━━━━━━━━━━━━\u001b[0m\u001b[37m\u001b[0m \u001b[1m0s\u001b[0m 32ms/step\n",
            "\u001b[1m1/1\u001b[0m \u001b[32m━━━━━━━━━━━━━━━━━━━━\u001b[0m\u001b[37m\u001b[0m \u001b[1m0s\u001b[0m 30ms/step\n",
            "\u001b[1m1/1\u001b[0m \u001b[32m━━━━━━━━━━━━━━━━━━━━\u001b[0m\u001b[37m\u001b[0m \u001b[1m0s\u001b[0m 33ms/step\n",
            "\u001b[1m1/1\u001b[0m \u001b[32m━━━━━━━━━━━━━━━━━━━━\u001b[0m\u001b[37m\u001b[0m \u001b[1m0s\u001b[0m 34ms/step\n",
            "\u001b[1m1/1\u001b[0m \u001b[32m━━━━━━━━━━━━━━━━━━━━\u001b[0m\u001b[37m\u001b[0m \u001b[1m0s\u001b[0m 36ms/step\n",
            "\u001b[1m1/1\u001b[0m \u001b[32m━━━━━━━━━━━━━━━━━━━━\u001b[0m\u001b[37m\u001b[0m \u001b[1m0s\u001b[0m 32ms/step\n",
            "\u001b[1m1/1\u001b[0m \u001b[32m━━━━━━━━━━━━━━━━━━━━\u001b[0m\u001b[37m\u001b[0m \u001b[1m0s\u001b[0m 30ms/step\n",
            "\u001b[1m1/1\u001b[0m \u001b[32m━━━━━━━━━━━━━━━━━━━━\u001b[0m\u001b[37m\u001b[0m \u001b[1m0s\u001b[0m 34ms/step\n",
            "\u001b[1m1/1\u001b[0m \u001b[32m━━━━━━━━━━━━━━━━━━━━\u001b[0m\u001b[37m\u001b[0m \u001b[1m0s\u001b[0m 31ms/step\n",
            "\u001b[1m1/1\u001b[0m \u001b[32m━━━━━━━━━━━━━━━━━━━━\u001b[0m\u001b[37m\u001b[0m \u001b[1m0s\u001b[0m 33ms/step\n",
            "\u001b[1m1/1\u001b[0m \u001b[32m━━━━━━━━━━━━━━━━━━━━\u001b[0m\u001b[37m\u001b[0m \u001b[1m0s\u001b[0m 34ms/step\n",
            "\u001b[1m1/1\u001b[0m \u001b[32m━━━━━━━━━━━━━━━━━━━━\u001b[0m\u001b[37m\u001b[0m \u001b[1m0s\u001b[0m 35ms/step\n",
            "\u001b[1m1/1\u001b[0m \u001b[32m━━━━━━━━━━━━━━━━━━━━\u001b[0m\u001b[37m\u001b[0m \u001b[1m0s\u001b[0m 32ms/step\n",
            "\u001b[1m1/1\u001b[0m \u001b[32m━━━━━━━━━━━━━━━━━━━━\u001b[0m\u001b[37m\u001b[0m \u001b[1m0s\u001b[0m 32ms/step\n",
            "\u001b[1m1/1\u001b[0m \u001b[32m━━━━━━━━━━━━━━━━━━━━\u001b[0m\u001b[37m\u001b[0m \u001b[1m0s\u001b[0m 42ms/step\n",
            "\u001b[1m1/1\u001b[0m \u001b[32m━━━━━━━━━━━━━━━━━━━━\u001b[0m\u001b[37m\u001b[0m \u001b[1m0s\u001b[0m 34ms/step\n",
            "\u001b[1m1/1\u001b[0m \u001b[32m━━━━━━━━━━━━━━━━━━━━\u001b[0m\u001b[37m\u001b[0m \u001b[1m0s\u001b[0m 34ms/step\n",
            "\u001b[1m1/1\u001b[0m \u001b[32m━━━━━━━━━━━━━━━━━━━━\u001b[0m\u001b[37m\u001b[0m \u001b[1m0s\u001b[0m 31ms/step\n",
            "\u001b[1m1/1\u001b[0m \u001b[32m━━━━━━━━━━━━━━━━━━━━\u001b[0m\u001b[37m\u001b[0m \u001b[1m0s\u001b[0m 31ms/step\n",
            "\u001b[1m1/1\u001b[0m \u001b[32m━━━━━━━━━━━━━━━━━━━━\u001b[0m\u001b[37m\u001b[0m \u001b[1m0s\u001b[0m 31ms/step\n",
            "\u001b[1m1/1\u001b[0m \u001b[32m━━━━━━━━━━━━━━━━━━━━\u001b[0m\u001b[37m\u001b[0m \u001b[1m0s\u001b[0m 32ms/step\n",
            "\u001b[1m1/1\u001b[0m \u001b[32m━━━━━━━━━━━━━━━━━━━━\u001b[0m\u001b[37m\u001b[0m \u001b[1m0s\u001b[0m 32ms/step\n",
            "\u001b[1m1/1\u001b[0m \u001b[32m━━━━━━━━━━━━━━━━━━━━\u001b[0m\u001b[37m\u001b[0m \u001b[1m0s\u001b[0m 31ms/step\n",
            "\u001b[1m1/1\u001b[0m \u001b[32m━━━━━━━━━━━━━━━━━━━━\u001b[0m\u001b[37m\u001b[0m \u001b[1m0s\u001b[0m 32ms/step\n",
            "\u001b[1m1/1\u001b[0m \u001b[32m━━━━━━━━━━━━━━━━━━━━\u001b[0m\u001b[37m\u001b[0m \u001b[1m0s\u001b[0m 41ms/step\n",
            "\u001b[1m1/1\u001b[0m \u001b[32m━━━━━━━━━━━━━━━━━━━━\u001b[0m\u001b[37m\u001b[0m \u001b[1m0s\u001b[0m 33ms/step\n",
            "\u001b[1m1/1\u001b[0m \u001b[32m━━━━━━━━━━━━━━━━━━━━\u001b[0m\u001b[37m\u001b[0m \u001b[1m0s\u001b[0m 31ms/step\n",
            "\u001b[1m1/1\u001b[0m \u001b[32m━━━━━━━━━━━━━━━━━━━━\u001b[0m\u001b[37m\u001b[0m \u001b[1m0s\u001b[0m 33ms/step\n",
            "\u001b[1m1/1\u001b[0m \u001b[32m━━━━━━━━━━━━━━━━━━━━\u001b[0m\u001b[37m\u001b[0m \u001b[1m0s\u001b[0m 31ms/step\n",
            "\u001b[1m1/1\u001b[0m \u001b[32m━━━━━━━━━━━━━━━━━━━━\u001b[0m\u001b[37m\u001b[0m \u001b[1m0s\u001b[0m 32ms/step\n",
            "\u001b[1m1/1\u001b[0m \u001b[32m━━━━━━━━━━━━━━━━━━━━\u001b[0m\u001b[37m\u001b[0m \u001b[1m0s\u001b[0m 31ms/step\n",
            "\u001b[1m1/1\u001b[0m \u001b[32m━━━━━━━━━━━━━━━━━━━━\u001b[0m\u001b[37m\u001b[0m \u001b[1m0s\u001b[0m 35ms/step\n",
            "\u001b[1m1/1\u001b[0m \u001b[32m━━━━━━━━━━━━━━━━━━━━\u001b[0m\u001b[37m\u001b[0m \u001b[1m0s\u001b[0m 30ms/step\n",
            "\u001b[1m1/1\u001b[0m \u001b[32m━━━━━━━━━━━━━━━━━━━━\u001b[0m\u001b[37m\u001b[0m \u001b[1m0s\u001b[0m 33ms/step\n",
            "\u001b[1m1/1\u001b[0m \u001b[32m━━━━━━━━━━━━━━━━━━━━\u001b[0m\u001b[37m\u001b[0m \u001b[1m0s\u001b[0m 31ms/step\n",
            "\u001b[1m1/1\u001b[0m \u001b[32m━━━━━━━━━━━━━━━━━━━━\u001b[0m\u001b[37m\u001b[0m \u001b[1m0s\u001b[0m 35ms/step\n",
            "\u001b[1m1/1\u001b[0m \u001b[32m━━━━━━━━━━━━━━━━━━━━\u001b[0m\u001b[37m\u001b[0m \u001b[1m0s\u001b[0m 31ms/step\n",
            "\u001b[1m1/1\u001b[0m \u001b[32m━━━━━━━━━━━━━━━━━━━━\u001b[0m\u001b[37m\u001b[0m \u001b[1m0s\u001b[0m 31ms/step\n",
            "\u001b[1m1/1\u001b[0m \u001b[32m━━━━━━━━━━━━━━━━━━━━\u001b[0m\u001b[37m\u001b[0m \u001b[1m0s\u001b[0m 30ms/step\n",
            "\u001b[1m1/1\u001b[0m \u001b[32m━━━━━━━━━━━━━━━━━━━━\u001b[0m\u001b[37m\u001b[0m \u001b[1m0s\u001b[0m 30ms/step\n",
            "\u001b[1m1/1\u001b[0m \u001b[32m━━━━━━━━━━━━━━━━━━━━\u001b[0m\u001b[37m\u001b[0m \u001b[1m0s\u001b[0m 33ms/step\n",
            "\u001b[1m1/1\u001b[0m \u001b[32m━━━━━━━━━━━━━━━━━━━━\u001b[0m\u001b[37m\u001b[0m \u001b[1m0s\u001b[0m 31ms/step\n",
            "\u001b[1m1/1\u001b[0m \u001b[32m━━━━━━━━━━━━━━━━━━━━\u001b[0m\u001b[37m\u001b[0m \u001b[1m0s\u001b[0m 30ms/step\n",
            "\u001b[1m1/1\u001b[0m \u001b[32m━━━━━━━━━━━━━━━━━━━━\u001b[0m\u001b[37m\u001b[0m \u001b[1m0s\u001b[0m 33ms/step\n",
            "\u001b[1m1/1\u001b[0m \u001b[32m━━━━━━━━━━━━━━━━━━━━\u001b[0m\u001b[37m\u001b[0m \u001b[1m0s\u001b[0m 35ms/step\n",
            "\u001b[1m1/1\u001b[0m \u001b[32m━━━━━━━━━━━━━━━━━━━━\u001b[0m\u001b[37m\u001b[0m \u001b[1m0s\u001b[0m 37ms/step\n",
            "\u001b[1m1/1\u001b[0m \u001b[32m━━━━━━━━━━━━━━━━━━━━\u001b[0m\u001b[37m\u001b[0m \u001b[1m0s\u001b[0m 31ms/step\n",
            "\u001b[1m1/1\u001b[0m \u001b[32m━━━━━━━━━━━━━━━━━━━━\u001b[0m\u001b[37m\u001b[0m \u001b[1m0s\u001b[0m 33ms/step\n",
            "\u001b[1m1/1\u001b[0m \u001b[32m━━━━━━━━━━━━━━━━━━━━\u001b[0m\u001b[37m\u001b[0m \u001b[1m0s\u001b[0m 32ms/step\n",
            "\u001b[1m1/1\u001b[0m \u001b[32m━━━━━━━━━━━━━━━━━━━━\u001b[0m\u001b[37m\u001b[0m \u001b[1m0s\u001b[0m 31ms/step\n",
            "\u001b[1m1/1\u001b[0m \u001b[32m━━━━━━━━━━━━━━━━━━━━\u001b[0m\u001b[37m\u001b[0m \u001b[1m0s\u001b[0m 33ms/step\n",
            "\u001b[1m1/1\u001b[0m \u001b[32m━━━━━━━━━━━━━━━━━━━━\u001b[0m\u001b[37m\u001b[0m \u001b[1m0s\u001b[0m 33ms/step\n",
            "\u001b[1m1/1\u001b[0m \u001b[32m━━━━━━━━━━━━━━━━━━━━\u001b[0m\u001b[37m\u001b[0m \u001b[1m0s\u001b[0m 30ms/step\n",
            "\u001b[1m1/1\u001b[0m \u001b[32m━━━━━━━━━━━━━━━━━━━━\u001b[0m\u001b[37m\u001b[0m \u001b[1m0s\u001b[0m 34ms/step\n"
          ]
        }
      ]
    },
    {
      "cell_type": "code",
      "source": [
        "print(duration)"
      ],
      "metadata": {
        "colab": {
          "base_uri": "https://localhost:8080/"
        },
        "id": "-Pa1_xhk86w3",
        "outputId": "ffd81f10-4a93-46dc-b28e-45adc5c79a77"
      },
      "execution_count": null,
      "outputs": [
        {
          "output_type": "stream",
          "name": "stdout",
          "text": [
            "0.026182889938354492\n"
          ]
        }
      ]
    },
    {
      "cell_type": "code",
      "source": [
        "generated_notes.head(10)"
      ],
      "metadata": {
        "colab": {
          "base_uri": "https://localhost:8080/",
          "height": 363
        },
        "id": "HXEadU7f3XRt",
        "outputId": "d6ba2df7-6a4a-4169-8dd3-5be1710f7739"
      },
      "execution_count": null,
      "outputs": [
        {
          "output_type": "execute_result",
          "data": {
            "text/plain": [
              "   pitch      step  duration      start        end\n",
              "0     67  0.000000  2.112565   0.000000   2.112565\n",
              "1     88  5.942536  0.387258   5.942536   6.329794\n",
              "2     88  5.062245  0.216333  11.004781  11.221114\n",
              "3     83  5.214511  0.209324  16.219292  16.428616\n",
              "4     88  5.215885  0.205951  21.435177  21.641128\n",
              "5     78  5.225343  0.201182  26.660520  26.861702\n",
              "6     88  5.182431  0.207418  31.842951  32.050369\n",
              "7     88  5.224943  0.202446  37.067894  37.270340\n",
              "8     83  5.228539  0.198005  42.296433  42.494438\n",
              "9     78  5.226016  0.196111  47.522449  47.718560"
            ],
            "text/html": [
              "\n",
              "  <div id=\"df-3154cc7a-4aaa-4363-82cc-9b08e32a1a8d\" class=\"colab-df-container\">\n",
              "    <div>\n",
              "<style scoped>\n",
              "    .dataframe tbody tr th:only-of-type {\n",
              "        vertical-align: middle;\n",
              "    }\n",
              "\n",
              "    .dataframe tbody tr th {\n",
              "        vertical-align: top;\n",
              "    }\n",
              "\n",
              "    .dataframe thead th {\n",
              "        text-align: right;\n",
              "    }\n",
              "</style>\n",
              "<table border=\"1\" class=\"dataframe\">\n",
              "  <thead>\n",
              "    <tr style=\"text-align: right;\">\n",
              "      <th></th>\n",
              "      <th>pitch</th>\n",
              "      <th>step</th>\n",
              "      <th>duration</th>\n",
              "      <th>start</th>\n",
              "      <th>end</th>\n",
              "    </tr>\n",
              "  </thead>\n",
              "  <tbody>\n",
              "    <tr>\n",
              "      <th>0</th>\n",
              "      <td>67</td>\n",
              "      <td>0.000000</td>\n",
              "      <td>2.112565</td>\n",
              "      <td>0.000000</td>\n",
              "      <td>2.112565</td>\n",
              "    </tr>\n",
              "    <tr>\n",
              "      <th>1</th>\n",
              "      <td>88</td>\n",
              "      <td>5.942536</td>\n",
              "      <td>0.387258</td>\n",
              "      <td>5.942536</td>\n",
              "      <td>6.329794</td>\n",
              "    </tr>\n",
              "    <tr>\n",
              "      <th>2</th>\n",
              "      <td>88</td>\n",
              "      <td>5.062245</td>\n",
              "      <td>0.216333</td>\n",
              "      <td>11.004781</td>\n",
              "      <td>11.221114</td>\n",
              "    </tr>\n",
              "    <tr>\n",
              "      <th>3</th>\n",
              "      <td>83</td>\n",
              "      <td>5.214511</td>\n",
              "      <td>0.209324</td>\n",
              "      <td>16.219292</td>\n",
              "      <td>16.428616</td>\n",
              "    </tr>\n",
              "    <tr>\n",
              "      <th>4</th>\n",
              "      <td>88</td>\n",
              "      <td>5.215885</td>\n",
              "      <td>0.205951</td>\n",
              "      <td>21.435177</td>\n",
              "      <td>21.641128</td>\n",
              "    </tr>\n",
              "    <tr>\n",
              "      <th>5</th>\n",
              "      <td>78</td>\n",
              "      <td>5.225343</td>\n",
              "      <td>0.201182</td>\n",
              "      <td>26.660520</td>\n",
              "      <td>26.861702</td>\n",
              "    </tr>\n",
              "    <tr>\n",
              "      <th>6</th>\n",
              "      <td>88</td>\n",
              "      <td>5.182431</td>\n",
              "      <td>0.207418</td>\n",
              "      <td>31.842951</td>\n",
              "      <td>32.050369</td>\n",
              "    </tr>\n",
              "    <tr>\n",
              "      <th>7</th>\n",
              "      <td>88</td>\n",
              "      <td>5.224943</td>\n",
              "      <td>0.202446</td>\n",
              "      <td>37.067894</td>\n",
              "      <td>37.270340</td>\n",
              "    </tr>\n",
              "    <tr>\n",
              "      <th>8</th>\n",
              "      <td>83</td>\n",
              "      <td>5.228539</td>\n",
              "      <td>0.198005</td>\n",
              "      <td>42.296433</td>\n",
              "      <td>42.494438</td>\n",
              "    </tr>\n",
              "    <tr>\n",
              "      <th>9</th>\n",
              "      <td>78</td>\n",
              "      <td>5.226016</td>\n",
              "      <td>0.196111</td>\n",
              "      <td>47.522449</td>\n",
              "      <td>47.718560</td>\n",
              "    </tr>\n",
              "  </tbody>\n",
              "</table>\n",
              "</div>\n",
              "    <div class=\"colab-df-buttons\">\n",
              "\n",
              "  <div class=\"colab-df-container\">\n",
              "    <button class=\"colab-df-convert\" onclick=\"convertToInteractive('df-3154cc7a-4aaa-4363-82cc-9b08e32a1a8d')\"\n",
              "            title=\"Convert this dataframe to an interactive table.\"\n",
              "            style=\"display:none;\">\n",
              "\n",
              "  <svg xmlns=\"http://www.w3.org/2000/svg\" height=\"24px\" viewBox=\"0 -960 960 960\">\n",
              "    <path d=\"M120-120v-720h720v720H120Zm60-500h600v-160H180v160Zm220 220h160v-160H400v160Zm0 220h160v-160H400v160ZM180-400h160v-160H180v160Zm440 0h160v-160H620v160ZM180-180h160v-160H180v160Zm440 0h160v-160H620v160Z\"/>\n",
              "  </svg>\n",
              "    </button>\n",
              "\n",
              "  <style>\n",
              "    .colab-df-container {\n",
              "      display:flex;\n",
              "      gap: 12px;\n",
              "    }\n",
              "\n",
              "    .colab-df-convert {\n",
              "      background-color: #E8F0FE;\n",
              "      border: none;\n",
              "      border-radius: 50%;\n",
              "      cursor: pointer;\n",
              "      display: none;\n",
              "      fill: #1967D2;\n",
              "      height: 32px;\n",
              "      padding: 0 0 0 0;\n",
              "      width: 32px;\n",
              "    }\n",
              "\n",
              "    .colab-df-convert:hover {\n",
              "      background-color: #E2EBFA;\n",
              "      box-shadow: 0px 1px 2px rgba(60, 64, 67, 0.3), 0px 1px 3px 1px rgba(60, 64, 67, 0.15);\n",
              "      fill: #174EA6;\n",
              "    }\n",
              "\n",
              "    .colab-df-buttons div {\n",
              "      margin-bottom: 4px;\n",
              "    }\n",
              "\n",
              "    [theme=dark] .colab-df-convert {\n",
              "      background-color: #3B4455;\n",
              "      fill: #D2E3FC;\n",
              "    }\n",
              "\n",
              "    [theme=dark] .colab-df-convert:hover {\n",
              "      background-color: #434B5C;\n",
              "      box-shadow: 0px 1px 3px 1px rgba(0, 0, 0, 0.15);\n",
              "      filter: drop-shadow(0px 1px 2px rgba(0, 0, 0, 0.3));\n",
              "      fill: #FFFFFF;\n",
              "    }\n",
              "  </style>\n",
              "\n",
              "    <script>\n",
              "      const buttonEl =\n",
              "        document.querySelector('#df-3154cc7a-4aaa-4363-82cc-9b08e32a1a8d button.colab-df-convert');\n",
              "      buttonEl.style.display =\n",
              "        google.colab.kernel.accessAllowed ? 'block' : 'none';\n",
              "\n",
              "      async function convertToInteractive(key) {\n",
              "        const element = document.querySelector('#df-3154cc7a-4aaa-4363-82cc-9b08e32a1a8d');\n",
              "        const dataTable =\n",
              "          await google.colab.kernel.invokeFunction('convertToInteractive',\n",
              "                                                    [key], {});\n",
              "        if (!dataTable) return;\n",
              "\n",
              "        const docLinkHtml = 'Like what you see? Visit the ' +\n",
              "          '<a target=\"_blank\" href=https://colab.research.google.com/notebooks/data_table.ipynb>data table notebook</a>'\n",
              "          + ' to learn more about interactive tables.';\n",
              "        element.innerHTML = '';\n",
              "        dataTable['output_type'] = 'display_data';\n",
              "        await google.colab.output.renderOutput(dataTable, element);\n",
              "        const docLink = document.createElement('div');\n",
              "        docLink.innerHTML = docLinkHtml;\n",
              "        element.appendChild(docLink);\n",
              "      }\n",
              "    </script>\n",
              "  </div>\n",
              "\n",
              "\n",
              "<div id=\"df-aca60f0f-352c-431e-82f5-651b677c2fd7\">\n",
              "  <button class=\"colab-df-quickchart\" onclick=\"quickchart('df-aca60f0f-352c-431e-82f5-651b677c2fd7')\"\n",
              "            title=\"Suggest charts\"\n",
              "            style=\"display:none;\">\n",
              "\n",
              "<svg xmlns=\"http://www.w3.org/2000/svg\" height=\"24px\"viewBox=\"0 0 24 24\"\n",
              "     width=\"24px\">\n",
              "    <g>\n",
              "        <path d=\"M19 3H5c-1.1 0-2 .9-2 2v14c0 1.1.9 2 2 2h14c1.1 0 2-.9 2-2V5c0-1.1-.9-2-2-2zM9 17H7v-7h2v7zm4 0h-2V7h2v10zm4 0h-2v-4h2v4z\"/>\n",
              "    </g>\n",
              "</svg>\n",
              "  </button>\n",
              "\n",
              "<style>\n",
              "  .colab-df-quickchart {\n",
              "      --bg-color: #E8F0FE;\n",
              "      --fill-color: #1967D2;\n",
              "      --hover-bg-color: #E2EBFA;\n",
              "      --hover-fill-color: #174EA6;\n",
              "      --disabled-fill-color: #AAA;\n",
              "      --disabled-bg-color: #DDD;\n",
              "  }\n",
              "\n",
              "  [theme=dark] .colab-df-quickchart {\n",
              "      --bg-color: #3B4455;\n",
              "      --fill-color: #D2E3FC;\n",
              "      --hover-bg-color: #434B5C;\n",
              "      --hover-fill-color: #FFFFFF;\n",
              "      --disabled-bg-color: #3B4455;\n",
              "      --disabled-fill-color: #666;\n",
              "  }\n",
              "\n",
              "  .colab-df-quickchart {\n",
              "    background-color: var(--bg-color);\n",
              "    border: none;\n",
              "    border-radius: 50%;\n",
              "    cursor: pointer;\n",
              "    display: none;\n",
              "    fill: var(--fill-color);\n",
              "    height: 32px;\n",
              "    padding: 0;\n",
              "    width: 32px;\n",
              "  }\n",
              "\n",
              "  .colab-df-quickchart:hover {\n",
              "    background-color: var(--hover-bg-color);\n",
              "    box-shadow: 0 1px 2px rgba(60, 64, 67, 0.3), 0 1px 3px 1px rgba(60, 64, 67, 0.15);\n",
              "    fill: var(--button-hover-fill-color);\n",
              "  }\n",
              "\n",
              "  .colab-df-quickchart-complete:disabled,\n",
              "  .colab-df-quickchart-complete:disabled:hover {\n",
              "    background-color: var(--disabled-bg-color);\n",
              "    fill: var(--disabled-fill-color);\n",
              "    box-shadow: none;\n",
              "  }\n",
              "\n",
              "  .colab-df-spinner {\n",
              "    border: 2px solid var(--fill-color);\n",
              "    border-color: transparent;\n",
              "    border-bottom-color: var(--fill-color);\n",
              "    animation:\n",
              "      spin 1s steps(1) infinite;\n",
              "  }\n",
              "\n",
              "  @keyframes spin {\n",
              "    0% {\n",
              "      border-color: transparent;\n",
              "      border-bottom-color: var(--fill-color);\n",
              "      border-left-color: var(--fill-color);\n",
              "    }\n",
              "    20% {\n",
              "      border-color: transparent;\n",
              "      border-left-color: var(--fill-color);\n",
              "      border-top-color: var(--fill-color);\n",
              "    }\n",
              "    30% {\n",
              "      border-color: transparent;\n",
              "      border-left-color: var(--fill-color);\n",
              "      border-top-color: var(--fill-color);\n",
              "      border-right-color: var(--fill-color);\n",
              "    }\n",
              "    40% {\n",
              "      border-color: transparent;\n",
              "      border-right-color: var(--fill-color);\n",
              "      border-top-color: var(--fill-color);\n",
              "    }\n",
              "    60% {\n",
              "      border-color: transparent;\n",
              "      border-right-color: var(--fill-color);\n",
              "    }\n",
              "    80% {\n",
              "      border-color: transparent;\n",
              "      border-right-color: var(--fill-color);\n",
              "      border-bottom-color: var(--fill-color);\n",
              "    }\n",
              "    90% {\n",
              "      border-color: transparent;\n",
              "      border-bottom-color: var(--fill-color);\n",
              "    }\n",
              "  }\n",
              "</style>\n",
              "\n",
              "  <script>\n",
              "    async function quickchart(key) {\n",
              "      const quickchartButtonEl =\n",
              "        document.querySelector('#' + key + ' button');\n",
              "      quickchartButtonEl.disabled = true;  // To prevent multiple clicks.\n",
              "      quickchartButtonEl.classList.add('colab-df-spinner');\n",
              "      try {\n",
              "        const charts = await google.colab.kernel.invokeFunction(\n",
              "            'suggestCharts', [key], {});\n",
              "      } catch (error) {\n",
              "        console.error('Error during call to suggestCharts:', error);\n",
              "      }\n",
              "      quickchartButtonEl.classList.remove('colab-df-spinner');\n",
              "      quickchartButtonEl.classList.add('colab-df-quickchart-complete');\n",
              "    }\n",
              "    (() => {\n",
              "      let quickchartButtonEl =\n",
              "        document.querySelector('#df-aca60f0f-352c-431e-82f5-651b677c2fd7 button');\n",
              "      quickchartButtonEl.style.display =\n",
              "        google.colab.kernel.accessAllowed ? 'block' : 'none';\n",
              "    })();\n",
              "  </script>\n",
              "</div>\n",
              "\n",
              "    </div>\n",
              "  </div>\n"
            ],
            "application/vnd.google.colaboratory.intrinsic+json": {
              "type": "dataframe",
              "variable_name": "generated_notes",
              "summary": "{\n  \"name\": \"generated_notes\",\n  \"rows\": 125,\n  \"fields\": [\n    {\n      \"column\": \"pitch\",\n      \"properties\": {\n        \"dtype\": \"number\",\n        \"std\": 4,\n        \"min\": 67,\n        \"max\": 96,\n        \"num_unique_values\": 19,\n        \"samples\": [\n          67,\n          71,\n          87\n        ],\n        \"semantic_type\": \"\",\n        \"description\": \"\"\n      }\n    },\n    {\n      \"column\": \"step\",\n      \"properties\": {\n        \"dtype\": \"number\",\n        \"std\": 0.5194169827563344,\n        \"min\": 0.0,\n        \"max\": 5.942536354064941,\n        \"num_unique_values\": 125,\n        \"samples\": [\n          5.21742582321167,\n          4.395188331604004,\n          4.407972812652588\n        ],\n        \"semantic_type\": \"\",\n        \"description\": \"\"\n      }\n    },\n    {\n      \"column\": \"duration\",\n      \"properties\": {\n        \"dtype\": \"number\",\n        \"std\": 0.19815918976172395,\n        \"min\": 0.0,\n        \"max\": 2.112565279006958,\n        \"num_unique_values\": 113,\n        \"samples\": [\n          0.026076078414916992,\n          0.20595109462738037,\n          0.026171565055847168\n        ],\n        \"semantic_type\": \"\",\n        \"description\": \"\"\n      }\n    },\n    {\n      \"column\": \"start\",\n      \"properties\": {\n        \"dtype\": \"number\",\n        \"std\": 161.27781820218553,\n        \"min\": 0.0,\n        \"max\": 561.7912273406982,\n        \"num_unique_values\": 125,\n        \"samples\": [\n          94.44031047821045,\n          202.7606282234192,\n          176.36231327056885\n        ],\n        \"semantic_type\": \"\",\n        \"description\": \"\"\n      }\n    },\n    {\n      \"column\": \"end\",\n      \"properties\": {\n        \"dtype\": \"number\",\n        \"std\": 161.2041713925776,\n        \"min\": 2.112565279006958,\n        \"max\": 561.8174102306366,\n        \"num_unique_values\": 125,\n        \"samples\": [\n          94.64354526996613,\n          202.76904886960983,\n          176.36231327056885\n        ],\n        \"semantic_type\": \"\",\n        \"description\": \"\"\n      }\n    }\n  ]\n}"
            }
          },
          "metadata": {},
          "execution_count": 66
        }
      ]
    },
    {
      "cell_type": "code",
      "source": [],
      "metadata": {
        "id": "8s57HCg_3cUf"
      },
      "execution_count": null,
      "outputs": []
    },
    {
      "cell_type": "code",
      "source": [
        "plot_piano_roll(generated_notes)"
      ],
      "metadata": {
        "colab": {
          "base_uri": "https://localhost:8080/",
          "height": 272
        },
        "id": "SQrsBz5j4Kvx",
        "outputId": "868a2a5e-5fbf-46e8-f266-cecdb82f2e36"
      },
      "execution_count": null,
      "outputs": [
        {
          "output_type": "display_data",
          "data": {
            "text/plain": [
              "<Figure size 2000x400 with 1 Axes>"
            ],
            "image/png": "[encoded data removed]"
          },
          "metadata": {}
        }
      ]
    },
    {
      "cell_type": "code",
      "source": [
        "out_file = 'outpu.mid'\n",
        "out_pm = notes_to_midi(\n",
        "    generated_notes, out_file=out_file, instrument_name='Acoustic Bass')\n"
      ],
      "metadata": {
        "id": "C3Lgn4F_6EaW"
      },
      "execution_count": null,
      "outputs": []
    }
  ]
}